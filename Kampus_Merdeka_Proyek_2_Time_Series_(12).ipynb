{
  "nbformat": 4,
  "nbformat_minor": 0,
  "metadata": {
    "colab": {
      "name": "Kampus Merdeka-Proyek 2 Time Series (11).ipynb",
      "provenance": [],
      "authorship_tag": "ABX9TyM95E3FLK8E+mSZxmGLkBlz",
      "include_colab_link": true
    },
    "kernelspec": {
      "display_name": "Python 3",
      "name": "python3"
    },
    "language_info": {
      "name": "python"
    },
    "accelerator": "GPU"
  },
  "cells": [
    {
      "cell_type": "markdown",
      "metadata": {
        "id": "view-in-github",
        "colab_type": "text"
      },
      "source": [
        "<a href=\"https://colab.research.google.com/github/shintafiaa/Kampus-Merdeka-Pengembangan-ML/blob/main/Kampus_Merdeka_Proyek_2_Time_Series_(12).ipynb\" target=\"_parent\"><img src=\"https://colab.research.google.com/assets/colab-badge.svg\" alt=\"Open In Colab\"/></a>"
      ]
    },
    {
      "cell_type": "markdown",
      "metadata": {
        "id": "j-B2uDgy0jk5"
      },
      "source": [
        "Shinta Roudlotu Hanafia\n",
        "\n",
        "Submission ke-2 Modul Pengembangan ML pada Dicoding Course\n",
        "\n",
        "LSTM-Time Series-Weather\n",
        "File submisi proyek ke-2 modul Pengembangan Machine Learning mengenai LSTM-Time Series, temperature changes. \n",
        "\n",
        "shintafiaa@gmail.com\n",
        "\n",
        "2 Oktober 2021"
      ]
    },
    {
      "cell_type": "code",
      "metadata": {
        "id": "IbrcLKwN0ZhO"
      },
      "source": [
        "import numpy as np\n",
        "import pandas as pd\n",
        "from keras.layers import Dense, LSTM\n",
        "import matplotlib.pyplot as plt\n",
        "import tensorflow as tf\n",
        "import seaborn as sns\n",
        "\n",
        "from sklearn import preprocessing\n",
        "from sklearn.preprocessing import MinMaxScaler\n",
        "from sklearn.model_selection import train_test_split"
      ],
      "execution_count": 1,
      "outputs": []
    },
    {
      "cell_type": "code",
      "metadata": {
        "id": "_-7r64a30vWw"
      },
      "source": [
        "df = pd.read_csv('weatherHistory.csv')"
      ],
      "execution_count": 2,
      "outputs": []
    },
    {
      "cell_type": "code",
      "metadata": {
        "colab": {
          "base_uri": "https://localhost:8080/"
        },
        "id": "TtdxubtqjZiF",
        "outputId": "7ee41ca3-7edd-4ed8-a1bb-9094e7adebf3"
      },
      "source": [
        "df.info()"
      ],
      "execution_count": 3,
      "outputs": [
        {
          "output_type": "stream",
          "name": "stdout",
          "text": [
            "<class 'pandas.core.frame.DataFrame'>\n",
            "RangeIndex: 96453 entries, 0 to 96452\n",
            "Data columns (total 12 columns):\n",
            " #   Column                    Non-Null Count  Dtype  \n",
            "---  ------                    --------------  -----  \n",
            " 0   Formatted Date            96453 non-null  object \n",
            " 1   Summary                   96453 non-null  object \n",
            " 2   Precip Type               95936 non-null  object \n",
            " 3   Temperature (C)           96453 non-null  float64\n",
            " 4   Apparent Temperature (C)  96453 non-null  float64\n",
            " 5   Humidity                  96453 non-null  float64\n",
            " 6   Wind Speed (km/h)         96453 non-null  float64\n",
            " 7   Wind Bearing (degrees)    96453 non-null  float64\n",
            " 8   Visibility (km)           96453 non-null  float64\n",
            " 9   Loud Cover                96453 non-null  float64\n",
            " 10  Pressure (millibars)      96453 non-null  float64\n",
            " 11  Daily Summary             96453 non-null  object \n",
            "dtypes: float64(8), object(4)\n",
            "memory usage: 8.8+ MB\n"
          ]
        }
      ]
    },
    {
      "cell_type": "code",
      "metadata": {
        "id": "1YxHjGfF1a9t"
      },
      "source": [
        "new_df = df.loc[:,['Formatted Date','Temperature (C)']]\n",
        "df_train =  new_df.loc[:9839,['Formatted Date','Temperature (C)']]\n",
        "df_val = new_df.loc[9840:12299,['Formatted Date','Temperature (C)']]"
      ],
      "execution_count": 4,
      "outputs": []
    },
    {
      "cell_type": "code",
      "metadata": {
        "id": "RSBO18QG5w04"
      },
      "source": [
        "dates = df['Formatted Date'].values\n",
        "temp  = df['Temperature (C)'].values\n",
        "\n",
        "dates_train = df_train['Formatted Date'].values\n",
        "temp_train  = df_train['Temperature (C)'].values\n",
        "\n",
        "dates_val = df_val['Formatted Date'].values\n",
        "temp_val  = df_val['Temperature (C)'].values"
      ],
      "execution_count": 5,
      "outputs": []
    },
    {
      "cell_type": "code",
      "metadata": {
        "colab": {
          "base_uri": "https://localhost:8080/",
          "height": 313
        },
        "id": "GjaPO91R1jUh",
        "outputId": "6bb072c6-d523-4a12-f9a4-41549370a457"
      },
      "source": [
        "plt.figure(figsize=(15,5))\n",
        "plt.plot(dates_train,temp_train)\n",
        "plt.title(\"Temperature\",\n",
        "          fontsize=20);\n",
        "plt.plot(dates_val,temp_val)\n",
        "plt.title(\"Temperature\",\n",
        "          fontsize=20);          "
      ],
      "execution_count": 6,
      "outputs": [
        {
          "output_type": "display_data",
          "data": {
            "image/png": "[encoded data removed]",
            "text/plain": [
              "<Figure size 1080x360 with 1 Axes>"
            ]
          },
          "metadata": {
            "needs_background": "light"
          }
        }
      ]
    },
    {
      "cell_type": "code",
      "metadata": {
        "colab": {
          "base_uri": "https://localhost:8080/",
          "height": 423
        },
        "id": "QZnSQQaMjrWG",
        "outputId": "09cef061-2537-420a-ebde-d8ad05e0c5f0"
      },
      "source": [
        "new_df"
      ],
      "execution_count": 7,
      "outputs": [
        {
          "output_type": "execute_result",
          "data": {
            "text/html": [
              "<div>\n",
              "<style scoped>\n",
              "    .dataframe tbody tr th:only-of-type {\n",
              "        vertical-align: middle;\n",
              "    }\n",
              "\n",
              "    .dataframe tbody tr th {\n",
              "        vertical-align: top;\n",
              "    }\n",
              "\n",
              "    .dataframe thead th {\n",
              "        text-align: right;\n",
              "    }\n",
              "</style>\n",
              "<table border=\"1\" class=\"dataframe\">\n",
              "  <thead>\n",
              "    <tr style=\"text-align: right;\">\n",
              "      <th></th>\n",
              "      <th>Formatted Date</th>\n",
              "      <th>Temperature (C)</th>\n",
              "    </tr>\n",
              "  </thead>\n",
              "  <tbody>\n",
              "    <tr>\n",
              "      <th>0</th>\n",
              "      <td>2006-04-01 00:00:00.000 +0200</td>\n",
              "      <td>9.472222</td>\n",
              "    </tr>\n",
              "    <tr>\n",
              "      <th>1</th>\n",
              "      <td>2006-04-01 01:00:00.000 +0200</td>\n",
              "      <td>9.355556</td>\n",
              "    </tr>\n",
              "    <tr>\n",
              "      <th>2</th>\n",
              "      <td>2006-04-01 02:00:00.000 +0200</td>\n",
              "      <td>9.377778</td>\n",
              "    </tr>\n",
              "    <tr>\n",
              "      <th>3</th>\n",
              "      <td>2006-04-01 03:00:00.000 +0200</td>\n",
              "      <td>8.288889</td>\n",
              "    </tr>\n",
              "    <tr>\n",
              "      <th>4</th>\n",
              "      <td>2006-04-01 04:00:00.000 +0200</td>\n",
              "      <td>8.755556</td>\n",
              "    </tr>\n",
              "    <tr>\n",
              "      <th>...</th>\n",
              "      <td>...</td>\n",
              "      <td>...</td>\n",
              "    </tr>\n",
              "    <tr>\n",
              "      <th>96448</th>\n",
              "      <td>2016-09-09 19:00:00.000 +0200</td>\n",
              "      <td>26.016667</td>\n",
              "    </tr>\n",
              "    <tr>\n",
              "      <th>96449</th>\n",
              "      <td>2016-09-09 20:00:00.000 +0200</td>\n",
              "      <td>24.583333</td>\n",
              "    </tr>\n",
              "    <tr>\n",
              "      <th>96450</th>\n",
              "      <td>2016-09-09 21:00:00.000 +0200</td>\n",
              "      <td>22.038889</td>\n",
              "    </tr>\n",
              "    <tr>\n",
              "      <th>96451</th>\n",
              "      <td>2016-09-09 22:00:00.000 +0200</td>\n",
              "      <td>21.522222</td>\n",
              "    </tr>\n",
              "    <tr>\n",
              "      <th>96452</th>\n",
              "      <td>2016-09-09 23:00:00.000 +0200</td>\n",
              "      <td>20.438889</td>\n",
              "    </tr>\n",
              "  </tbody>\n",
              "</table>\n",
              "<p>96453 rows × 2 columns</p>\n",
              "</div>"
            ],
            "text/plain": [
              "                      Formatted Date  Temperature (C)\n",
              "0      2006-04-01 00:00:00.000 +0200         9.472222\n",
              "1      2006-04-01 01:00:00.000 +0200         9.355556\n",
              "2      2006-04-01 02:00:00.000 +0200         9.377778\n",
              "3      2006-04-01 03:00:00.000 +0200         8.288889\n",
              "4      2006-04-01 04:00:00.000 +0200         8.755556\n",
              "...                              ...              ...\n",
              "96448  2016-09-09 19:00:00.000 +0200        26.016667\n",
              "96449  2016-09-09 20:00:00.000 +0200        24.583333\n",
              "96450  2016-09-09 21:00:00.000 +0200        22.038889\n",
              "96451  2016-09-09 22:00:00.000 +0200        21.522222\n",
              "96452  2016-09-09 23:00:00.000 +0200        20.438889\n",
              "\n",
              "[96453 rows x 2 columns]"
            ]
          },
          "metadata": {},
          "execution_count": 7
        }
      ]
    },
    {
      "cell_type": "code",
      "metadata": {
        "colab": {
          "base_uri": "https://localhost:8080/",
          "height": 423
        },
        "id": "q4loUWoF1Qtg",
        "outputId": "03628489-7fb3-48d6-d469-10f4ac52e426"
      },
      "source": [
        "df_train"
      ],
      "execution_count": 8,
      "outputs": [
        {
          "output_type": "execute_result",
          "data": {
            "text/html": [
              "<div>\n",
              "<style scoped>\n",
              "    .dataframe tbody tr th:only-of-type {\n",
              "        vertical-align: middle;\n",
              "    }\n",
              "\n",
              "    .dataframe tbody tr th {\n",
              "        vertical-align: top;\n",
              "    }\n",
              "\n",
              "    .dataframe thead th {\n",
              "        text-align: right;\n",
              "    }\n",
              "</style>\n",
              "<table border=\"1\" class=\"dataframe\">\n",
              "  <thead>\n",
              "    <tr style=\"text-align: right;\">\n",
              "      <th></th>\n",
              "      <th>Formatted Date</th>\n",
              "      <th>Temperature (C)</th>\n",
              "    </tr>\n",
              "  </thead>\n",
              "  <tbody>\n",
              "    <tr>\n",
              "      <th>0</th>\n",
              "      <td>2006-04-01 00:00:00.000 +0200</td>\n",
              "      <td>9.472222</td>\n",
              "    </tr>\n",
              "    <tr>\n",
              "      <th>1</th>\n",
              "      <td>2006-04-01 01:00:00.000 +0200</td>\n",
              "      <td>9.355556</td>\n",
              "    </tr>\n",
              "    <tr>\n",
              "      <th>2</th>\n",
              "      <td>2006-04-01 02:00:00.000 +0200</td>\n",
              "      <td>9.377778</td>\n",
              "    </tr>\n",
              "    <tr>\n",
              "      <th>3</th>\n",
              "      <td>2006-04-01 03:00:00.000 +0200</td>\n",
              "      <td>8.288889</td>\n",
              "    </tr>\n",
              "    <tr>\n",
              "      <th>4</th>\n",
              "      <td>2006-04-01 04:00:00.000 +0200</td>\n",
              "      <td>8.755556</td>\n",
              "    </tr>\n",
              "    <tr>\n",
              "      <th>...</th>\n",
              "      <td>...</td>\n",
              "      <td>...</td>\n",
              "    </tr>\n",
              "    <tr>\n",
              "      <th>9835</th>\n",
              "      <td>2007-08-21 19:00:00.000 +0200</td>\n",
              "      <td>28.772222</td>\n",
              "    </tr>\n",
              "    <tr>\n",
              "      <th>9836</th>\n",
              "      <td>2007-08-21 20:00:00.000 +0200</td>\n",
              "      <td>25.877778</td>\n",
              "    </tr>\n",
              "    <tr>\n",
              "      <th>9837</th>\n",
              "      <td>2007-08-21 21:00:00.000 +0200</td>\n",
              "      <td>23.750000</td>\n",
              "    </tr>\n",
              "    <tr>\n",
              "      <th>9838</th>\n",
              "      <td>2007-08-21 22:00:00.000 +0200</td>\n",
              "      <td>22.105556</td>\n",
              "    </tr>\n",
              "    <tr>\n",
              "      <th>9839</th>\n",
              "      <td>2007-08-21 23:00:00.000 +0200</td>\n",
              "      <td>22.566667</td>\n",
              "    </tr>\n",
              "  </tbody>\n",
              "</table>\n",
              "<p>9840 rows × 2 columns</p>\n",
              "</div>"
            ],
            "text/plain": [
              "                     Formatted Date  Temperature (C)\n",
              "0     2006-04-01 00:00:00.000 +0200         9.472222\n",
              "1     2006-04-01 01:00:00.000 +0200         9.355556\n",
              "2     2006-04-01 02:00:00.000 +0200         9.377778\n",
              "3     2006-04-01 03:00:00.000 +0200         8.288889\n",
              "4     2006-04-01 04:00:00.000 +0200         8.755556\n",
              "...                             ...              ...\n",
              "9835  2007-08-21 19:00:00.000 +0200        28.772222\n",
              "9836  2007-08-21 20:00:00.000 +0200        25.877778\n",
              "9837  2007-08-21 21:00:00.000 +0200        23.750000\n",
              "9838  2007-08-21 22:00:00.000 +0200        22.105556\n",
              "9839  2007-08-21 23:00:00.000 +0200        22.566667\n",
              "\n",
              "[9840 rows x 2 columns]"
            ]
          },
          "metadata": {},
          "execution_count": 8
        }
      ]
    },
    {
      "cell_type": "code",
      "metadata": {
        "colab": {
          "base_uri": "https://localhost:8080/"
        },
        "id": "Wr6kahsZS_KP",
        "outputId": "4badf07b-81fb-4913-9298-df00911c171e"
      },
      "source": [
        "df_train.isnull().sum()"
      ],
      "execution_count": 9,
      "outputs": [
        {
          "output_type": "execute_result",
          "data": {
            "text/plain": [
              "Formatted Date     0\n",
              "Temperature (C)    0\n",
              "dtype: int64"
            ]
          },
          "metadata": {},
          "execution_count": 9
        }
      ]
    },
    {
      "cell_type": "code",
      "metadata": {
        "colab": {
          "base_uri": "https://localhost:8080/",
          "height": 423
        },
        "id": "LLXZsXfkUX0t",
        "outputId": "5c8cb0cc-0cc0-417e-f2fe-1bc4f6051b72"
      },
      "source": [
        "df_val"
      ],
      "execution_count": 10,
      "outputs": [
        {
          "output_type": "execute_result",
          "data": {
            "text/html": [
              "<div>\n",
              "<style scoped>\n",
              "    .dataframe tbody tr th:only-of-type {\n",
              "        vertical-align: middle;\n",
              "    }\n",
              "\n",
              "    .dataframe tbody tr th {\n",
              "        vertical-align: top;\n",
              "    }\n",
              "\n",
              "    .dataframe thead th {\n",
              "        text-align: right;\n",
              "    }\n",
              "</style>\n",
              "<table border=\"1\" class=\"dataframe\">\n",
              "  <thead>\n",
              "    <tr style=\"text-align: right;\">\n",
              "      <th></th>\n",
              "      <th>Formatted Date</th>\n",
              "      <th>Temperature (C)</th>\n",
              "    </tr>\n",
              "  </thead>\n",
              "  <tbody>\n",
              "    <tr>\n",
              "      <th>9840</th>\n",
              "      <td>2007-08-22 00:00:00.000 +0200</td>\n",
              "      <td>21.483333</td>\n",
              "    </tr>\n",
              "    <tr>\n",
              "      <th>9841</th>\n",
              "      <td>2007-08-22 01:00:00.000 +0200</td>\n",
              "      <td>19.933333</td>\n",
              "    </tr>\n",
              "    <tr>\n",
              "      <th>9842</th>\n",
              "      <td>2007-08-22 02:00:00.000 +0200</td>\n",
              "      <td>21.833333</td>\n",
              "    </tr>\n",
              "    <tr>\n",
              "      <th>9843</th>\n",
              "      <td>2007-08-22 03:00:00.000 +0200</td>\n",
              "      <td>18.866667</td>\n",
              "    </tr>\n",
              "    <tr>\n",
              "      <th>9844</th>\n",
              "      <td>2007-08-22 04:00:00.000 +0200</td>\n",
              "      <td>18.266667</td>\n",
              "    </tr>\n",
              "    <tr>\n",
              "      <th>...</th>\n",
              "      <td>...</td>\n",
              "      <td>...</td>\n",
              "    </tr>\n",
              "    <tr>\n",
              "      <th>12295</th>\n",
              "      <td>2007-01-05 07:00:00.000 +0100</td>\n",
              "      <td>2.466667</td>\n",
              "    </tr>\n",
              "    <tr>\n",
              "      <th>12296</th>\n",
              "      <td>2007-01-05 08:00:00.000 +0100</td>\n",
              "      <td>2.316667</td>\n",
              "    </tr>\n",
              "    <tr>\n",
              "      <th>12297</th>\n",
              "      <td>2007-01-05 09:00:00.000 +0100</td>\n",
              "      <td>2.966667</td>\n",
              "    </tr>\n",
              "    <tr>\n",
              "      <th>12298</th>\n",
              "      <td>2007-01-05 10:00:00.000 +0100</td>\n",
              "      <td>5.927778</td>\n",
              "    </tr>\n",
              "    <tr>\n",
              "      <th>12299</th>\n",
              "      <td>2007-01-05 11:00:00.000 +0100</td>\n",
              "      <td>8.772222</td>\n",
              "    </tr>\n",
              "  </tbody>\n",
              "</table>\n",
              "<p>2460 rows × 2 columns</p>\n",
              "</div>"
            ],
            "text/plain": [
              "                      Formatted Date  Temperature (C)\n",
              "9840   2007-08-22 00:00:00.000 +0200        21.483333\n",
              "9841   2007-08-22 01:00:00.000 +0200        19.933333\n",
              "9842   2007-08-22 02:00:00.000 +0200        21.833333\n",
              "9843   2007-08-22 03:00:00.000 +0200        18.866667\n",
              "9844   2007-08-22 04:00:00.000 +0200        18.266667\n",
              "...                              ...              ...\n",
              "12295  2007-01-05 07:00:00.000 +0100         2.466667\n",
              "12296  2007-01-05 08:00:00.000 +0100         2.316667\n",
              "12297  2007-01-05 09:00:00.000 +0100         2.966667\n",
              "12298  2007-01-05 10:00:00.000 +0100         5.927778\n",
              "12299  2007-01-05 11:00:00.000 +0100         8.772222\n",
              "\n",
              "[2460 rows x 2 columns]"
            ]
          },
          "metadata": {},
          "execution_count": 10
        }
      ]
    },
    {
      "cell_type": "code",
      "metadata": {
        "colab": {
          "base_uri": "https://localhost:8080/"
        },
        "id": "xRWdier5TB5I",
        "outputId": "21f6759d-c9da-425b-c44b-3572c86e58a5"
      },
      "source": [
        "df_val.isnull().sum()"
      ],
      "execution_count": 11,
      "outputs": [
        {
          "output_type": "execute_result",
          "data": {
            "text/plain": [
              "Formatted Date     0\n",
              "Temperature (C)    0\n",
              "dtype: int64"
            ]
          },
          "metadata": {},
          "execution_count": 11
        }
      ]
    },
    {
      "cell_type": "code",
      "metadata": {
        "colab": {
          "base_uri": "https://localhost:8080/"
        },
        "id": "d26UBLyU2Xhv",
        "outputId": "ebeaf579-0349-44d3-8baf-ca338b946313"
      },
      "source": [
        "pip install sklearn"
      ],
      "execution_count": 12,
      "outputs": [
        {
          "output_type": "stream",
          "name": "stdout",
          "text": [
            "Requirement already satisfied: sklearn in /usr/local/lib/python3.7/dist-packages (0.0)\n",
            "Requirement already satisfied: scikit-learn in /usr/local/lib/python3.7/dist-packages (from sklearn) (0.22.2.post1)\n",
            "Requirement already satisfied: scipy>=0.17.0 in /usr/local/lib/python3.7/dist-packages (from scikit-learn->sklearn) (1.4.1)\n",
            "Requirement already satisfied: joblib>=0.11 in /usr/local/lib/python3.7/dist-packages (from scikit-learn->sklearn) (1.0.1)\n",
            "Requirement already satisfied: numpy>=1.11.0 in /usr/local/lib/python3.7/dist-packages (from scikit-learn->sklearn) (1.19.5)\n"
          ]
        }
      ]
    },
    {
      "cell_type": "code",
      "metadata": {
        "colab": {
          "base_uri": "https://localhost:8080/"
        },
        "id": "EWodJyhklB8o",
        "outputId": "bb4c9585-bd0a-43ce-ea0a-41b8ca16aee7"
      },
      "source": [
        "# Normalize\n",
        "min_max_scaler = MinMaxScaler(feature_range = (0,1))\n",
        "temp_scale_train = min_max_scaler.fit_transform(df_train[['Temperature (C)']])\n",
        "df_train[['Temperature (C)']]=temp_scale_train\n",
        "temp_scale_train"
      ],
      "execution_count": 13,
      "outputs": [
        {
          "output_type": "execute_result",
          "data": {
            "text/plain": [
              "array([[0.48775158],\n",
              "       [0.4853364 ],\n",
              "       [0.48579643],\n",
              "       ...,\n",
              "       [0.78332375],\n",
              "       [0.7492812 ],\n",
              "       [0.75882691]])"
            ]
          },
          "metadata": {},
          "execution_count": 13
        }
      ]
    },
    {
      "cell_type": "code",
      "metadata": {
        "id": "8keOzxpK1yQE"
      },
      "source": [
        "#menerima sebuah series/atribut kita yang telah dikonversi menjadi tipe numpy, lalu mengembalikan label dan atribut dari dataset dalam bentuk batch\n",
        "def windowed_dataset(series, window_size, batch_size, shuffle_buffer):\n",
        "    series = tf.expand_dims(series, axis=-1)\n",
        "    ds = tf.data.Dataset.from_tensor_slices(series)\n",
        "    ds = ds.window(window_size + 1, shift=1, drop_remainder=True)\n",
        "    ds = ds.flat_map(lambda w: w.batch(window_size + 1))\n",
        "    ds = ds.shuffle(shuffle_buffer)\n",
        "    ds = ds.map(lambda w: (w[:-1], w[-1:]))\n",
        "    return ds.batch(batch_size).prefetch(1)"
      ],
      "execution_count": 14,
      "outputs": []
    },
    {
      "cell_type": "code",
      "metadata": {
        "id": "mPydqJaz10ty"
      },
      "source": [
        "#2 buah layer LSTM\n",
        "train_set = windowed_dataset(temp_train, window_size=60, batch_size=100, shuffle_buffer=1000)\n",
        "test_set = windowed_dataset(temp_val, window_size=60, batch_size=100, shuffle_buffer=1000)\n",
        "model = tf.keras.models.Sequential([\n",
        "  tf.keras.layers.LSTM(64, return_sequences=True),\n",
        "  tf.keras.layers.LSTM(64),\n",
        "  tf.keras.layers.Dense(30, activation=\"relu\"),\n",
        "  tf.keras.layers.Dropout(0.2),\n",
        "  tf.keras.layers.Dense(10, activation=\"relu\"),\n",
        "  tf.keras.layers.Dropout(0.5),\n",
        "  tf.keras.layers.Dense(1)\n",
        "])"
      ],
      "execution_count": 15,
      "outputs": []
    },
    {
      "cell_type": "code",
      "metadata": {
        "id": "YBByKrpw12Vc"
      },
      "source": [
        "class myCallback(tf.keras.callbacks.Callback):\n",
        "  def on_epoch_end(self, epoch, logs={}):\n",
        "    if(logs.get('mae')<0.09):\n",
        "      print(\"\\MAE model telah mencapai < 10%! \")\n",
        "      self.model.stop_training = True\n",
        "callbacks = myCallback()"
      ],
      "execution_count": 16,
      "outputs": []
    },
    {
      "cell_type": "code",
      "metadata": {
        "colab": {
          "base_uri": "https://localhost:8080/"
        },
        "id": "hcRpCq8k18-x",
        "outputId": "342ffbdd-d468-4136-de02-ce974b29439c"
      },
      "source": [
        "#pada optimizer, kita akan menggunakan parameter learning rate dan momentum\n",
        "#Loss function Huber\n",
        "#metrik evaluasi model MAE\n",
        "optimizer = tf.keras.optimizers.SGD(learning_rate=1.0000e-04, momentum=0.9)\n",
        "model.compile(loss=tf.keras.losses.Huber(),\n",
        "              optimizer=optimizer,\n",
        "              metrics=[\"mae\"])\n",
        "history = model.fit(train_set,epochs=200, callbacks=[callbacks], validation_data=test_set)"
      ],
      "execution_count": 17,
      "outputs": [
        {
          "output_type": "stream",
          "name": "stdout",
          "text": [
            "Epoch 1/200\n",
            "98/98 [==============================] - 15s 59ms/step - loss: 0.1366 - mae: 0.4833 - val_loss: 6.7887 - val_mae: 7.2740\n",
            "Epoch 2/200\n",
            "98/98 [==============================] - 5s 45ms/step - loss: 0.0891 - mae: 0.3722 - val_loss: 6.7312 - val_mae: 7.2173\n",
            "Epoch 3/200\n",
            "98/98 [==============================] - 5s 45ms/step - loss: 0.0640 - mae: 0.3003 - val_loss: 6.6888 - val_mae: 7.1755\n",
            "Epoch 4/200\n",
            "98/98 [==============================] - 5s 44ms/step - loss: 0.0512 - mae: 0.2615 - val_loss: 6.6573 - val_mae: 7.1441\n",
            "Epoch 5/200\n",
            "98/98 [==============================] - 5s 44ms/step - loss: 0.0442 - mae: 0.2393 - val_loss: 6.6341 - val_mae: 7.1209\n",
            "Epoch 6/200\n",
            "98/98 [==============================] - 5s 44ms/step - loss: 0.0393 - mae: 0.2256 - val_loss: 6.6164 - val_mae: 7.1031\n",
            "Epoch 7/200\n",
            "98/98 [==============================] - 5s 45ms/step - loss: 0.0363 - mae: 0.2164 - val_loss: 6.6029 - val_mae: 7.0894\n",
            "Epoch 8/200\n",
            "98/98 [==============================] - 5s 46ms/step - loss: 0.0348 - mae: 0.2125 - val_loss: 6.5919 - val_mae: 7.0783\n",
            "Epoch 9/200\n",
            "98/98 [==============================] - 5s 46ms/step - loss: 0.0324 - mae: 0.2047 - val_loss: 6.5828 - val_mae: 7.0691\n",
            "Epoch 10/200\n",
            "98/98 [==============================] - 5s 45ms/step - loss: 0.0307 - mae: 0.1993 - val_loss: 6.5757 - val_mae: 7.0619\n",
            "Epoch 11/200\n",
            "98/98 [==============================] - 5s 45ms/step - loss: 0.0309 - mae: 0.2002 - val_loss: 6.5695 - val_mae: 7.0557\n",
            "Epoch 12/200\n",
            "98/98 [==============================] - 5s 44ms/step - loss: 0.0288 - mae: 0.1931 - val_loss: 6.5641 - val_mae: 7.0502\n",
            "Epoch 13/200\n",
            "98/98 [==============================] - 5s 45ms/step - loss: 0.0281 - mae: 0.1906 - val_loss: 6.5594 - val_mae: 7.0454\n",
            "Epoch 14/200\n",
            "98/98 [==============================] - 5s 46ms/step - loss: 0.0275 - mae: 0.1894 - val_loss: 6.5548 - val_mae: 7.0408\n",
            "Epoch 15/200\n",
            "98/98 [==============================] - 5s 45ms/step - loss: 0.0268 - mae: 0.1867 - val_loss: 6.5511 - val_mae: 7.0370\n",
            "Epoch 16/200\n",
            "98/98 [==============================] - 5s 46ms/step - loss: 0.0262 - mae: 0.1846 - val_loss: 6.5478 - val_mae: 7.0336\n",
            "Epoch 17/200\n",
            "98/98 [==============================] - 5s 46ms/step - loss: 0.0255 - mae: 0.1824 - val_loss: 6.5453 - val_mae: 7.0311\n",
            "Epoch 18/200\n",
            "98/98 [==============================] - 5s 45ms/step - loss: 0.0252 - mae: 0.1814 - val_loss: 6.5427 - val_mae: 7.0284\n",
            "Epoch 19/200\n",
            "98/98 [==============================] - 5s 46ms/step - loss: 0.0247 - mae: 0.1806 - val_loss: 6.5403 - val_mae: 7.0260\n",
            "Epoch 20/200\n",
            "98/98 [==============================] - 5s 51ms/step - loss: 0.0244 - mae: 0.1791 - val_loss: 6.5381 - val_mae: 7.0238\n",
            "Epoch 21/200\n",
            "98/98 [==============================] - 5s 45ms/step - loss: 0.0242 - mae: 0.1777 - val_loss: 6.5364 - val_mae: 7.0221\n",
            "Epoch 22/200\n",
            "98/98 [==============================] - 5s 45ms/step - loss: 0.0237 - mae: 0.1771 - val_loss: 6.5343 - val_mae: 7.0200\n",
            "Epoch 23/200\n",
            "98/98 [==============================] - 5s 45ms/step - loss: 0.0239 - mae: 0.1769 - val_loss: 6.5322 - val_mae: 7.0178\n",
            "Epoch 24/200\n",
            "98/98 [==============================] - 5s 44ms/step - loss: 0.0231 - mae: 0.1748 - val_loss: 6.5302 - val_mae: 7.0158\n",
            "Epoch 25/200\n",
            "98/98 [==============================] - 5s 51ms/step - loss: 0.0231 - mae: 0.1752 - val_loss: 6.5280 - val_mae: 7.0135\n",
            "Epoch 26/200\n",
            "98/98 [==============================] - 5s 45ms/step - loss: 0.0225 - mae: 0.1726 - val_loss: 6.5259 - val_mae: 7.0114\n",
            "Epoch 27/200\n",
            "98/98 [==============================] - 5s 44ms/step - loss: 0.0227 - mae: 0.1729 - val_loss: 6.5235 - val_mae: 7.0090\n",
            "Epoch 28/200\n",
            "98/98 [==============================] - 5s 46ms/step - loss: 0.0223 - mae: 0.1714 - val_loss: 6.5215 - val_mae: 7.0070\n",
            "Epoch 29/200\n",
            "98/98 [==============================] - 5s 45ms/step - loss: 0.0215 - mae: 0.1692 - val_loss: 6.5186 - val_mae: 7.0041\n",
            "Epoch 30/200\n",
            "98/98 [==============================] - 5s 45ms/step - loss: 0.0212 - mae: 0.1681 - val_loss: 6.5162 - val_mae: 7.0017\n",
            "Epoch 31/200\n",
            "98/98 [==============================] - 5s 45ms/step - loss: 0.0213 - mae: 0.1677 - val_loss: 6.5132 - val_mae: 6.9987\n",
            "Epoch 32/200\n",
            "98/98 [==============================] - 5s 45ms/step - loss: 0.0210 - mae: 0.1675 - val_loss: 6.5104 - val_mae: 6.9959\n",
            "Epoch 33/200\n",
            "98/98 [==============================] - 5s 46ms/step - loss: 0.0205 - mae: 0.1653 - val_loss: 6.5079 - val_mae: 6.9933\n",
            "Epoch 34/200\n",
            "98/98 [==============================] - 5s 45ms/step - loss: 0.0207 - mae: 0.1662 - val_loss: 6.5055 - val_mae: 6.9910\n",
            "Epoch 35/200\n",
            "98/98 [==============================] - 5s 52ms/step - loss: 0.0204 - mae: 0.1649 - val_loss: 6.5030 - val_mae: 6.9884\n",
            "Epoch 36/200\n",
            "98/98 [==============================] - 5s 45ms/step - loss: 0.0201 - mae: 0.1634 - val_loss: 6.5008 - val_mae: 6.9862\n",
            "Epoch 37/200\n",
            "98/98 [==============================] - 5s 45ms/step - loss: 0.0198 - mae: 0.1624 - val_loss: 6.4990 - val_mae: 6.9844\n",
            "Epoch 38/200\n",
            "98/98 [==============================] - 5s 45ms/step - loss: 0.0200 - mae: 0.1634 - val_loss: 6.4984 - val_mae: 6.9838\n",
            "Epoch 39/200\n",
            "98/98 [==============================] - 5s 45ms/step - loss: 0.0197 - mae: 0.1628 - val_loss: 6.4975 - val_mae: 6.9828\n",
            "Epoch 40/200\n",
            "98/98 [==============================] - 5s 45ms/step - loss: 0.0198 - mae: 0.1623 - val_loss: 6.4966 - val_mae: 6.9819\n",
            "Epoch 41/200\n",
            "98/98 [==============================] - 5s 46ms/step - loss: 0.0193 - mae: 0.1613 - val_loss: 6.4956 - val_mae: 6.9809\n",
            "Epoch 42/200\n",
            "98/98 [==============================] - 5s 46ms/step - loss: 0.0188 - mae: 0.1586 - val_loss: 6.4948 - val_mae: 6.9801\n",
            "Epoch 43/200\n",
            "98/98 [==============================] - 5s 45ms/step - loss: 0.0188 - mae: 0.1587 - val_loss: 6.4942 - val_mae: 6.9795\n",
            "Epoch 44/200\n",
            "98/98 [==============================] - 5s 45ms/step - loss: 0.0190 - mae: 0.1584 - val_loss: 6.4936 - val_mae: 6.9789\n",
            "Epoch 45/200\n",
            "98/98 [==============================] - 5s 45ms/step - loss: 0.0185 - mae: 0.1571 - val_loss: 6.4928 - val_mae: 6.9781\n",
            "Epoch 46/200\n",
            "98/98 [==============================] - 5s 45ms/step - loss: 0.0186 - mae: 0.1579 - val_loss: 6.4921 - val_mae: 6.9774\n",
            "Epoch 47/200\n",
            "98/98 [==============================] - 5s 46ms/step - loss: 0.0182 - mae: 0.1556 - val_loss: 6.4915 - val_mae: 6.9767\n",
            "Epoch 48/200\n",
            "98/98 [==============================] - 5s 46ms/step - loss: 0.0183 - mae: 0.1567 - val_loss: 6.4909 - val_mae: 6.9762\n",
            "Epoch 49/200\n",
            "98/98 [==============================] - 5s 45ms/step - loss: 0.0181 - mae: 0.1553 - val_loss: 6.4904 - val_mae: 6.9757\n",
            "Epoch 50/200\n",
            "98/98 [==============================] - 5s 45ms/step - loss: 0.0180 - mae: 0.1559 - val_loss: 6.4896 - val_mae: 6.9748\n",
            "Epoch 51/200\n",
            "98/98 [==============================] - 5s 45ms/step - loss: 0.0181 - mae: 0.1559 - val_loss: 6.4890 - val_mae: 6.9743\n",
            "Epoch 52/200\n",
            "98/98 [==============================] - 5s 46ms/step - loss: 0.0176 - mae: 0.1532 - val_loss: 6.4882 - val_mae: 6.9734\n",
            "Epoch 53/200\n",
            "98/98 [==============================] - 5s 47ms/step - loss: 0.0177 - mae: 0.1538 - val_loss: 6.4874 - val_mae: 6.9726\n",
            "Epoch 54/200\n",
            "98/98 [==============================] - 5s 45ms/step - loss: 0.0175 - mae: 0.1531 - val_loss: 6.4869 - val_mae: 6.9721\n",
            "Epoch 55/200\n",
            "98/98 [==============================] - 5s 45ms/step - loss: 0.0172 - mae: 0.1520 - val_loss: 6.4861 - val_mae: 6.9713\n",
            "Epoch 56/200\n",
            "98/98 [==============================] - 5s 46ms/step - loss: 0.0174 - mae: 0.1530 - val_loss: 6.4853 - val_mae: 6.9705\n",
            "Epoch 57/200\n",
            "98/98 [==============================] - 5s 47ms/step - loss: 0.0171 - mae: 0.1517 - val_loss: 6.4846 - val_mae: 6.9698\n",
            "Epoch 58/200\n",
            "98/98 [==============================] - 5s 46ms/step - loss: 0.0172 - mae: 0.1518 - val_loss: 6.4841 - val_mae: 6.9693\n",
            "Epoch 59/200\n",
            "98/98 [==============================] - 5s 46ms/step - loss: 0.0167 - mae: 0.1499 - val_loss: 6.4831 - val_mae: 6.9683\n",
            "Epoch 60/200\n",
            "98/98 [==============================] - 5s 47ms/step - loss: 0.0167 - mae: 0.1497 - val_loss: 6.4823 - val_mae: 6.9674\n",
            "Epoch 61/200\n",
            "98/98 [==============================] - 5s 46ms/step - loss: 0.0168 - mae: 0.1502 - val_loss: 6.4816 - val_mae: 6.9668\n",
            "Epoch 62/200\n",
            "98/98 [==============================] - 5s 46ms/step - loss: 0.0169 - mae: 0.1505 - val_loss: 6.4810 - val_mae: 6.9661\n",
            "Epoch 63/200\n",
            "98/98 [==============================] - 5s 46ms/step - loss: 0.0167 - mae: 0.1500 - val_loss: 6.4804 - val_mae: 6.9655\n",
            "Epoch 64/200\n",
            "98/98 [==============================] - 5s 45ms/step - loss: 0.0164 - mae: 0.1479 - val_loss: 6.4796 - val_mae: 6.9647\n",
            "Epoch 65/200\n",
            "98/98 [==============================] - 5s 46ms/step - loss: 0.0167 - mae: 0.1500 - val_loss: 6.4790 - val_mae: 6.9640\n",
            "Epoch 66/200\n",
            "98/98 [==============================] - 5s 46ms/step - loss: 0.0163 - mae: 0.1478 - val_loss: 6.4781 - val_mae: 6.9632\n",
            "Epoch 67/200\n",
            "98/98 [==============================] - 5s 46ms/step - loss: 0.0162 - mae: 0.1475 - val_loss: 6.4774 - val_mae: 6.9625\n",
            "Epoch 68/200\n",
            "98/98 [==============================] - 5s 47ms/step - loss: 0.0160 - mae: 0.1464 - val_loss: 6.4769 - val_mae: 6.9619\n",
            "Epoch 69/200\n",
            "98/98 [==============================] - 5s 46ms/step - loss: 0.0162 - mae: 0.1475 - val_loss: 6.4761 - val_mae: 6.9612\n",
            "Epoch 70/200\n",
            "98/98 [==============================] - 5s 47ms/step - loss: 0.0161 - mae: 0.1471 - val_loss: 6.4754 - val_mae: 6.9604\n",
            "Epoch 71/200\n",
            "98/98 [==============================] - 5s 45ms/step - loss: 0.0159 - mae: 0.1459 - val_loss: 6.4747 - val_mae: 6.9598\n",
            "Epoch 72/200\n",
            "98/98 [==============================] - 5s 46ms/step - loss: 0.0158 - mae: 0.1457 - val_loss: 6.4740 - val_mae: 6.9591\n",
            "Epoch 73/200\n",
            "98/98 [==============================] - 5s 52ms/step - loss: 0.0158 - mae: 0.1461 - val_loss: 6.4736 - val_mae: 6.9586\n",
            "Epoch 74/200\n",
            "98/98 [==============================] - 5s 46ms/step - loss: 0.0156 - mae: 0.1450 - val_loss: 6.4727 - val_mae: 6.9577\n",
            "Epoch 75/200\n",
            "98/98 [==============================] - 5s 46ms/step - loss: 0.0151 - mae: 0.1431 - val_loss: 6.4719 - val_mae: 6.9568\n",
            "Epoch 76/200\n",
            "98/98 [==============================] - 5s 46ms/step - loss: 0.0154 - mae: 0.1443 - val_loss: 6.4712 - val_mae: 6.9562\n",
            "Epoch 77/200\n",
            "98/98 [==============================] - 5s 46ms/step - loss: 0.0153 - mae: 0.1437 - val_loss: 6.4704 - val_mae: 6.9553\n",
            "Epoch 78/200\n",
            "98/98 [==============================] - 5s 46ms/step - loss: 0.0149 - mae: 0.1416 - val_loss: 6.4695 - val_mae: 6.9544\n",
            "Epoch 79/200\n",
            "98/98 [==============================] - 5s 46ms/step - loss: 0.0151 - mae: 0.1420 - val_loss: 6.4685 - val_mae: 6.9534\n",
            "Epoch 80/200\n",
            "98/98 [==============================] - 5s 46ms/step - loss: 0.0149 - mae: 0.1415 - val_loss: 6.4675 - val_mae: 6.9524\n",
            "Epoch 81/200\n",
            "98/98 [==============================] - 5s 47ms/step - loss: 0.0150 - mae: 0.1417 - val_loss: 6.4667 - val_mae: 6.9515\n",
            "Epoch 82/200\n",
            "98/98 [==============================] - 5s 46ms/step - loss: 0.0148 - mae: 0.1410 - val_loss: 6.4656 - val_mae: 6.9505\n",
            "Epoch 83/200\n",
            "98/98 [==============================] - 5s 46ms/step - loss: 0.0145 - mae: 0.1397 - val_loss: 6.4643 - val_mae: 6.9491\n",
            "Epoch 84/200\n",
            "98/98 [==============================] - 5s 46ms/step - loss: 0.0148 - mae: 0.1409 - val_loss: 6.4632 - val_mae: 6.9480\n",
            "Epoch 85/200\n",
            "98/98 [==============================] - 5s 46ms/step - loss: 0.0145 - mae: 0.1394 - val_loss: 6.4621 - val_mae: 6.9469\n",
            "Epoch 86/200\n",
            "98/98 [==============================] - 5s 46ms/step - loss: 0.0144 - mae: 0.1386 - val_loss: 6.4609 - val_mae: 6.9457\n",
            "Epoch 87/200\n",
            "98/98 [==============================] - 5s 46ms/step - loss: 0.0143 - mae: 0.1385 - val_loss: 6.4598 - val_mae: 6.9446\n",
            "Epoch 88/200\n",
            "98/98 [==============================] - 5s 45ms/step - loss: 0.0145 - mae: 0.1389 - val_loss: 6.4588 - val_mae: 6.9436\n",
            "Epoch 89/200\n",
            "98/98 [==============================] - 5s 46ms/step - loss: 0.0143 - mae: 0.1383 - val_loss: 6.4578 - val_mae: 6.9425\n",
            "Epoch 90/200\n",
            "98/98 [==============================] - 5s 46ms/step - loss: 0.0143 - mae: 0.1381 - val_loss: 6.4567 - val_mae: 6.9414\n",
            "Epoch 91/200\n",
            "98/98 [==============================] - 5s 46ms/step - loss: 0.0143 - mae: 0.1384 - val_loss: 6.4556 - val_mae: 6.9403\n",
            "Epoch 92/200\n",
            "98/98 [==============================] - 5s 46ms/step - loss: 0.0140 - mae: 0.1367 - val_loss: 6.4545 - val_mae: 6.9392\n",
            "Epoch 93/200\n",
            "98/98 [==============================] - 5s 46ms/step - loss: 0.0139 - mae: 0.1363 - val_loss: 6.4532 - val_mae: 6.9378\n",
            "Epoch 94/200\n",
            "98/98 [==============================] - 5s 47ms/step - loss: 0.0141 - mae: 0.1370 - val_loss: 6.4522 - val_mae: 6.9368\n",
            "Epoch 95/200\n",
            "98/98 [==============================] - 5s 46ms/step - loss: 0.0141 - mae: 0.1375 - val_loss: 6.4514 - val_mae: 6.9360\n",
            "Epoch 96/200\n",
            "98/98 [==============================] - 5s 45ms/step - loss: 0.0140 - mae: 0.1370 - val_loss: 6.4503 - val_mae: 6.9349\n",
            "Epoch 97/200\n",
            "98/98 [==============================] - 5s 45ms/step - loss: 0.0140 - mae: 0.1367 - val_loss: 6.4494 - val_mae: 6.9340\n",
            "Epoch 98/200\n",
            "98/98 [==============================] - 5s 46ms/step - loss: 0.0139 - mae: 0.1367 - val_loss: 6.4481 - val_mae: 6.9327\n",
            "Epoch 99/200\n",
            "98/98 [==============================] - 5s 46ms/step - loss: 0.0140 - mae: 0.1369 - val_loss: 6.4473 - val_mae: 6.9318\n",
            "Epoch 100/200\n",
            "98/98 [==============================] - 5s 46ms/step - loss: 0.0138 - mae: 0.1362 - val_loss: 6.4465 - val_mae: 6.9310\n",
            "Epoch 101/200\n",
            "98/98 [==============================] - 5s 46ms/step - loss: 0.0138 - mae: 0.1361 - val_loss: 6.4453 - val_mae: 6.9298\n",
            "Epoch 102/200\n",
            "98/98 [==============================] - 5s 51ms/step - loss: 0.0139 - mae: 0.1363 - val_loss: 6.4443 - val_mae: 6.9288\n",
            "Epoch 103/200\n",
            "98/98 [==============================] - 5s 46ms/step - loss: 0.0137 - mae: 0.1354 - val_loss: 6.4434 - val_mae: 6.9279\n",
            "Epoch 104/200\n",
            "98/98 [==============================] - 5s 45ms/step - loss: 0.0136 - mae: 0.1346 - val_loss: 6.4424 - val_mae: 6.9269\n",
            "Epoch 105/200\n",
            "98/98 [==============================] - 5s 46ms/step - loss: 0.0137 - mae: 0.1357 - val_loss: 6.4414 - val_mae: 6.9259\n",
            "Epoch 106/200\n",
            "98/98 [==============================] - 5s 46ms/step - loss: 0.0138 - mae: 0.1357 - val_loss: 6.4404 - val_mae: 6.9249\n",
            "Epoch 107/200\n",
            "98/98 [==============================] - 5s 46ms/step - loss: 0.0136 - mae: 0.1348 - val_loss: 6.4395 - val_mae: 6.9239\n",
            "Epoch 108/200\n",
            "98/98 [==============================] - 5s 46ms/step - loss: 0.0137 - mae: 0.1353 - val_loss: 6.4384 - val_mae: 6.9228\n",
            "Epoch 109/200\n",
            "98/98 [==============================] - 5s 45ms/step - loss: 0.0135 - mae: 0.1345 - val_loss: 6.4373 - val_mae: 6.9218\n",
            "Epoch 110/200\n",
            "98/98 [==============================] - 5s 46ms/step - loss: 0.0136 - mae: 0.1351 - val_loss: 6.4363 - val_mae: 6.9207\n",
            "Epoch 111/200\n",
            "98/98 [==============================] - 5s 46ms/step - loss: 0.0135 - mae: 0.1347 - val_loss: 6.4355 - val_mae: 6.9198\n",
            "Epoch 112/200\n",
            "98/98 [==============================] - 5s 47ms/step - loss: 0.0136 - mae: 0.1348 - val_loss: 6.4346 - val_mae: 6.9190\n",
            "Epoch 113/200\n",
            "98/98 [==============================] - 5s 46ms/step - loss: 0.0134 - mae: 0.1341 - val_loss: 6.4335 - val_mae: 6.9179\n",
            "Epoch 114/200\n",
            "98/98 [==============================] - 5s 47ms/step - loss: 0.0134 - mae: 0.1339 - val_loss: 6.4327 - val_mae: 6.9170\n",
            "Epoch 115/200\n",
            "98/98 [==============================] - 5s 47ms/step - loss: 0.0133 - mae: 0.1331 - val_loss: 6.4317 - val_mae: 6.9161\n",
            "Epoch 116/200\n",
            "98/98 [==============================] - 5s 46ms/step - loss: 0.0133 - mae: 0.1343 - val_loss: 6.4308 - val_mae: 6.9151\n",
            "Epoch 117/200\n",
            "98/98 [==============================] - 5s 47ms/step - loss: 0.0135 - mae: 0.1343 - val_loss: 6.4299 - val_mae: 6.9142\n",
            "Epoch 118/200\n",
            "98/98 [==============================] - 5s 46ms/step - loss: 0.0134 - mae: 0.1337 - val_loss: 6.4291 - val_mae: 6.9134\n",
            "Epoch 119/200\n",
            "98/98 [==============================] - 5s 47ms/step - loss: 0.0134 - mae: 0.1337 - val_loss: 6.4284 - val_mae: 6.9127\n",
            "Epoch 120/200\n",
            "98/98 [==============================] - 5s 47ms/step - loss: 0.0133 - mae: 0.1332 - val_loss: 6.4275 - val_mae: 6.9118\n",
            "Epoch 121/200\n",
            "98/98 [==============================] - 5s 47ms/step - loss: 0.0133 - mae: 0.1330 - val_loss: 6.4265 - val_mae: 6.9108\n",
            "Epoch 122/200\n",
            "98/98 [==============================] - 5s 46ms/step - loss: 0.0134 - mae: 0.1335 - val_loss: 6.4258 - val_mae: 6.9101\n",
            "Epoch 123/200\n",
            "98/98 [==============================] - 5s 47ms/step - loss: 0.0133 - mae: 0.1330 - val_loss: 6.4250 - val_mae: 6.9093\n",
            "Epoch 124/200\n",
            "98/98 [==============================] - 5s 47ms/step - loss: 0.0131 - mae: 0.1322 - val_loss: 6.4242 - val_mae: 6.9084\n",
            "Epoch 125/200\n",
            "98/98 [==============================] - 5s 46ms/step - loss: 0.0131 - mae: 0.1320 - val_loss: 6.4233 - val_mae: 6.9075\n",
            "Epoch 126/200\n",
            "98/98 [==============================] - 5s 47ms/step - loss: 0.0133 - mae: 0.1331 - val_loss: 6.4225 - val_mae: 6.9067\n",
            "Epoch 127/200\n",
            "98/98 [==============================] - 5s 53ms/step - loss: 0.0132 - mae: 0.1337 - val_loss: 6.4217 - val_mae: 6.9059\n",
            "Epoch 128/200\n",
            "98/98 [==============================] - 5s 47ms/step - loss: 0.0132 - mae: 0.1331 - val_loss: 6.4210 - val_mae: 6.9053\n",
            "Epoch 129/200\n",
            "98/98 [==============================] - 5s 47ms/step - loss: 0.0133 - mae: 0.1328 - val_loss: 6.4203 - val_mae: 6.9045\n",
            "Epoch 130/200\n",
            "98/98 [==============================] - 5s 46ms/step - loss: 0.0134 - mae: 0.1334 - val_loss: 6.4195 - val_mae: 6.9037\n",
            "Epoch 131/200\n",
            "98/98 [==============================] - 5s 47ms/step - loss: 0.0132 - mae: 0.1330 - val_loss: 6.4187 - val_mae: 6.9029\n",
            "Epoch 132/200\n",
            "98/98 [==============================] - 5s 47ms/step - loss: 0.0133 - mae: 0.1326 - val_loss: 6.4181 - val_mae: 6.9023\n",
            "Epoch 133/200\n",
            "98/98 [==============================] - 5s 47ms/step - loss: 0.0131 - mae: 0.1326 - val_loss: 6.4171 - val_mae: 6.9013\n",
            "Epoch 134/200\n",
            "98/98 [==============================] - 5s 47ms/step - loss: 0.0129 - mae: 0.1318 - val_loss: 6.4163 - val_mae: 6.9005\n",
            "Epoch 135/200\n",
            "98/98 [==============================] - 5s 46ms/step - loss: 0.0131 - mae: 0.1322 - val_loss: 6.4156 - val_mae: 6.8997\n",
            "Epoch 136/200\n",
            "98/98 [==============================] - 5s 46ms/step - loss: 0.0132 - mae: 0.1329 - val_loss: 6.4148 - val_mae: 6.8990\n",
            "Epoch 137/200\n",
            "98/98 [==============================] - 5s 47ms/step - loss: 0.0131 - mae: 0.1320 - val_loss: 6.4142 - val_mae: 6.8983\n",
            "Epoch 138/200\n",
            "98/98 [==============================] - 5s 47ms/step - loss: 0.0132 - mae: 0.1326 - val_loss: 6.4131 - val_mae: 6.8972\n",
            "Epoch 139/200\n",
            "98/98 [==============================] - 5s 48ms/step - loss: 0.0131 - mae: 0.1324 - val_loss: 6.4123 - val_mae: 6.8964\n",
            "Epoch 140/200\n",
            "98/98 [==============================] - 5s 47ms/step - loss: 0.0131 - mae: 0.1321 - val_loss: 6.4118 - val_mae: 6.8959\n",
            "Epoch 141/200\n",
            "98/98 [==============================] - 5s 48ms/step - loss: 0.0132 - mae: 0.1329 - val_loss: 6.4112 - val_mae: 6.8954\n",
            "Epoch 142/200\n",
            "98/98 [==============================] - 5s 46ms/step - loss: 0.0129 - mae: 0.1310 - val_loss: 6.4104 - val_mae: 6.8946\n",
            "Epoch 143/200\n",
            "98/98 [==============================] - 5s 46ms/step - loss: 0.0130 - mae: 0.1317 - val_loss: 6.4098 - val_mae: 6.8939\n",
            "Epoch 144/200\n",
            "98/98 [==============================] - 5s 47ms/step - loss: 0.0131 - mae: 0.1319 - val_loss: 6.4089 - val_mae: 6.8930\n",
            "Epoch 145/200\n",
            "98/98 [==============================] - 5s 46ms/step - loss: 0.0130 - mae: 0.1317 - val_loss: 6.4082 - val_mae: 6.8923\n",
            "Epoch 146/200\n",
            "98/98 [==============================] - 5s 47ms/step - loss: 0.0131 - mae: 0.1324 - val_loss: 6.4076 - val_mae: 6.8917\n",
            "Epoch 147/200\n",
            "98/98 [==============================] - 5s 47ms/step - loss: 0.0130 - mae: 0.1316 - val_loss: 6.4067 - val_mae: 6.8908\n",
            "Epoch 148/200\n",
            "98/98 [==============================] - 5s 47ms/step - loss: 0.0129 - mae: 0.1309 - val_loss: 6.4062 - val_mae: 6.8902\n",
            "Epoch 149/200\n",
            "98/98 [==============================] - 5s 46ms/step - loss: 0.0128 - mae: 0.1309 - val_loss: 6.4054 - val_mae: 6.8895\n",
            "Epoch 150/200\n",
            "98/98 [==============================] - 5s 46ms/step - loss: 0.0129 - mae: 0.1310 - val_loss: 6.4047 - val_mae: 6.8888\n",
            "Epoch 151/200\n",
            "98/98 [==============================] - 5s 48ms/step - loss: 0.0128 - mae: 0.1308 - val_loss: 6.4038 - val_mae: 6.8879\n",
            "Epoch 152/200\n",
            "98/98 [==============================] - 5s 47ms/step - loss: 0.0128 - mae: 0.1308 - val_loss: 6.4032 - val_mae: 6.8872\n",
            "Epoch 153/200\n",
            "98/98 [==============================] - 5s 45ms/step - loss: 0.0128 - mae: 0.1307 - val_loss: 6.4025 - val_mae: 6.8865\n",
            "Epoch 154/200\n",
            "98/98 [==============================] - 5s 48ms/step - loss: 0.0129 - mae: 0.1310 - val_loss: 6.4016 - val_mae: 6.8856\n",
            "Epoch 155/200\n",
            "98/98 [==============================] - 5s 47ms/step - loss: 0.0127 - mae: 0.1303 - val_loss: 6.4009 - val_mae: 6.8849\n",
            "Epoch 156/200\n",
            "98/98 [==============================] - 5s 48ms/step - loss: 0.0129 - mae: 0.1307 - val_loss: 6.4001 - val_mae: 6.8841\n",
            "Epoch 157/200\n",
            "98/98 [==============================] - 5s 46ms/step - loss: 0.0127 - mae: 0.1307 - val_loss: 6.3996 - val_mae: 6.8835\n",
            "Epoch 158/200\n",
            "98/98 [==============================] - 5s 47ms/step - loss: 0.0129 - mae: 0.1310 - val_loss: 6.3989 - val_mae: 6.8829\n",
            "Epoch 159/200\n",
            "98/98 [==============================] - 5s 47ms/step - loss: 0.0129 - mae: 0.1313 - val_loss: 6.3982 - val_mae: 6.8822\n",
            "Epoch 160/200\n",
            "98/98 [==============================] - 5s 47ms/step - loss: 0.0129 - mae: 0.1312 - val_loss: 6.3977 - val_mae: 6.8817\n",
            "Epoch 161/200\n",
            "98/98 [==============================] - 5s 46ms/step - loss: 0.0128 - mae: 0.1307 - val_loss: 6.3973 - val_mae: 6.8812\n",
            "Epoch 162/200\n",
            "98/98 [==============================] - 5s 47ms/step - loss: 0.0126 - mae: 0.1299 - val_loss: 6.3965 - val_mae: 6.8804\n",
            "Epoch 163/200\n",
            "98/98 [==============================] - 5s 47ms/step - loss: 0.0126 - mae: 0.1294 - val_loss: 6.3957 - val_mae: 6.8796\n",
            "Epoch 164/200\n",
            "98/98 [==============================] - 5s 48ms/step - loss: 0.0127 - mae: 0.1301 - val_loss: 6.3950 - val_mae: 6.8789\n",
            "Epoch 165/200\n",
            "98/98 [==============================] - 5s 47ms/step - loss: 0.0127 - mae: 0.1300 - val_loss: 6.3945 - val_mae: 6.8784\n",
            "Epoch 166/200\n",
            "98/98 [==============================] - 5s 46ms/step - loss: 0.0126 - mae: 0.1297 - val_loss: 6.3937 - val_mae: 6.8776\n",
            "Epoch 167/200\n",
            "98/98 [==============================] - 5s 47ms/step - loss: 0.0128 - mae: 0.1305 - val_loss: 6.3929 - val_mae: 6.8768\n",
            "Epoch 168/200\n",
            "98/98 [==============================] - 5s 48ms/step - loss: 0.0126 - mae: 0.1292 - val_loss: 6.3923 - val_mae: 6.8762\n",
            "Epoch 169/200\n",
            "98/98 [==============================] - 5s 47ms/step - loss: 0.0126 - mae: 0.1295 - val_loss: 6.3918 - val_mae: 6.8756\n",
            "Epoch 170/200\n",
            "98/98 [==============================] - 5s 47ms/step - loss: 0.0127 - mae: 0.1302 - val_loss: 6.3910 - val_mae: 6.8749\n",
            "Epoch 171/200\n",
            "98/98 [==============================] - 5s 47ms/step - loss: 0.0128 - mae: 0.1302 - val_loss: 6.3904 - val_mae: 6.8743\n",
            "Epoch 172/200\n",
            "98/98 [==============================] - 5s 47ms/step - loss: 0.0129 - mae: 0.1310 - val_loss: 6.3898 - val_mae: 6.8736\n",
            "Epoch 173/200\n",
            "98/98 [==============================] - 5s 47ms/step - loss: 0.0128 - mae: 0.1307 - val_loss: 6.3890 - val_mae: 6.8728\n",
            "Epoch 174/200\n",
            "98/98 [==============================] - 5s 47ms/step - loss: 0.0126 - mae: 0.1298 - val_loss: 6.3885 - val_mae: 6.8723\n",
            "Epoch 175/200\n",
            "98/98 [==============================] - 5s 47ms/step - loss: 0.0126 - mae: 0.1296 - val_loss: 6.3879 - val_mae: 6.8717\n",
            "Epoch 176/200\n",
            "98/98 [==============================] - 5s 47ms/step - loss: 0.0126 - mae: 0.1294 - val_loss: 6.3874 - val_mae: 6.8712\n",
            "Epoch 177/200\n",
            "98/98 [==============================] - 5s 45ms/step - loss: 0.0127 - mae: 0.1290 - val_loss: 6.3866 - val_mae: 6.8704\n",
            "Epoch 178/200\n",
            "98/98 [==============================] - 5s 46ms/step - loss: 0.0125 - mae: 0.1286 - val_loss: 6.3859 - val_mae: 6.8696\n",
            "Epoch 179/200\n",
            "98/98 [==============================] - 5s 47ms/step - loss: 0.0127 - mae: 0.1303 - val_loss: 6.3852 - val_mae: 6.8689\n",
            "Epoch 180/200\n",
            "98/98 [==============================] - 5s 47ms/step - loss: 0.0124 - mae: 0.1282 - val_loss: 6.3845 - val_mae: 6.8682\n",
            "Epoch 181/200\n",
            "98/98 [==============================] - 5s 47ms/step - loss: 0.0127 - mae: 0.1302 - val_loss: 6.3840 - val_mae: 6.8677\n",
            "Epoch 182/200\n",
            "98/98 [==============================] - 5s 47ms/step - loss: 0.0126 - mae: 0.1288 - val_loss: 6.3835 - val_mae: 6.8672\n",
            "Epoch 183/200\n",
            "98/98 [==============================] - 5s 47ms/step - loss: 0.0125 - mae: 0.1288 - val_loss: 6.3830 - val_mae: 6.8667\n",
            "Epoch 184/200\n",
            "98/98 [==============================] - 5s 46ms/step - loss: 0.0126 - mae: 0.1294 - val_loss: 6.3824 - val_mae: 6.8661\n",
            "Epoch 185/200\n",
            "98/98 [==============================] - 5s 47ms/step - loss: 0.0124 - mae: 0.1283 - val_loss: 6.3819 - val_mae: 6.8655\n",
            "Epoch 186/200\n",
            "98/98 [==============================] - 5s 47ms/step - loss: 0.0126 - mae: 0.1291 - val_loss: 6.3813 - val_mae: 6.8650\n",
            "Epoch 187/200\n",
            "98/98 [==============================] - 5s 47ms/step - loss: 0.0125 - mae: 0.1286 - val_loss: 6.3809 - val_mae: 6.8645\n",
            "Epoch 188/200\n",
            "98/98 [==============================] - 5s 46ms/step - loss: 0.0125 - mae: 0.1290 - val_loss: 6.3802 - val_mae: 6.8638\n",
            "Epoch 189/200\n",
            "98/98 [==============================] - 5s 47ms/step - loss: 0.0126 - mae: 0.1290 - val_loss: 6.3795 - val_mae: 6.8631\n",
            "Epoch 190/200\n",
            "98/98 [==============================] - 5s 46ms/step - loss: 0.0124 - mae: 0.1285 - val_loss: 6.3791 - val_mae: 6.8627\n",
            "Epoch 191/200\n",
            "98/98 [==============================] - 5s 47ms/step - loss: 0.0124 - mae: 0.1285 - val_loss: 6.3788 - val_mae: 6.8625\n",
            "Epoch 192/200\n",
            "98/98 [==============================] - 5s 48ms/step - loss: 0.0126 - mae: 0.1290 - val_loss: 6.3781 - val_mae: 6.8617\n",
            "Epoch 193/200\n",
            "98/98 [==============================] - 5s 47ms/step - loss: 0.0124 - mae: 0.1283 - val_loss: 6.3776 - val_mae: 6.8612\n",
            "Epoch 194/200\n",
            "98/98 [==============================] - 5s 52ms/step - loss: 0.0126 - mae: 0.1291 - val_loss: 6.3774 - val_mae: 6.8610\n",
            "Epoch 195/200\n",
            "98/98 [==============================] - 5s 47ms/step - loss: 0.0125 - mae: 0.1288 - val_loss: 6.3768 - val_mae: 6.8603\n",
            "Epoch 196/200\n",
            "98/98 [==============================] - 5s 46ms/step - loss: 0.0124 - mae: 0.1281 - val_loss: 6.3763 - val_mae: 6.8599\n",
            "Epoch 197/200\n",
            "98/98 [==============================] - 5s 47ms/step - loss: 0.0125 - mae: 0.1283 - val_loss: 6.3757 - val_mae: 6.8592\n",
            "Epoch 198/200\n",
            "98/98 [==============================] - 5s 47ms/step - loss: 0.0125 - mae: 0.1289 - val_loss: 6.3751 - val_mae: 6.8586\n",
            "Epoch 199/200\n",
            "98/98 [==============================] - 5s 46ms/step - loss: 0.0126 - mae: 0.1292 - val_loss: 6.3746 - val_mae: 6.8582\n",
            "Epoch 200/200\n",
            "98/98 [==============================] - 5s 46ms/step - loss: 0.0126 - mae: 0.1297 - val_loss: 6.3742 - val_mae: 6.8578\n"
          ]
        }
      ]
    },
    {
      "cell_type": "code",
      "metadata": {
        "colab": {
          "base_uri": "https://localhost:8080/"
        },
        "id": "28UVRz29kNfx",
        "outputId": "b1e19749-bbea-409b-c36d-ee437128d5f7"
      },
      "source": [
        "skala_data = max(temp)-min(temp)\n",
        "minMae = skala_data * 10/100\n",
        "minMae"
      ],
      "execution_count": 18,
      "outputs": [
        {
          "output_type": "execute_result",
          "data": {
            "text/plain": [
              "6.172777777777777"
            ]
          },
          "metadata": {},
          "execution_count": 18
        }
      ]
    },
    {
      "cell_type": "markdown",
      "metadata": {
        "id": "IVhnukH-vEuO"
      },
      "source": [
        "Mae harus < 10% dari skala data\n",
        "\n",
        "minimal Mae harus di bawah 6.172777777777777\n",
        "\n",
        "mae yang saya dapatkan bernilai 0.1297"
      ]
    },
    {
      "cell_type": "code",
      "metadata": {
        "colab": {
          "base_uri": "https://localhost:8080/",
          "height": 295
        },
        "id": "KosZmKS93QYS",
        "outputId": "217e87b9-8150-425a-d3d3-eaa46942b87b"
      },
      "source": [
        "plt.plot(history.history['loss'])\n",
        "plt.title('Model loss')\n",
        "plt.ylabel('loss')\n",
        "plt.xlabel('Epoch')\n",
        "plt.legend(['Train', 'Test'], loc='lower right')\n",
        "plt.show()"
      ],
      "execution_count": 19,
      "outputs": [
        {
          "output_type": "display_data",
          "data": {
            "image/png": "[encoded data removed]",
            "text/plain": [
              "<Figure size 432x288 with 1 Axes>"
            ]
          },
          "metadata": {
            "needs_background": "light"
          }
        }
      ]
    },
    {
      "cell_type": "code",
      "metadata": {
        "colab": {
          "base_uri": "https://localhost:8080/",
          "height": 295
        },
        "id": "v-HZ8QPg3hHx",
        "outputId": "bd3b30f7-3380-4a51-e360-32d3cf10317d"
      },
      "source": [
        "plt.plot(history.history['mae'])\n",
        "plt.title('Model mae')\n",
        "plt.ylabel('mae')\n",
        "plt.xlabel('Epoch')\n",
        "plt.legend(['Train', 'Test'], loc='lower right')\n",
        "plt.show()"
      ],
      "execution_count": 20,
      "outputs": [
        {
          "output_type": "display_data",
          "data": {
            "image/png": "[encoded data removed]",
            "text/plain": [
              "<Figure size 432x288 with 1 Axes>"
            ]
          },
          "metadata": {
            "needs_background": "light"
          }
        }
      ]
    }
  ]
}