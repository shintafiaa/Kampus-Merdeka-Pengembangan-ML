{
  "nbformat": 4,
  "nbformat_minor": 0,
  "metadata": {
    "colab": {
      "name": "Kampus Merdeka LSTM.ipynb",
      "provenance": [],
      "authorship_tag": "ABX9TyOg0pPbfUb8lIICHOSlK4/c",
      "include_colab_link": true
    },
    "kernelspec": {
      "name": "python3",
      "display_name": "Python 3"
    },
    "language_info": {
      "name": "python"
    }
  },
  "cells": [
    {
      "cell_type": "markdown",
      "metadata": {
        "id": "view-in-github",
        "colab_type": "text"
      },
      "source": [
        "<a href=\"https://colab.research.google.com/github/shintafiaa/Kampus-Merdeka-Pengembangan-ML/blob/main/Kampus_Merdeka_LSTM.ipynb\" target=\"_parent\"><img src=\"https://colab.research.google.com/assets/colab-badge.svg\" alt=\"Open In Colab\"/></a>"
      ]
    },
    {
      "cell_type": "code",
      "metadata": {
        "id": "JUCAmAP2ulPN"
      },
      "source": [
        "#mengubah dataset menjadi dataframe\n",
        "#membuang kolom 'judul_film'\n",
        "import pandas as pd\n",
        "df = pd.read_csv('imdb_indonesian_movies_2.csv')\n",
        "df = df.drop(columns=['judul_film'])"
      ],
      "execution_count": 11,
      "outputs": []
    },
    {
      "cell_type": "code",
      "metadata": {
        "colab": {
          "base_uri": "https://localhost:8080/",
          "height": 206
        },
        "id": "NySQT6vAu8tH",
        "outputId": "de4f96b8-14f8-456a-888d-19a4a30703d9"
      },
      "source": [
        "df.head()"
      ],
      "execution_count": 12,
      "outputs": [
        {
          "output_type": "execute_result",
          "data": {
            "text/html": [
              "<div>\n",
              "<style scoped>\n",
              "    .dataframe tbody tr th:only-of-type {\n",
              "        vertical-align: middle;\n",
              "    }\n",
              "\n",
              "    .dataframe tbody tr th {\n",
              "        vertical-align: top;\n",
              "    }\n",
              "\n",
              "    .dataframe thead th {\n",
              "        text-align: right;\n",
              "    }\n",
              "</style>\n",
              "<table border=\"1\" class=\"dataframe\">\n",
              "  <thead>\n",
              "    <tr style=\"text-align: right;\">\n",
              "      <th></th>\n",
              "      <th>ringkasan_sinopsis</th>\n",
              "      <th>genre</th>\n",
              "    </tr>\n",
              "  </thead>\n",
              "  <tbody>\n",
              "    <tr>\n",
              "      <th>0</th>\n",
              "      <td>Raden Mas Said putra sulung Tumenggung Wilarik...</td>\n",
              "      <td>Drama</td>\n",
              "    </tr>\n",
              "    <tr>\n",
              "      <th>1</th>\n",
              "      <td>Soe Hok Gie adalah seorang aktivis yang hidup ...</td>\n",
              "      <td>Drama</td>\n",
              "    </tr>\n",
              "    <tr>\n",
              "      <th>2</th>\n",
              "      <td>Guru Bangsa Tjokroaminoto menceritakan tentang...</td>\n",
              "      <td>Drama</td>\n",
              "    </tr>\n",
              "    <tr>\n",
              "      <th>3</th>\n",
              "      <td>POL menceritakan kisah hidup yang luar biasa d...</td>\n",
              "      <td>Drama</td>\n",
              "    </tr>\n",
              "    <tr>\n",
              "      <th>4</th>\n",
              "      <td>Perjalanan pahlawan Indonesia KH Ahmad Dahlan ...</td>\n",
              "      <td>Drama</td>\n",
              "    </tr>\n",
              "  </tbody>\n",
              "</table>\n",
              "</div>"
            ],
            "text/plain": [
              "                                  ringkasan_sinopsis  genre\n",
              "0  Raden Mas Said putra sulung Tumenggung Wilarik...  Drama\n",
              "1  Soe Hok Gie adalah seorang aktivis yang hidup ...  Drama\n",
              "2  Guru Bangsa Tjokroaminoto menceritakan tentang...  Drama\n",
              "3  POL menceritakan kisah hidup yang luar biasa d...  Drama\n",
              "4  Perjalanan pahlawan Indonesia KH Ahmad Dahlan ...  Drama"
            ]
          },
          "metadata": {},
          "execution_count": 12
        }
      ]
    },
    {
      "cell_type": "code",
      "metadata": {
        "colab": {
          "base_uri": "https://localhost:8080/",
          "height": 206
        },
        "id": "hLxUSvbLvJvR",
        "outputId": "9a0ad959-a0e6-42aa-825c-9894b67db56e"
      },
      "source": [
        "df.tail()"
      ],
      "execution_count": 13,
      "outputs": [
        {
          "output_type": "execute_result",
          "data": {
            "text/html": [
              "<div>\n",
              "<style scoped>\n",
              "    .dataframe tbody tr th:only-of-type {\n",
              "        vertical-align: middle;\n",
              "    }\n",
              "\n",
              "    .dataframe tbody tr th {\n",
              "        vertical-align: top;\n",
              "    }\n",
              "\n",
              "    .dataframe thead th {\n",
              "        text-align: right;\n",
              "    }\n",
              "</style>\n",
              "<table border=\"1\" class=\"dataframe\">\n",
              "  <thead>\n",
              "    <tr style=\"text-align: right;\">\n",
              "      <th></th>\n",
              "      <th>ringkasan_sinopsis</th>\n",
              "      <th>genre</th>\n",
              "    </tr>\n",
              "  </thead>\n",
              "  <tbody>\n",
              "    <tr>\n",
              "      <th>1000</th>\n",
              "      <td>Winter in Tokyo berpusat pada kehidupan Ishida...</td>\n",
              "      <td>Romantis</td>\n",
              "    </tr>\n",
              "    <tr>\n",
              "      <th>1001</th>\n",
              "      <td>Markonah melarikan diri ke Jakarta karena akan...</td>\n",
              "      <td>Romantis</td>\n",
              "    </tr>\n",
              "    <tr>\n",
              "      <th>1002</th>\n",
              "      <td>Tempat aking lebih dari 36 jam, Last Night ada...</td>\n",
              "      <td>Romantis</td>\n",
              "    </tr>\n",
              "    <tr>\n",
              "      <th>1003</th>\n",
              "      <td>Proyek baru ini adalah tentang seorang lelaki ...</td>\n",
              "      <td>Romantis</td>\n",
              "    </tr>\n",
              "    <tr>\n",
              "      <th>1004</th>\n",
              "      <td>Atika (Meriam Bellina) mantan penyanyi tenar, ...</td>\n",
              "      <td>Romantis</td>\n",
              "    </tr>\n",
              "  </tbody>\n",
              "</table>\n",
              "</div>"
            ],
            "text/plain": [
              "                                     ringkasan_sinopsis     genre\n",
              "1000  Winter in Tokyo berpusat pada kehidupan Ishida...  Romantis\n",
              "1001  Markonah melarikan diri ke Jakarta karena akan...  Romantis\n",
              "1002  Tempat aking lebih dari 36 jam, Last Night ada...  Romantis\n",
              "1003  Proyek baru ini adalah tentang seorang lelaki ...  Romantis\n",
              "1004  Atika (Meriam Bellina) mantan penyanyi tenar, ...  Romantis"
            ]
          },
          "metadata": {},
          "execution_count": 13
        }
      ]
    },
    {
      "cell_type": "code",
      "metadata": {
        "colab": {
          "base_uri": "https://localhost:8080/",
          "height": 423
        },
        "id": "KU_oiESBvNgW",
        "outputId": "d3a638e1-b75e-46c9-998f-2b7600011d9a"
      },
      "source": [
        "#one-hot-encoding dan membuat dataframe baru\n",
        "category = pd.get_dummies(df.genre)\n",
        "df_baru = pd.concat([df, category], axis=1)\n",
        "df_baru = df_baru.drop(columns='genre')\n",
        "df_baru"
      ],
      "execution_count": 14,
      "outputs": [
        {
          "output_type": "execute_result",
          "data": {
            "text/html": [
              "<div>\n",
              "<style scoped>\n",
              "    .dataframe tbody tr th:only-of-type {\n",
              "        vertical-align: middle;\n",
              "    }\n",
              "\n",
              "    .dataframe tbody tr th {\n",
              "        vertical-align: top;\n",
              "    }\n",
              "\n",
              "    .dataframe thead th {\n",
              "        text-align: right;\n",
              "    }\n",
              "</style>\n",
              "<table border=\"1\" class=\"dataframe\">\n",
              "  <thead>\n",
              "    <tr style=\"text-align: right;\">\n",
              "      <th></th>\n",
              "      <th>ringkasan_sinopsis</th>\n",
              "      <th>Drama</th>\n",
              "      <th>Horor</th>\n",
              "      <th>Komedi</th>\n",
              "      <th>Laga</th>\n",
              "      <th>Romantis</th>\n",
              "    </tr>\n",
              "  </thead>\n",
              "  <tbody>\n",
              "    <tr>\n",
              "      <th>0</th>\n",
              "      <td>Raden Mas Said putra sulung Tumenggung Wilarik...</td>\n",
              "      <td>1</td>\n",
              "      <td>0</td>\n",
              "      <td>0</td>\n",
              "      <td>0</td>\n",
              "      <td>0</td>\n",
              "    </tr>\n",
              "    <tr>\n",
              "      <th>1</th>\n",
              "      <td>Soe Hok Gie adalah seorang aktivis yang hidup ...</td>\n",
              "      <td>1</td>\n",
              "      <td>0</td>\n",
              "      <td>0</td>\n",
              "      <td>0</td>\n",
              "      <td>0</td>\n",
              "    </tr>\n",
              "    <tr>\n",
              "      <th>2</th>\n",
              "      <td>Guru Bangsa Tjokroaminoto menceritakan tentang...</td>\n",
              "      <td>1</td>\n",
              "      <td>0</td>\n",
              "      <td>0</td>\n",
              "      <td>0</td>\n",
              "      <td>0</td>\n",
              "    </tr>\n",
              "    <tr>\n",
              "      <th>3</th>\n",
              "      <td>POL menceritakan kisah hidup yang luar biasa d...</td>\n",
              "      <td>1</td>\n",
              "      <td>0</td>\n",
              "      <td>0</td>\n",
              "      <td>0</td>\n",
              "      <td>0</td>\n",
              "    </tr>\n",
              "    <tr>\n",
              "      <th>4</th>\n",
              "      <td>Perjalanan pahlawan Indonesia KH Ahmad Dahlan ...</td>\n",
              "      <td>1</td>\n",
              "      <td>0</td>\n",
              "      <td>0</td>\n",
              "      <td>0</td>\n",
              "      <td>0</td>\n",
              "    </tr>\n",
              "    <tr>\n",
              "      <th>...</th>\n",
              "      <td>...</td>\n",
              "      <td>...</td>\n",
              "      <td>...</td>\n",
              "      <td>...</td>\n",
              "      <td>...</td>\n",
              "      <td>...</td>\n",
              "    </tr>\n",
              "    <tr>\n",
              "      <th>1000</th>\n",
              "      <td>Winter in Tokyo berpusat pada kehidupan Ishida...</td>\n",
              "      <td>0</td>\n",
              "      <td>0</td>\n",
              "      <td>0</td>\n",
              "      <td>0</td>\n",
              "      <td>1</td>\n",
              "    </tr>\n",
              "    <tr>\n",
              "      <th>1001</th>\n",
              "      <td>Markonah melarikan diri ke Jakarta karena akan...</td>\n",
              "      <td>0</td>\n",
              "      <td>0</td>\n",
              "      <td>0</td>\n",
              "      <td>0</td>\n",
              "      <td>1</td>\n",
              "    </tr>\n",
              "    <tr>\n",
              "      <th>1002</th>\n",
              "      <td>Tempat aking lebih dari 36 jam, Last Night ada...</td>\n",
              "      <td>0</td>\n",
              "      <td>0</td>\n",
              "      <td>0</td>\n",
              "      <td>0</td>\n",
              "      <td>1</td>\n",
              "    </tr>\n",
              "    <tr>\n",
              "      <th>1003</th>\n",
              "      <td>Proyek baru ini adalah tentang seorang lelaki ...</td>\n",
              "      <td>0</td>\n",
              "      <td>0</td>\n",
              "      <td>0</td>\n",
              "      <td>0</td>\n",
              "      <td>1</td>\n",
              "    </tr>\n",
              "    <tr>\n",
              "      <th>1004</th>\n",
              "      <td>Atika (Meriam Bellina) mantan penyanyi tenar, ...</td>\n",
              "      <td>0</td>\n",
              "      <td>0</td>\n",
              "      <td>0</td>\n",
              "      <td>0</td>\n",
              "      <td>1</td>\n",
              "    </tr>\n",
              "  </tbody>\n",
              "</table>\n",
              "<p>1005 rows × 6 columns</p>\n",
              "</div>"
            ],
            "text/plain": [
              "                                     ringkasan_sinopsis  Drama  ...  Laga  Romantis\n",
              "0     Raden Mas Said putra sulung Tumenggung Wilarik...      1  ...     0         0\n",
              "1     Soe Hok Gie adalah seorang aktivis yang hidup ...      1  ...     0         0\n",
              "2     Guru Bangsa Tjokroaminoto menceritakan tentang...      1  ...     0         0\n",
              "3     POL menceritakan kisah hidup yang luar biasa d...      1  ...     0         0\n",
              "4     Perjalanan pahlawan Indonesia KH Ahmad Dahlan ...      1  ...     0         0\n",
              "...                                                 ...    ...  ...   ...       ...\n",
              "1000  Winter in Tokyo berpusat pada kehidupan Ishida...      0  ...     0         1\n",
              "1001  Markonah melarikan diri ke Jakarta karena akan...      0  ...     0         1\n",
              "1002  Tempat aking lebih dari 36 jam, Last Night ada...      0  ...     0         1\n",
              "1003  Proyek baru ini adalah tentang seorang lelaki ...      0  ...     0         1\n",
              "1004  Atika (Meriam Bellina) mantan penyanyi tenar, ...      0  ...     0         1\n",
              "\n",
              "[1005 rows x 6 columns]"
            ]
          },
          "metadata": {},
          "execution_count": 14
        }
      ]
    },
    {
      "cell_type": "code",
      "metadata": {
        "id": "hoV225YWv6NO"
      },
      "source": [
        "#mengubah nilai-nilai dari dataframe ke dalam tipe data numpy array\n",
        "sinopsis = df_baru['ringkasan_sinopsis'].values\n",
        "label = df_baru[['Drama', 'Horor', 'Komedi', 'Laga', 'Romantis']].values"
      ],
      "execution_count": 9,
      "outputs": []
    },
    {
      "cell_type": "code",
      "metadata": {
        "id": "pFnm3RgjwBLO"
      },
      "source": [
        "#split data training dan testing\n",
        "from sklearn.model_selection import train_test_split\n",
        "sinopsis_latih, sinopsis_test, label_latih, label_test = train_test_split(sinopsis, label, test_size=0.2)"
      ],
      "execution_count": 10,
      "outputs": []
    },
    {
      "cell_type": "code",
      "metadata": {
        "id": "di8uMvjY-2dA"
      },
      "source": [
        "#Tokenisasi\n",
        "from tensorflow.keras.preprocessing.text import Tokenizer\n",
        "from tensorflow.keras.preprocessing.sequence import pad_sequences\n",
        " \n",
        "tokenizer = Tokenizer(num_words=5000, oov_token='x')\n",
        "tokenizer.fit_on_texts(sinopsis_latih) \n",
        "tokenizer.fit_on_texts(sinopsis_test)\n",
        " \n",
        "#mengonversi setiap sampel menjadi sequence\n",
        "sekuens_latih = tokenizer.texts_to_sequences(sinopsis_latih)\n",
        "sekuens_test = tokenizer.texts_to_sequences(sinopsis_test)\n",
        " \n",
        "padded_latih = pad_sequences(sekuens_latih) \n",
        "padded_test = pad_sequences(sekuens_test)"
      ],
      "execution_count": 15,
      "outputs": []
    },
    {
      "cell_type": "code",
      "metadata": {
        "id": "bQaI-T9p_X2R"
      },
      "source": [
        "#Arsitektur model dengan layer embedding\n",
        "#dimensi embedding 16, dimensi input sebesar num_words\n",
        "import tensorflow as tf\n",
        "model = tf.keras.Sequential([\n",
        "    tf.keras.layers.Embedding(input_dim=5000, output_dim=16),\n",
        "    tf.keras.layers.LSTM(64),\n",
        "    tf.keras.layers.Dense(128, activation='relu'),\n",
        "    tf.keras.layers.Dense(64, activation='relu'),\n",
        "    tf.keras.layers.Dense(5, activation='softmax')\n",
        "])\n",
        "model.compile(loss='categorical_crossentropy',optimizer='adam',metrics=['accuracy'])"
      ],
      "execution_count": 16,
      "outputs": []
    },
    {
      "cell_type": "code",
      "metadata": {
        "colab": {
          "base_uri": "https://localhost:8080/"
        },
        "id": "SH_oymm6_yoJ",
        "outputId": "6dc190ed-82d1-4852-f3f6-0757a88aa2d9"
      },
      "source": [
        "#training\n",
        "num_epochs = 30\n",
        "history = model.fit(padded_latih, label_latih, epochs=num_epochs, \n",
        "                    validation_data=(padded_test, label_test), verbose=2)"
      ],
      "execution_count": 17,
      "outputs": [
        {
          "output_type": "stream",
          "name": "stdout",
          "text": [
            "Epoch 1/30\n",
            "26/26 - 27s - loss: 1.6100 - accuracy: 0.1891 - val_loss: 1.6096 - val_accuracy: 0.1990\n",
            "Epoch 2/30\n",
            "26/26 - 25s - loss: 1.6073 - accuracy: 0.2289 - val_loss: 1.6082 - val_accuracy: 0.2189\n",
            "Epoch 3/30\n",
            "26/26 - 25s - loss: 1.5811 - accuracy: 0.3396 - val_loss: 1.5808 - val_accuracy: 0.2239\n",
            "Epoch 4/30\n",
            "26/26 - 25s - loss: 1.4900 - accuracy: 0.4726 - val_loss: 1.5760 - val_accuracy: 0.2687\n",
            "Epoch 5/30\n",
            "26/26 - 25s - loss: 1.0486 - accuracy: 0.6418 - val_loss: 1.5776 - val_accuracy: 0.3134\n",
            "Epoch 6/30\n",
            "26/26 - 25s - loss: 0.6762 - accuracy: 0.7861 - val_loss: 2.0223 - val_accuracy: 0.3284\n",
            "Epoch 7/30\n",
            "26/26 - 25s - loss: 0.2937 - accuracy: 0.9167 - val_loss: 3.0051 - val_accuracy: 0.3333\n",
            "Epoch 8/30\n",
            "26/26 - 25s - loss: 0.1692 - accuracy: 0.9515 - val_loss: 3.2453 - val_accuracy: 0.3035\n",
            "Epoch 9/30\n",
            "26/26 - 25s - loss: 0.1171 - accuracy: 0.9689 - val_loss: 3.2390 - val_accuracy: 0.2985\n",
            "Epoch 10/30\n",
            "26/26 - 25s - loss: 0.0502 - accuracy: 0.9925 - val_loss: 3.7609 - val_accuracy: 0.3234\n",
            "Epoch 11/30\n",
            "26/26 - 25s - loss: 0.0284 - accuracy: 0.9938 - val_loss: 4.4244 - val_accuracy: 0.3234\n",
            "Epoch 12/30\n",
            "26/26 - 25s - loss: 0.0197 - accuracy: 0.9950 - val_loss: 4.5152 - val_accuracy: 0.3085\n",
            "Epoch 13/30\n",
            "26/26 - 25s - loss: 0.0136 - accuracy: 0.9975 - val_loss: 4.9193 - val_accuracy: 0.2886\n",
            "Epoch 14/30\n",
            "26/26 - 25s - loss: 0.0135 - accuracy: 0.9975 - val_loss: 5.3493 - val_accuracy: 0.3134\n",
            "Epoch 15/30\n",
            "26/26 - 25s - loss: 0.0087 - accuracy: 0.9988 - val_loss: 4.9732 - val_accuracy: 0.3085\n",
            "Epoch 16/30\n",
            "26/26 - 25s - loss: 0.0098 - accuracy: 0.9988 - val_loss: 5.4507 - val_accuracy: 0.2886\n",
            "Epoch 17/30\n",
            "26/26 - 25s - loss: 0.0076 - accuracy: 0.9988 - val_loss: 5.1189 - val_accuracy: 0.3184\n",
            "Epoch 18/30\n",
            "26/26 - 25s - loss: 0.0102 - accuracy: 0.9988 - val_loss: 5.8732 - val_accuracy: 0.2736\n",
            "Epoch 19/30\n",
            "26/26 - 25s - loss: 0.0121 - accuracy: 0.9975 - val_loss: 5.5693 - val_accuracy: 0.3085\n",
            "Epoch 20/30\n",
            "26/26 - 25s - loss: 0.0205 - accuracy: 0.9938 - val_loss: 4.8415 - val_accuracy: 0.2935\n",
            "Epoch 21/30\n",
            "26/26 - 25s - loss: 0.0253 - accuracy: 0.9938 - val_loss: 4.8823 - val_accuracy: 0.3134\n",
            "Epoch 22/30\n",
            "26/26 - 25s - loss: 0.0130 - accuracy: 0.9975 - val_loss: 5.3604 - val_accuracy: 0.3085\n",
            "Epoch 23/30\n",
            "26/26 - 25s - loss: 0.0107 - accuracy: 0.9963 - val_loss: 5.3558 - val_accuracy: 0.2935\n",
            "Epoch 24/30\n",
            "26/26 - 25s - loss: 0.0050 - accuracy: 0.9988 - val_loss: 5.1481 - val_accuracy: 0.2985\n",
            "Epoch 25/30\n",
            "26/26 - 25s - loss: 0.0046 - accuracy: 0.9975 - val_loss: 5.5612 - val_accuracy: 0.2886\n",
            "Epoch 26/30\n",
            "26/26 - 25s - loss: 0.0038 - accuracy: 0.9988 - val_loss: 5.6580 - val_accuracy: 0.2985\n",
            "Epoch 27/30\n",
            "26/26 - 25s - loss: 0.0056 - accuracy: 0.9988 - val_loss: 6.0423 - val_accuracy: 0.3085\n",
            "Epoch 28/30\n",
            "26/26 - 25s - loss: 0.0056 - accuracy: 0.9988 - val_loss: 5.7641 - val_accuracy: 0.3184\n",
            "Epoch 29/30\n",
            "26/26 - 25s - loss: 0.0041 - accuracy: 0.9988 - val_loss: 6.1914 - val_accuracy: 0.3085\n",
            "Epoch 30/30\n",
            "26/26 - 25s - loss: 0.0048 - accuracy: 0.9988 - val_loss: 6.1442 - val_accuracy: 0.3284\n"
          ]
        }
      ]
    },
    {
      "cell_type": "markdown",
      "metadata": {
        "id": "yA_dLg9xAJhL"
      },
      "source": [
        "Terjadi overfitting. Sudah cukup bagus karena data yang dimiliki berjumlah 1000. "
      ]
    }
  ]
}