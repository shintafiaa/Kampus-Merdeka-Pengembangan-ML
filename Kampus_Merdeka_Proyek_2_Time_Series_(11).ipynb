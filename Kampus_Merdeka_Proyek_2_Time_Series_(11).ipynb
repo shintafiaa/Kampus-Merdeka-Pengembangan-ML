{
  "nbformat": 4,
  "nbformat_minor": 0,
  "metadata": {
    "accelerator": "GPU",
    "colab": {
      "name": "Kampus Merdeka-Proyek 2 Time Series (11).ipynb",
      "provenance": [],
      "authorship_tag": "ABX9TyPCS1pEdPcqkm2T1GZDsMvq",
      "include_colab_link": true
    },
    "kernelspec": {
      "display_name": "Python 3",
      "name": "python3"
    },
    "language_info": {
      "name": "python"
    }
  },
  "cells": [
    {
      "cell_type": "markdown",
      "metadata": {
        "id": "view-in-github",
        "colab_type": "text"
      },
      "source": [
        "<a href=\"https://colab.research.google.com/github/shintafiaa/Kampus-Merdeka-Pengembangan-ML/blob/main/Kampus_Merdeka_Proyek_2_Time_Series_(11).ipynb\" target=\"_parent\"><img src=\"https://colab.research.google.com/assets/colab-badge.svg\" alt=\"Open In Colab\"/></a>"
      ]
    },
    {
      "cell_type": "markdown",
      "metadata": {
        "id": "j-B2uDgy0jk5"
      },
      "source": [
        "Shinta Roudlotu Hanafia\n",
        "\n",
        "Submission ke-2 Modul Pengembangan ML pada Dicoding Course\n",
        "\n",
        "LSTM-Time Series-Weather\n",
        "File submisi proyek ke-2 modul Pengembangan Machine Learning mengenai LSTM-Time Series, temperature changes. \n",
        "\n",
        "shintafiaa@gmail.com\n",
        "\n",
        "2 Oktober 2021"
      ]
    },
    {
      "cell_type": "code",
      "metadata": {
        "id": "IbrcLKwN0ZhO"
      },
      "source": [
        "import numpy as np\n",
        "import pandas as pd\n",
        "from keras.layers import Dense, LSTM\n",
        "import matplotlib.pyplot as plt\n",
        "import tensorflow as tf\n",
        "import seaborn as sns\n",
        "\n",
        "from sklearn import preprocessing\n",
        "from sklearn.preprocessing import MinMaxScaler\n",
        "from sklearn.model_selection import train_test_split"
      ],
      "execution_count": null,
      "outputs": []
    },
    {
      "cell_type": "code",
      "metadata": {
        "id": "_-7r64a30vWw"
      },
      "source": [
        "df = pd.read_csv('weatherHistory.csv')"
      ],
      "execution_count": 3,
      "outputs": []
    },
    {
      "cell_type": "code",
      "metadata": {
        "colab": {
          "base_uri": "https://localhost:8080/"
        },
        "id": "TtdxubtqjZiF",
        "outputId": "86f7b263-8606-4a15-b3a4-2f77be1bc3b7"
      },
      "source": [
        "df.info()"
      ],
      "execution_count": 4,
      "outputs": [
        {
          "output_type": "stream",
          "name": "stdout",
          "text": [
            "<class 'pandas.core.frame.DataFrame'>\n",
            "RangeIndex: 96453 entries, 0 to 96452\n",
            "Data columns (total 12 columns):\n",
            " #   Column                    Non-Null Count  Dtype  \n",
            "---  ------                    --------------  -----  \n",
            " 0   Formatted Date            96453 non-null  object \n",
            " 1   Summary                   96453 non-null  object \n",
            " 2   Precip Type               95936 non-null  object \n",
            " 3   Temperature (C)           96453 non-null  float64\n",
            " 4   Apparent Temperature (C)  96453 non-null  float64\n",
            " 5   Humidity                  96453 non-null  float64\n",
            " 6   Wind Speed (km/h)         96453 non-null  float64\n",
            " 7   Wind Bearing (degrees)    96453 non-null  float64\n",
            " 8   Visibility (km)           96453 non-null  float64\n",
            " 9   Loud Cover                96453 non-null  float64\n",
            " 10  Pressure (millibars)      96453 non-null  float64\n",
            " 11  Daily Summary             96453 non-null  object \n",
            "dtypes: float64(8), object(4)\n",
            "memory usage: 8.8+ MB\n"
          ]
        }
      ]
    },
    {
      "cell_type": "code",
      "metadata": {
        "id": "1YxHjGfF1a9t"
      },
      "source": [
        "new_df = df.loc[:,['Formatted Date','Temperature (C)']]\n",
        "df_train =  new_df.loc[:9839,['Formatted Date','Temperature (C)']]\n",
        "df_val = new_df.loc[9840:12299,['Formatted Date','Temperature (C)']]"
      ],
      "execution_count": 5,
      "outputs": []
    },
    {
      "cell_type": "code",
      "metadata": {
        "id": "RSBO18QG5w04"
      },
      "source": [
        "dates = df['Formatted Date'].values\n",
        "temp  = df['Temperature (C)'].values\n",
        "\n",
        "dates_train = df_train['Formatted Date'].values\n",
        "temp_train  = df_train['Temperature (C)'].values\n",
        "\n",
        "dates_val = df_val['Formatted Date'].values\n",
        "temp_val  = df_val['Temperature (C)'].values"
      ],
      "execution_count": 21,
      "outputs": []
    },
    {
      "cell_type": "code",
      "metadata": {
        "colab": {
          "base_uri": "https://localhost:8080/",
          "height": 341
        },
        "id": "GjaPO91R1jUh",
        "outputId": "3ddde1e8-ab7e-4f96-f131-d0816e63a0ca"
      },
      "source": [
        "plt.figure(figsize=(15,5))\n",
        "plt.plot(dates_train,temp_train)\n",
        "plt.title(\"Temperature\",\n",
        "          fontsize=20);\n",
        "plt.plot(dates_val,temp_val)\n",
        "plt.title(\"Temperature\",\n",
        "          fontsize=20);          "
      ],
      "execution_count": 7,
      "outputs": [
        {
          "output_type": "display_data",
          "data": {
            "image/png": "[encoded data removed]",
            "text/plain": [
              "<Figure size 1080x360 with 1 Axes>"
            ]
          },
          "metadata": {
            "needs_background": "light"
          }
        }
      ]
    },
    {
      "cell_type": "code",
      "metadata": {
        "colab": {
          "base_uri": "https://localhost:8080/",
          "height": 423
        },
        "id": "QZnSQQaMjrWG",
        "outputId": "c151fefa-938b-4856-802e-d53518278239"
      },
      "source": [
        "new_df"
      ],
      "execution_count": 24,
      "outputs": [
        {
          "output_type": "execute_result",
          "data": {
            "text/html": [
              "<div>\n",
              "<style scoped>\n",
              "    .dataframe tbody tr th:only-of-type {\n",
              "        vertical-align: middle;\n",
              "    }\n",
              "\n",
              "    .dataframe tbody tr th {\n",
              "        vertical-align: top;\n",
              "    }\n",
              "\n",
              "    .dataframe thead th {\n",
              "        text-align: right;\n",
              "    }\n",
              "</style>\n",
              "<table border=\"1\" class=\"dataframe\">\n",
              "  <thead>\n",
              "    <tr style=\"text-align: right;\">\n",
              "      <th></th>\n",
              "      <th>Formatted Date</th>\n",
              "      <th>Temperature (C)</th>\n",
              "    </tr>\n",
              "  </thead>\n",
              "  <tbody>\n",
              "    <tr>\n",
              "      <th>0</th>\n",
              "      <td>2006-04-01 00:00:00.000 +0200</td>\n",
              "      <td>9.472222</td>\n",
              "    </tr>\n",
              "    <tr>\n",
              "      <th>1</th>\n",
              "      <td>2006-04-01 01:00:00.000 +0200</td>\n",
              "      <td>9.355556</td>\n",
              "    </tr>\n",
              "    <tr>\n",
              "      <th>2</th>\n",
              "      <td>2006-04-01 02:00:00.000 +0200</td>\n",
              "      <td>9.377778</td>\n",
              "    </tr>\n",
              "    <tr>\n",
              "      <th>3</th>\n",
              "      <td>2006-04-01 03:00:00.000 +0200</td>\n",
              "      <td>8.288889</td>\n",
              "    </tr>\n",
              "    <tr>\n",
              "      <th>4</th>\n",
              "      <td>2006-04-01 04:00:00.000 +0200</td>\n",
              "      <td>8.755556</td>\n",
              "    </tr>\n",
              "    <tr>\n",
              "      <th>...</th>\n",
              "      <td>...</td>\n",
              "      <td>...</td>\n",
              "    </tr>\n",
              "    <tr>\n",
              "      <th>96448</th>\n",
              "      <td>2016-09-09 19:00:00.000 +0200</td>\n",
              "      <td>26.016667</td>\n",
              "    </tr>\n",
              "    <tr>\n",
              "      <th>96449</th>\n",
              "      <td>2016-09-09 20:00:00.000 +0200</td>\n",
              "      <td>24.583333</td>\n",
              "    </tr>\n",
              "    <tr>\n",
              "      <th>96450</th>\n",
              "      <td>2016-09-09 21:00:00.000 +0200</td>\n",
              "      <td>22.038889</td>\n",
              "    </tr>\n",
              "    <tr>\n",
              "      <th>96451</th>\n",
              "      <td>2016-09-09 22:00:00.000 +0200</td>\n",
              "      <td>21.522222</td>\n",
              "    </tr>\n",
              "    <tr>\n",
              "      <th>96452</th>\n",
              "      <td>2016-09-09 23:00:00.000 +0200</td>\n",
              "      <td>20.438889</td>\n",
              "    </tr>\n",
              "  </tbody>\n",
              "</table>\n",
              "<p>96453 rows × 2 columns</p>\n",
              "</div>"
            ],
            "text/plain": [
              "                      Formatted Date  Temperature (C)\n",
              "0      2006-04-01 00:00:00.000 +0200         9.472222\n",
              "1      2006-04-01 01:00:00.000 +0200         9.355556\n",
              "2      2006-04-01 02:00:00.000 +0200         9.377778\n",
              "3      2006-04-01 03:00:00.000 +0200         8.288889\n",
              "4      2006-04-01 04:00:00.000 +0200         8.755556\n",
              "...                              ...              ...\n",
              "96448  2016-09-09 19:00:00.000 +0200        26.016667\n",
              "96449  2016-09-09 20:00:00.000 +0200        24.583333\n",
              "96450  2016-09-09 21:00:00.000 +0200        22.038889\n",
              "96451  2016-09-09 22:00:00.000 +0200        21.522222\n",
              "96452  2016-09-09 23:00:00.000 +0200        20.438889\n",
              "\n",
              "[96453 rows x 2 columns]"
            ]
          },
          "metadata": {},
          "execution_count": 24
        }
      ]
    },
    {
      "cell_type": "code",
      "metadata": {
        "colab": {
          "base_uri": "https://localhost:8080/",
          "height": 423
        },
        "id": "q4loUWoF1Qtg",
        "outputId": "9ab8d168-4eed-4743-9a36-b18a7174ca55"
      },
      "source": [
        "df_train"
      ],
      "execution_count": 9,
      "outputs": [
        {
          "output_type": "execute_result",
          "data": {
            "text/html": [
              "<div>\n",
              "<style scoped>\n",
              "    .dataframe tbody tr th:only-of-type {\n",
              "        vertical-align: middle;\n",
              "    }\n",
              "\n",
              "    .dataframe tbody tr th {\n",
              "        vertical-align: top;\n",
              "    }\n",
              "\n",
              "    .dataframe thead th {\n",
              "        text-align: right;\n",
              "    }\n",
              "</style>\n",
              "<table border=\"1\" class=\"dataframe\">\n",
              "  <thead>\n",
              "    <tr style=\"text-align: right;\">\n",
              "      <th></th>\n",
              "      <th>Formatted Date</th>\n",
              "      <th>Temperature (C)</th>\n",
              "    </tr>\n",
              "  </thead>\n",
              "  <tbody>\n",
              "    <tr>\n",
              "      <th>0</th>\n",
              "      <td>2006-04-01 00:00:00.000 +0200</td>\n",
              "      <td>9.472222</td>\n",
              "    </tr>\n",
              "    <tr>\n",
              "      <th>1</th>\n",
              "      <td>2006-04-01 01:00:00.000 +0200</td>\n",
              "      <td>9.355556</td>\n",
              "    </tr>\n",
              "    <tr>\n",
              "      <th>2</th>\n",
              "      <td>2006-04-01 02:00:00.000 +0200</td>\n",
              "      <td>9.377778</td>\n",
              "    </tr>\n",
              "    <tr>\n",
              "      <th>3</th>\n",
              "      <td>2006-04-01 03:00:00.000 +0200</td>\n",
              "      <td>8.288889</td>\n",
              "    </tr>\n",
              "    <tr>\n",
              "      <th>4</th>\n",
              "      <td>2006-04-01 04:00:00.000 +0200</td>\n",
              "      <td>8.755556</td>\n",
              "    </tr>\n",
              "    <tr>\n",
              "      <th>...</th>\n",
              "      <td>...</td>\n",
              "      <td>...</td>\n",
              "    </tr>\n",
              "    <tr>\n",
              "      <th>9835</th>\n",
              "      <td>2007-08-21 19:00:00.000 +0200</td>\n",
              "      <td>28.772222</td>\n",
              "    </tr>\n",
              "    <tr>\n",
              "      <th>9836</th>\n",
              "      <td>2007-08-21 20:00:00.000 +0200</td>\n",
              "      <td>25.877778</td>\n",
              "    </tr>\n",
              "    <tr>\n",
              "      <th>9837</th>\n",
              "      <td>2007-08-21 21:00:00.000 +0200</td>\n",
              "      <td>23.750000</td>\n",
              "    </tr>\n",
              "    <tr>\n",
              "      <th>9838</th>\n",
              "      <td>2007-08-21 22:00:00.000 +0200</td>\n",
              "      <td>22.105556</td>\n",
              "    </tr>\n",
              "    <tr>\n",
              "      <th>9839</th>\n",
              "      <td>2007-08-21 23:00:00.000 +0200</td>\n",
              "      <td>22.566667</td>\n",
              "    </tr>\n",
              "  </tbody>\n",
              "</table>\n",
              "<p>9840 rows × 2 columns</p>\n",
              "</div>"
            ],
            "text/plain": [
              "                     Formatted Date  Temperature (C)\n",
              "0     2006-04-01 00:00:00.000 +0200         9.472222\n",
              "1     2006-04-01 01:00:00.000 +0200         9.355556\n",
              "2     2006-04-01 02:00:00.000 +0200         9.377778\n",
              "3     2006-04-01 03:00:00.000 +0200         8.288889\n",
              "4     2006-04-01 04:00:00.000 +0200         8.755556\n",
              "...                             ...              ...\n",
              "9835  2007-08-21 19:00:00.000 +0200        28.772222\n",
              "9836  2007-08-21 20:00:00.000 +0200        25.877778\n",
              "9837  2007-08-21 21:00:00.000 +0200        23.750000\n",
              "9838  2007-08-21 22:00:00.000 +0200        22.105556\n",
              "9839  2007-08-21 23:00:00.000 +0200        22.566667\n",
              "\n",
              "[9840 rows x 2 columns]"
            ]
          },
          "metadata": {},
          "execution_count": 9
        }
      ]
    },
    {
      "cell_type": "code",
      "metadata": {
        "colab": {
          "base_uri": "https://localhost:8080/"
        },
        "id": "Wr6kahsZS_KP",
        "outputId": "cf7ef08a-2013-401e-90b4-dd0bba4f0627"
      },
      "source": [
        "df_train.isnull().sum()"
      ],
      "execution_count": 10,
      "outputs": [
        {
          "output_type": "execute_result",
          "data": {
            "text/plain": [
              "Formatted Date     0\n",
              "Temperature (C)    0\n",
              "dtype: int64"
            ]
          },
          "metadata": {},
          "execution_count": 10
        }
      ]
    },
    {
      "cell_type": "code",
      "metadata": {
        "colab": {
          "base_uri": "https://localhost:8080/",
          "height": 423
        },
        "id": "LLXZsXfkUX0t",
        "outputId": "22fa01d5-0246-4078-da29-c1b29a72aeba"
      },
      "source": [
        "df_val"
      ],
      "execution_count": 11,
      "outputs": [
        {
          "output_type": "execute_result",
          "data": {
            "text/html": [
              "<div>\n",
              "<style scoped>\n",
              "    .dataframe tbody tr th:only-of-type {\n",
              "        vertical-align: middle;\n",
              "    }\n",
              "\n",
              "    .dataframe tbody tr th {\n",
              "        vertical-align: top;\n",
              "    }\n",
              "\n",
              "    .dataframe thead th {\n",
              "        text-align: right;\n",
              "    }\n",
              "</style>\n",
              "<table border=\"1\" class=\"dataframe\">\n",
              "  <thead>\n",
              "    <tr style=\"text-align: right;\">\n",
              "      <th></th>\n",
              "      <th>Formatted Date</th>\n",
              "      <th>Temperature (C)</th>\n",
              "    </tr>\n",
              "  </thead>\n",
              "  <tbody>\n",
              "    <tr>\n",
              "      <th>9840</th>\n",
              "      <td>2007-08-22 00:00:00.000 +0200</td>\n",
              "      <td>21.483333</td>\n",
              "    </tr>\n",
              "    <tr>\n",
              "      <th>9841</th>\n",
              "      <td>2007-08-22 01:00:00.000 +0200</td>\n",
              "      <td>19.933333</td>\n",
              "    </tr>\n",
              "    <tr>\n",
              "      <th>9842</th>\n",
              "      <td>2007-08-22 02:00:00.000 +0200</td>\n",
              "      <td>21.833333</td>\n",
              "    </tr>\n",
              "    <tr>\n",
              "      <th>9843</th>\n",
              "      <td>2007-08-22 03:00:00.000 +0200</td>\n",
              "      <td>18.866667</td>\n",
              "    </tr>\n",
              "    <tr>\n",
              "      <th>9844</th>\n",
              "      <td>2007-08-22 04:00:00.000 +0200</td>\n",
              "      <td>18.266667</td>\n",
              "    </tr>\n",
              "    <tr>\n",
              "      <th>...</th>\n",
              "      <td>...</td>\n",
              "      <td>...</td>\n",
              "    </tr>\n",
              "    <tr>\n",
              "      <th>12295</th>\n",
              "      <td>2007-01-05 07:00:00.000 +0100</td>\n",
              "      <td>2.466667</td>\n",
              "    </tr>\n",
              "    <tr>\n",
              "      <th>12296</th>\n",
              "      <td>2007-01-05 08:00:00.000 +0100</td>\n",
              "      <td>2.316667</td>\n",
              "    </tr>\n",
              "    <tr>\n",
              "      <th>12297</th>\n",
              "      <td>2007-01-05 09:00:00.000 +0100</td>\n",
              "      <td>2.966667</td>\n",
              "    </tr>\n",
              "    <tr>\n",
              "      <th>12298</th>\n",
              "      <td>2007-01-05 10:00:00.000 +0100</td>\n",
              "      <td>5.927778</td>\n",
              "    </tr>\n",
              "    <tr>\n",
              "      <th>12299</th>\n",
              "      <td>2007-01-05 11:00:00.000 +0100</td>\n",
              "      <td>8.772222</td>\n",
              "    </tr>\n",
              "  </tbody>\n",
              "</table>\n",
              "<p>2460 rows × 2 columns</p>\n",
              "</div>"
            ],
            "text/plain": [
              "                      Formatted Date  Temperature (C)\n",
              "9840   2007-08-22 00:00:00.000 +0200        21.483333\n",
              "9841   2007-08-22 01:00:00.000 +0200        19.933333\n",
              "9842   2007-08-22 02:00:00.000 +0200        21.833333\n",
              "9843   2007-08-22 03:00:00.000 +0200        18.866667\n",
              "9844   2007-08-22 04:00:00.000 +0200        18.266667\n",
              "...                              ...              ...\n",
              "12295  2007-01-05 07:00:00.000 +0100         2.466667\n",
              "12296  2007-01-05 08:00:00.000 +0100         2.316667\n",
              "12297  2007-01-05 09:00:00.000 +0100         2.966667\n",
              "12298  2007-01-05 10:00:00.000 +0100         5.927778\n",
              "12299  2007-01-05 11:00:00.000 +0100         8.772222\n",
              "\n",
              "[2460 rows x 2 columns]"
            ]
          },
          "metadata": {},
          "execution_count": 11
        }
      ]
    },
    {
      "cell_type": "code",
      "metadata": {
        "colab": {
          "base_uri": "https://localhost:8080/"
        },
        "id": "xRWdier5TB5I",
        "outputId": "dc7bac3b-cca6-49dd-ad6e-f93d2f4aae4a"
      },
      "source": [
        "df_val.isnull().sum()"
      ],
      "execution_count": 12,
      "outputs": [
        {
          "output_type": "execute_result",
          "data": {
            "text/plain": [
              "Formatted Date     0\n",
              "Temperature (C)    0\n",
              "dtype: int64"
            ]
          },
          "metadata": {},
          "execution_count": 12
        }
      ]
    },
    {
      "cell_type": "code",
      "metadata": {
        "colab": {
          "base_uri": "https://localhost:8080/"
        },
        "id": "d26UBLyU2Xhv",
        "outputId": "7ae37ff7-ba35-48b2-a06a-961fdc76f3a0"
      },
      "source": [
        "pip install sklearn"
      ],
      "execution_count": 13,
      "outputs": [
        {
          "output_type": "stream",
          "name": "stdout",
          "text": [
            "Requirement already satisfied: sklearn in /usr/local/lib/python3.7/dist-packages (0.0)\n",
            "Requirement already satisfied: scikit-learn in /usr/local/lib/python3.7/dist-packages (from sklearn) (0.22.2.post1)\n",
            "Requirement already satisfied: joblib>=0.11 in /usr/local/lib/python3.7/dist-packages (from scikit-learn->sklearn) (1.0.1)\n",
            "Requirement already satisfied: numpy>=1.11.0 in /usr/local/lib/python3.7/dist-packages (from scikit-learn->sklearn) (1.19.5)\n",
            "Requirement already satisfied: scipy>=0.17.0 in /usr/local/lib/python3.7/dist-packages (from scikit-learn->sklearn) (1.4.1)\n"
          ]
        }
      ]
    },
    {
      "cell_type": "code",
      "metadata": {
        "colab": {
          "base_uri": "https://localhost:8080/"
        },
        "id": "EWodJyhklB8o",
        "outputId": "2cda109d-762d-4602-d9dd-78dea6e29402"
      },
      "source": [
        "# Normalize\n",
        "min_max_scaler = MinMaxScaler(feature_range = (0,1))\n",
        "temp_scale_train = min_max_scaler.fit_transform(df_train[['Temperature (C)']])\n",
        "temp_scale_train"
      ],
      "execution_count": 14,
      "outputs": [
        {
          "output_type": "execute_result",
          "data": {
            "text/plain": [
              "array([[0.48775158],\n",
              "       [0.4853364 ],\n",
              "       [0.48579643],\n",
              "       ...,\n",
              "       [0.78332375],\n",
              "       [0.7492812 ],\n",
              "       [0.75882691]])"
            ]
          },
          "metadata": {},
          "execution_count": 14
        }
      ]
    },
    {
      "cell_type": "code",
      "metadata": {
        "colab": {
          "base_uri": "https://localhost:8080/"
        },
        "id": "8rN4AM8UIuLl",
        "outputId": "ace28ca6-6ed3-4685-c038-4306b389ec37"
      },
      "source": [
        "#Normalize\n",
        "temp_scale_val = min_max_scaler.fit_transform(df_val[['Temperature (C)']])\n",
        "temp_scale_val"
      ],
      "execution_count": 15,
      "outputs": [
        {
          "output_type": "execute_result",
          "data": {
            "text/plain": [
              "array([[0.66913406],\n",
              "       [0.63635295],\n",
              "       [0.67653625],\n",
              "       ...,\n",
              "       [0.27752321],\n",
              "       [0.34014804],\n",
              "       [0.40030549]])"
            ]
          },
          "metadata": {},
          "execution_count": 15
        }
      ]
    },
    {
      "cell_type": "code",
      "metadata": {
        "id": "8keOzxpK1yQE"
      },
      "source": [
        "#menerima sebuah series/atribut kita yang telah dikonversi menjadi tipe numpy, lalu mengembalikan label dan atribut dari dataset dalam bentuk batch\n",
        "def windowed_dataset(series, window_size, batch_size, shuffle_buffer):\n",
        "    series = tf.expand_dims(series, axis=-1)\n",
        "    ds = tf.data.Dataset.from_tensor_slices(series)\n",
        "    ds = ds.window(window_size + 1, shift=1, drop_remainder=True)\n",
        "    ds = ds.flat_map(lambda w: w.batch(window_size + 1))\n",
        "    ds = ds.shuffle(shuffle_buffer)\n",
        "    ds = ds.map(lambda w: (w[:-1], w[-1:]))\n",
        "    return ds.batch(batch_size).prefetch(1)"
      ],
      "execution_count": 16,
      "outputs": []
    },
    {
      "cell_type": "code",
      "metadata": {
        "id": "mPydqJaz10ty"
      },
      "source": [
        "#2 buah layer LSTM\n",
        "train_set = windowed_dataset(temp_train, window_size=60, batch_size=100, shuffle_buffer=1000)\n",
        "test_set = windowed_dataset(temp_val, window_size=60, batch_size=100, shuffle_buffer=1000)\n",
        "model = tf.keras.models.Sequential([\n",
        "  tf.keras.layers.LSTM(64, return_sequences=True),\n",
        "  tf.keras.layers.LSTM(64),\n",
        "  tf.keras.layers.Dense(30, activation=\"relu\"),\n",
        "  tf.keras.layers.Dropout(0.2),\n",
        "  tf.keras.layers.Dense(10, activation=\"relu\"),\n",
        "  tf.keras.layers.Dropout(0.5),\n",
        "  tf.keras.layers.Dense(1)\n",
        "])"
      ],
      "execution_count": 17,
      "outputs": []
    },
    {
      "cell_type": "code",
      "metadata": {
        "id": "YBByKrpw12Vc"
      },
      "source": [
        "class myCallback(tf.keras.callbacks.Callback):\n",
        "  def on_epoch_end(self, epoch, logs={}):\n",
        "    if(logs.get('mae')<0.09):\n",
        "      print(\"\\MAE model telah mencapai < 10%! \")\n",
        "      self.model.stop_training = True\n",
        "callbacks = myCallback()"
      ],
      "execution_count": 18,
      "outputs": []
    },
    {
      "cell_type": "code",
      "metadata": {
        "colab": {
          "base_uri": "https://localhost:8080/"
        },
        "id": "hcRpCq8k18-x",
        "outputId": "b9739daa-3763-42d2-e68b-2cdc8d089425"
      },
      "source": [
        "#pada optimizer, kita akan menggunakan parameter learning rate dan momentum\n",
        "#Loss function Huber\n",
        "#metrik evaluasi model MAE\n",
        "optimizer = tf.keras.optimizers.SGD(learning_rate=1.0000e-08, momentum=0.9)\n",
        "model.compile(loss=tf.keras.losses.Huber(),\n",
        "              optimizer=optimizer,\n",
        "              metrics=[\"mae\"])\n",
        "history = model.fit(train_set,epochs=50, callbacks=[callbacks])"
      ],
      "execution_count": 23,
      "outputs": [
        {
          "output_type": "stream",
          "name": "stdout",
          "text": [
            "Epoch 1/50\n",
            "98/98 [==============================] - 7s 32ms/step - loss: 2.6798 - mae: 3.1380\n",
            "Epoch 2/50\n",
            "98/98 [==============================] - 3s 33ms/step - loss: 2.7335 - mae: 3.1911\n",
            "Epoch 3/50\n",
            "98/98 [==============================] - 3s 33ms/step - loss: 2.7117 - mae: 3.1699\n",
            "Epoch 4/50\n",
            "98/98 [==============================] - 3s 33ms/step - loss: 2.6668 - mae: 3.1243\n",
            "Epoch 5/50\n",
            "98/98 [==============================] - 3s 33ms/step - loss: 2.7338 - mae: 3.1933\n",
            "Epoch 6/50\n",
            "98/98 [==============================] - 3s 33ms/step - loss: 2.6770 - mae: 3.1339\n",
            "Epoch 7/50\n",
            "98/98 [==============================] - 3s 33ms/step - loss: 2.7116 - mae: 3.1679\n",
            "Epoch 8/50\n",
            "98/98 [==============================] - 3s 32ms/step - loss: 2.6548 - mae: 3.1139\n",
            "Epoch 9/50\n",
            "98/98 [==============================] - 3s 32ms/step - loss: 2.6807 - mae: 3.1384\n",
            "Epoch 10/50\n",
            "98/98 [==============================] - 3s 32ms/step - loss: 2.6575 - mae: 3.1144\n",
            "Epoch 11/50\n",
            "98/98 [==============================] - 3s 32ms/step - loss: 2.6670 - mae: 3.1236\n",
            "Epoch 12/50\n",
            "98/98 [==============================] - 3s 32ms/step - loss: 2.6826 - mae: 3.1409\n",
            "Epoch 13/50\n",
            "98/98 [==============================] - 3s 32ms/step - loss: 2.6933 - mae: 3.1515\n",
            "Epoch 14/50\n",
            "98/98 [==============================] - 3s 32ms/step - loss: 2.7053 - mae: 3.1646\n",
            "Epoch 15/50\n",
            "98/98 [==============================] - 3s 32ms/step - loss: 2.6540 - mae: 3.1105\n",
            "Epoch 16/50\n",
            "98/98 [==============================] - 3s 33ms/step - loss: 2.6983 - mae: 3.1563\n",
            "Epoch 17/50\n",
            "98/98 [==============================] - 3s 32ms/step - loss: 2.7102 - mae: 3.1661\n",
            "Epoch 18/50\n",
            "98/98 [==============================] - 3s 33ms/step - loss: 2.6759 - mae: 3.1335\n",
            "Epoch 19/50\n",
            "98/98 [==============================] - 3s 33ms/step - loss: 2.6951 - mae: 3.1521\n",
            "Epoch 20/50\n",
            "98/98 [==============================] - 3s 32ms/step - loss: 2.6906 - mae: 3.1475\n",
            "Epoch 21/50\n",
            "98/98 [==============================] - 3s 32ms/step - loss: 2.7038 - mae: 3.1644\n",
            "Epoch 22/50\n",
            "98/98 [==============================] - 3s 32ms/step - loss: 2.6826 - mae: 3.1414\n",
            "Epoch 23/50\n",
            "98/98 [==============================] - 3s 33ms/step - loss: 2.6853 - mae: 3.1433\n",
            "Epoch 24/50\n",
            "98/98 [==============================] - 3s 32ms/step - loss: 2.6671 - mae: 3.1241\n",
            "Epoch 25/50\n",
            "98/98 [==============================] - 3s 32ms/step - loss: 2.6674 - mae: 3.1254\n",
            "Epoch 26/50\n",
            "98/98 [==============================] - 3s 33ms/step - loss: 2.7161 - mae: 3.1730\n",
            "Epoch 27/50\n",
            "98/98 [==============================] - 3s 33ms/step - loss: 2.7219 - mae: 3.1799\n",
            "Epoch 28/50\n",
            "98/98 [==============================] - 3s 32ms/step - loss: 2.6610 - mae: 3.1191\n",
            "Epoch 29/50\n",
            "98/98 [==============================] - 3s 32ms/step - loss: 2.6829 - mae: 3.1413\n",
            "Epoch 30/50\n",
            "98/98 [==============================] - 3s 33ms/step - loss: 2.6793 - mae: 3.1372\n",
            "Epoch 31/50\n",
            "98/98 [==============================] - 3s 32ms/step - loss: 2.6734 - mae: 3.1310\n",
            "Epoch 32/50\n",
            "98/98 [==============================] - 3s 32ms/step - loss: 2.7069 - mae: 3.1649\n",
            "Epoch 33/50\n",
            "98/98 [==============================] - 3s 32ms/step - loss: 2.7051 - mae: 3.1636\n",
            "Epoch 34/50\n",
            "98/98 [==============================] - 3s 32ms/step - loss: 2.6960 - mae: 3.1554\n",
            "Epoch 35/50\n",
            "98/98 [==============================] - 3s 32ms/step - loss: 2.6725 - mae: 3.1309\n",
            "Epoch 36/50\n",
            "98/98 [==============================] - 3s 33ms/step - loss: 2.7359 - mae: 3.1937\n",
            "Epoch 37/50\n",
            "98/98 [==============================] - 3s 32ms/step - loss: 2.7148 - mae: 3.1747\n",
            "Epoch 38/50\n",
            "98/98 [==============================] - 3s 33ms/step - loss: 2.6399 - mae: 3.0957\n",
            "Epoch 39/50\n",
            "98/98 [==============================] - 3s 33ms/step - loss: 2.6896 - mae: 3.1473\n",
            "Epoch 40/50\n",
            "98/98 [==============================] - 3s 32ms/step - loss: 2.6602 - mae: 3.1182\n",
            "Epoch 41/50\n",
            "98/98 [==============================] - 3s 33ms/step - loss: 2.6888 - mae: 3.1464\n",
            "Epoch 42/50\n",
            "98/98 [==============================] - 3s 32ms/step - loss: 2.7052 - mae: 3.1636\n",
            "Epoch 43/50\n",
            "98/98 [==============================] - 3s 33ms/step - loss: 2.6648 - mae: 3.1211\n",
            "Epoch 44/50\n",
            "98/98 [==============================] - 3s 32ms/step - loss: 2.6254 - mae: 3.0830\n",
            "Epoch 45/50\n",
            "98/98 [==============================] - 3s 33ms/step - loss: 2.6837 - mae: 3.1408\n",
            "Epoch 46/50\n",
            "98/98 [==============================] - 3s 32ms/step - loss: 2.7006 - mae: 3.1583\n",
            "Epoch 47/50\n",
            "98/98 [==============================] - 3s 33ms/step - loss: 2.6478 - mae: 3.1053\n",
            "Epoch 48/50\n",
            "98/98 [==============================] - 3s 33ms/step - loss: 2.6973 - mae: 3.1557\n",
            "Epoch 49/50\n",
            "98/98 [==============================] - 3s 33ms/step - loss: 2.7059 - mae: 3.1636\n",
            "Epoch 50/50\n",
            "98/98 [==============================] - 3s 33ms/step - loss: 2.6864 - mae: 3.1448\n"
          ]
        }
      ]
    },
    {
      "cell_type": "code",
      "metadata": {
        "colab": {
          "base_uri": "https://localhost:8080/"
        },
        "id": "28UVRz29kNfx",
        "outputId": "28bb5c45-0ba9-4a80-a5a0-6ddff57691e5"
      },
      "source": [
        "skala_data = max(temp)-min(temp)\n",
        "minMae = skala_data * 10/100\n",
        "minMae"
      ],
      "execution_count": 25,
      "outputs": [
        {
          "output_type": "execute_result",
          "data": {
            "text/plain": [
              "6.172777777777777"
            ]
          },
          "metadata": {},
          "execution_count": 25
        }
      ]
    },
    {
      "cell_type": "markdown",
      "metadata": {
        "id": "IVhnukH-vEuO"
      },
      "source": [
        "Mae harus < 10% dari skala data\n",
        "\n",
        "minimal Mae harus di bawah 6.172777777777777\n",
        "\n",
        "mae yang saya dapatkan bernilai 3.1448"
      ]
    },
    {
      "cell_type": "code",
      "metadata": {
        "colab": {
          "base_uri": "https://localhost:8080/",
          "height": 295
        },
        "id": "KosZmKS93QYS",
        "outputId": "a544ab68-e2f7-46ec-ba45-5bea4b0a83fb"
      },
      "source": [
        "plt.plot(history.history['loss'])\n",
        "plt.title('Model loss')\n",
        "plt.ylabel('loss')\n",
        "plt.xlabel('Epoch')\n",
        "plt.legend(['Train', 'Test'], loc='lower right')\n",
        "plt.show()"
      ],
      "execution_count": 26,
      "outputs": [
        {
          "output_type": "display_data",
          "data": {
            "image/png": "[encoded data removed]",
            "text/plain": [
              "<Figure size 432x288 with 1 Axes>"
            ]
          },
          "metadata": {
            "needs_background": "light"
          }
        }
      ]
    },
    {
      "cell_type": "code",
      "metadata": {
        "colab": {
          "base_uri": "https://localhost:8080/",
          "height": 295
        },
        "id": "v-HZ8QPg3hHx",
        "outputId": "98fad3c8-d2b2-484a-af5b-c359061a6e78"
      },
      "source": [
        "plt.plot(history.history['mae'])\n",
        "plt.title('Model mae')\n",
        "plt.ylabel('mae')\n",
        "plt.xlabel('Epoch')\n",
        "plt.legend(['Train', 'Test'], loc='lower right')\n",
        "plt.show()"
      ],
      "execution_count": 27,
      "outputs": [
        {
          "output_type": "display_data",
          "data": {
            "image/png": "[encoded data removed]",
            "text/plain": [
              "<Figure size 432x288 with 1 Axes>"
            ]
          },
          "metadata": {
            "needs_background": "light"
          }
        }
      ]
    }
  ]
}