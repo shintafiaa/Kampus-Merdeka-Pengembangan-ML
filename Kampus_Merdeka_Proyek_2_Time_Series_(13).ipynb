{
  "nbformat": 4,
  "nbformat_minor": 0,
  "metadata": {
    "colab": {
      "name": "Kampus Merdeka-Proyek 2 Time Series (11).ipynb",
      "provenance": [],
      "authorship_tag": "ABX9TyMXPJhLCvhNcgQ2gJIv2PG7",
      "include_colab_link": true
    },
    "kernelspec": {
      "display_name": "Python 3",
      "name": "python3"
    },
    "language_info": {
      "name": "python"
    },
    "accelerator": "GPU"
  },
  "cells": [
    {
      "cell_type": "markdown",
      "metadata": {
        "id": "view-in-github",
        "colab_type": "text"
      },
      "source": [
        "<a href=\"https://colab.research.google.com/github/shintafiaa/Kampus-Merdeka-Pengembangan-ML/blob/main/Kampus_Merdeka_Proyek_2_Time_Series_(13).ipynb\" target=\"_parent\"><img src=\"https://colab.research.google.com/assets/colab-badge.svg\" alt=\"Open In Colab\"/></a>"
      ]
    },
    {
      "cell_type": "markdown",
      "metadata": {
        "id": "j-B2uDgy0jk5"
      },
      "source": [
        "Shinta Roudlotu Hanafia\n",
        "\n",
        "Submission ke-2 Modul Pengembangan ML pada Dicoding Course\n",
        "\n",
        "LSTM-Time Series-Weather\n",
        "File submisi proyek ke-2 modul Pengembangan Machine Learning mengenai LSTM-Time Series, temperature changes. \n",
        "\n",
        "shintafiaa@gmail.com\n",
        "\n",
        "2 Oktober 2021"
      ]
    },
    {
      "cell_type": "code",
      "metadata": {
        "id": "IbrcLKwN0ZhO"
      },
      "source": [
        "import numpy as np\n",
        "import pandas as pd\n",
        "from keras.layers import Dense, LSTM\n",
        "import matplotlib.pyplot as plt\n",
        "import tensorflow as tf\n",
        "import seaborn as sns\n",
        "\n",
        "from sklearn import preprocessing\n",
        "from sklearn.preprocessing import MinMaxScaler\n",
        "from sklearn.model_selection import train_test_split"
      ],
      "execution_count": 11,
      "outputs": []
    },
    {
      "cell_type": "code",
      "metadata": {
        "id": "_-7r64a30vWw"
      },
      "source": [
        "df = pd.read_csv('weatherHistory.csv')"
      ],
      "execution_count": 10,
      "outputs": []
    },
    {
      "cell_type": "code",
      "metadata": {
        "colab": {
          "base_uri": "https://localhost:8080/"
        },
        "id": "TtdxubtqjZiF",
        "outputId": "4ace7575-aa98-4366-feaf-706dc9211f47"
      },
      "source": [
        "df.info()"
      ],
      "execution_count": 3,
      "outputs": [
        {
          "output_type": "stream",
          "name": "stdout",
          "text": [
            "<class 'pandas.core.frame.DataFrame'>\n",
            "RangeIndex: 96453 entries, 0 to 96452\n",
            "Data columns (total 12 columns):\n",
            " #   Column                    Non-Null Count  Dtype  \n",
            "---  ------                    --------------  -----  \n",
            " 0   Formatted Date            96453 non-null  object \n",
            " 1   Summary                   96453 non-null  object \n",
            " 2   Precip Type               95936 non-null  object \n",
            " 3   Temperature (C)           96453 non-null  float64\n",
            " 4   Apparent Temperature (C)  96453 non-null  float64\n",
            " 5   Humidity                  96453 non-null  float64\n",
            " 6   Wind Speed (km/h)         96453 non-null  float64\n",
            " 7   Wind Bearing (degrees)    96453 non-null  float64\n",
            " 8   Visibility (km)           96453 non-null  float64\n",
            " 9   Loud Cover                96453 non-null  float64\n",
            " 10  Pressure (millibars)      96453 non-null  float64\n",
            " 11  Daily Summary             96453 non-null  object \n",
            "dtypes: float64(8), object(4)\n",
            "memory usage: 8.8+ MB\n"
          ]
        }
      ]
    },
    {
      "cell_type": "code",
      "metadata": {
        "id": "1YxHjGfF1a9t"
      },
      "source": [
        "new_df = df.loc[:,['Formatted Date','Temperature (C)']]\n",
        "df_train =  new_df.loc[:9839,['Formatted Date','Temperature (C)']]\n",
        "df_val = new_df.loc[9840:12299,['Formatted Date','Temperature (C)']]"
      ],
      "execution_count": 4,
      "outputs": []
    },
    {
      "cell_type": "code",
      "metadata": {
        "id": "RSBO18QG5w04"
      },
      "source": [
        "dates = df['Formatted Date'].values\n",
        "temp  = df['Temperature (C)'].values\n",
        "\n",
        "dates_train = df_train['Formatted Date'].values\n",
        "temp_train  = df_train['Temperature (C)'].values\n",
        "\n",
        "dates_val = df_val['Formatted Date'].values\n",
        "temp_val  = df_val['Temperature (C)'].values"
      ],
      "execution_count": 5,
      "outputs": []
    },
    {
      "cell_type": "code",
      "metadata": {
        "colab": {
          "base_uri": "https://localhost:8080/",
          "height": 341
        },
        "id": "GjaPO91R1jUh",
        "outputId": "a7c1fc83-df71-4f22-fa8f-07705107de20"
      },
      "source": [
        "plt.figure(figsize=(15,5))\n",
        "plt.plot(dates_train,temp_train)\n",
        "plt.title(\"Temperature\",\n",
        "          fontsize=20);\n",
        "plt.plot(dates_val,temp_val)\n",
        "plt.title(\"Temperature\",\n",
        "          fontsize=20);          "
      ],
      "execution_count": 6,
      "outputs": [
        {
          "output_type": "display_data",
          "data": {
            "image/png": "[encoded data removed]",
            "text/plain": [
              "<Figure size 1080x360 with 1 Axes>"
            ]
          },
          "metadata": {
            "needs_background": "light"
          }
        }
      ]
    },
    {
      "cell_type": "code",
      "metadata": {
        "colab": {
          "base_uri": "https://localhost:8080/",
          "height": 423
        },
        "id": "QZnSQQaMjrWG",
        "outputId": "c220d499-b99a-40d0-d26e-47844f19778a"
      },
      "source": [
        "new_df"
      ],
      "execution_count": 7,
      "outputs": [
        {
          "output_type": "execute_result",
          "data": {
            "text/html": [
              "<div>\n",
              "<style scoped>\n",
              "    .dataframe tbody tr th:only-of-type {\n",
              "        vertical-align: middle;\n",
              "    }\n",
              "\n",
              "    .dataframe tbody tr th {\n",
              "        vertical-align: top;\n",
              "    }\n",
              "\n",
              "    .dataframe thead th {\n",
              "        text-align: right;\n",
              "    }\n",
              "</style>\n",
              "<table border=\"1\" class=\"dataframe\">\n",
              "  <thead>\n",
              "    <tr style=\"text-align: right;\">\n",
              "      <th></th>\n",
              "      <th>Formatted Date</th>\n",
              "      <th>Temperature (C)</th>\n",
              "    </tr>\n",
              "  </thead>\n",
              "  <tbody>\n",
              "    <tr>\n",
              "      <th>0</th>\n",
              "      <td>2006-04-01 00:00:00.000 +0200</td>\n",
              "      <td>9.472222</td>\n",
              "    </tr>\n",
              "    <tr>\n",
              "      <th>1</th>\n",
              "      <td>2006-04-01 01:00:00.000 +0200</td>\n",
              "      <td>9.355556</td>\n",
              "    </tr>\n",
              "    <tr>\n",
              "      <th>2</th>\n",
              "      <td>2006-04-01 02:00:00.000 +0200</td>\n",
              "      <td>9.377778</td>\n",
              "    </tr>\n",
              "    <tr>\n",
              "      <th>3</th>\n",
              "      <td>2006-04-01 03:00:00.000 +0200</td>\n",
              "      <td>8.288889</td>\n",
              "    </tr>\n",
              "    <tr>\n",
              "      <th>4</th>\n",
              "      <td>2006-04-01 04:00:00.000 +0200</td>\n",
              "      <td>8.755556</td>\n",
              "    </tr>\n",
              "    <tr>\n",
              "      <th>...</th>\n",
              "      <td>...</td>\n",
              "      <td>...</td>\n",
              "    </tr>\n",
              "    <tr>\n",
              "      <th>96448</th>\n",
              "      <td>2016-09-09 19:00:00.000 +0200</td>\n",
              "      <td>26.016667</td>\n",
              "    </tr>\n",
              "    <tr>\n",
              "      <th>96449</th>\n",
              "      <td>2016-09-09 20:00:00.000 +0200</td>\n",
              "      <td>24.583333</td>\n",
              "    </tr>\n",
              "    <tr>\n",
              "      <th>96450</th>\n",
              "      <td>2016-09-09 21:00:00.000 +0200</td>\n",
              "      <td>22.038889</td>\n",
              "    </tr>\n",
              "    <tr>\n",
              "      <th>96451</th>\n",
              "      <td>2016-09-09 22:00:00.000 +0200</td>\n",
              "      <td>21.522222</td>\n",
              "    </tr>\n",
              "    <tr>\n",
              "      <th>96452</th>\n",
              "      <td>2016-09-09 23:00:00.000 +0200</td>\n",
              "      <td>20.438889</td>\n",
              "    </tr>\n",
              "  </tbody>\n",
              "</table>\n",
              "<p>96453 rows × 2 columns</p>\n",
              "</div>"
            ],
            "text/plain": [
              "                      Formatted Date  Temperature (C)\n",
              "0      2006-04-01 00:00:00.000 +0200         9.472222\n",
              "1      2006-04-01 01:00:00.000 +0200         9.355556\n",
              "2      2006-04-01 02:00:00.000 +0200         9.377778\n",
              "3      2006-04-01 03:00:00.000 +0200         8.288889\n",
              "4      2006-04-01 04:00:00.000 +0200         8.755556\n",
              "...                              ...              ...\n",
              "96448  2016-09-09 19:00:00.000 +0200        26.016667\n",
              "96449  2016-09-09 20:00:00.000 +0200        24.583333\n",
              "96450  2016-09-09 21:00:00.000 +0200        22.038889\n",
              "96451  2016-09-09 22:00:00.000 +0200        21.522222\n",
              "96452  2016-09-09 23:00:00.000 +0200        20.438889\n",
              "\n",
              "[96453 rows x 2 columns]"
            ]
          },
          "metadata": {},
          "execution_count": 7
        }
      ]
    },
    {
      "cell_type": "code",
      "metadata": {
        "colab": {
          "base_uri": "https://localhost:8080/",
          "height": 423
        },
        "id": "q4loUWoF1Qtg",
        "outputId": "a7e7c488-b581-4091-ce79-11290fa00dd9"
      },
      "source": [
        "df_train"
      ],
      "execution_count": 8,
      "outputs": [
        {
          "output_type": "execute_result",
          "data": {
            "text/html": [
              "<div>\n",
              "<style scoped>\n",
              "    .dataframe tbody tr th:only-of-type {\n",
              "        vertical-align: middle;\n",
              "    }\n",
              "\n",
              "    .dataframe tbody tr th {\n",
              "        vertical-align: top;\n",
              "    }\n",
              "\n",
              "    .dataframe thead th {\n",
              "        text-align: right;\n",
              "    }\n",
              "</style>\n",
              "<table border=\"1\" class=\"dataframe\">\n",
              "  <thead>\n",
              "    <tr style=\"text-align: right;\">\n",
              "      <th></th>\n",
              "      <th>Formatted Date</th>\n",
              "      <th>Temperature (C)</th>\n",
              "    </tr>\n",
              "  </thead>\n",
              "  <tbody>\n",
              "    <tr>\n",
              "      <th>0</th>\n",
              "      <td>2006-04-01 00:00:00.000 +0200</td>\n",
              "      <td>9.472222</td>\n",
              "    </tr>\n",
              "    <tr>\n",
              "      <th>1</th>\n",
              "      <td>2006-04-01 01:00:00.000 +0200</td>\n",
              "      <td>9.355556</td>\n",
              "    </tr>\n",
              "    <tr>\n",
              "      <th>2</th>\n",
              "      <td>2006-04-01 02:00:00.000 +0200</td>\n",
              "      <td>9.377778</td>\n",
              "    </tr>\n",
              "    <tr>\n",
              "      <th>3</th>\n",
              "      <td>2006-04-01 03:00:00.000 +0200</td>\n",
              "      <td>8.288889</td>\n",
              "    </tr>\n",
              "    <tr>\n",
              "      <th>4</th>\n",
              "      <td>2006-04-01 04:00:00.000 +0200</td>\n",
              "      <td>8.755556</td>\n",
              "    </tr>\n",
              "    <tr>\n",
              "      <th>...</th>\n",
              "      <td>...</td>\n",
              "      <td>...</td>\n",
              "    </tr>\n",
              "    <tr>\n",
              "      <th>9835</th>\n",
              "      <td>2007-08-21 19:00:00.000 +0200</td>\n",
              "      <td>28.772222</td>\n",
              "    </tr>\n",
              "    <tr>\n",
              "      <th>9836</th>\n",
              "      <td>2007-08-21 20:00:00.000 +0200</td>\n",
              "      <td>25.877778</td>\n",
              "    </tr>\n",
              "    <tr>\n",
              "      <th>9837</th>\n",
              "      <td>2007-08-21 21:00:00.000 +0200</td>\n",
              "      <td>23.750000</td>\n",
              "    </tr>\n",
              "    <tr>\n",
              "      <th>9838</th>\n",
              "      <td>2007-08-21 22:00:00.000 +0200</td>\n",
              "      <td>22.105556</td>\n",
              "    </tr>\n",
              "    <tr>\n",
              "      <th>9839</th>\n",
              "      <td>2007-08-21 23:00:00.000 +0200</td>\n",
              "      <td>22.566667</td>\n",
              "    </tr>\n",
              "  </tbody>\n",
              "</table>\n",
              "<p>9840 rows × 2 columns</p>\n",
              "</div>"
            ],
            "text/plain": [
              "                     Formatted Date  Temperature (C)\n",
              "0     2006-04-01 00:00:00.000 +0200         9.472222\n",
              "1     2006-04-01 01:00:00.000 +0200         9.355556\n",
              "2     2006-04-01 02:00:00.000 +0200         9.377778\n",
              "3     2006-04-01 03:00:00.000 +0200         8.288889\n",
              "4     2006-04-01 04:00:00.000 +0200         8.755556\n",
              "...                             ...              ...\n",
              "9835  2007-08-21 19:00:00.000 +0200        28.772222\n",
              "9836  2007-08-21 20:00:00.000 +0200        25.877778\n",
              "9837  2007-08-21 21:00:00.000 +0200        23.750000\n",
              "9838  2007-08-21 22:00:00.000 +0200        22.105556\n",
              "9839  2007-08-21 23:00:00.000 +0200        22.566667\n",
              "\n",
              "[9840 rows x 2 columns]"
            ]
          },
          "metadata": {},
          "execution_count": 8
        }
      ]
    },
    {
      "cell_type": "code",
      "metadata": {
        "colab": {
          "base_uri": "https://localhost:8080/"
        },
        "id": "Wr6kahsZS_KP",
        "outputId": "e603c2e2-bffb-44d3-ffcf-2727452949e6"
      },
      "source": [
        "df_train.isnull().sum()"
      ],
      "execution_count": 12,
      "outputs": [
        {
          "output_type": "execute_result",
          "data": {
            "text/plain": [
              "Formatted Date     0\n",
              "Temperature (C)    0\n",
              "dtype: int64"
            ]
          },
          "metadata": {},
          "execution_count": 12
        }
      ]
    },
    {
      "cell_type": "code",
      "metadata": {
        "colab": {
          "base_uri": "https://localhost:8080/",
          "height": 423
        },
        "id": "LLXZsXfkUX0t",
        "outputId": "5c8f6c8c-8cf4-4c9b-ff6c-184bdf28ae23"
      },
      "source": [
        "df_val"
      ],
      "execution_count": 13,
      "outputs": [
        {
          "output_type": "execute_result",
          "data": {
            "text/html": [
              "<div>\n",
              "<style scoped>\n",
              "    .dataframe tbody tr th:only-of-type {\n",
              "        vertical-align: middle;\n",
              "    }\n",
              "\n",
              "    .dataframe tbody tr th {\n",
              "        vertical-align: top;\n",
              "    }\n",
              "\n",
              "    .dataframe thead th {\n",
              "        text-align: right;\n",
              "    }\n",
              "</style>\n",
              "<table border=\"1\" class=\"dataframe\">\n",
              "  <thead>\n",
              "    <tr style=\"text-align: right;\">\n",
              "      <th></th>\n",
              "      <th>Formatted Date</th>\n",
              "      <th>Temperature (C)</th>\n",
              "    </tr>\n",
              "  </thead>\n",
              "  <tbody>\n",
              "    <tr>\n",
              "      <th>9840</th>\n",
              "      <td>2007-08-22 00:00:00.000 +0200</td>\n",
              "      <td>21.483333</td>\n",
              "    </tr>\n",
              "    <tr>\n",
              "      <th>9841</th>\n",
              "      <td>2007-08-22 01:00:00.000 +0200</td>\n",
              "      <td>19.933333</td>\n",
              "    </tr>\n",
              "    <tr>\n",
              "      <th>9842</th>\n",
              "      <td>2007-08-22 02:00:00.000 +0200</td>\n",
              "      <td>21.833333</td>\n",
              "    </tr>\n",
              "    <tr>\n",
              "      <th>9843</th>\n",
              "      <td>2007-08-22 03:00:00.000 +0200</td>\n",
              "      <td>18.866667</td>\n",
              "    </tr>\n",
              "    <tr>\n",
              "      <th>9844</th>\n",
              "      <td>2007-08-22 04:00:00.000 +0200</td>\n",
              "      <td>18.266667</td>\n",
              "    </tr>\n",
              "    <tr>\n",
              "      <th>...</th>\n",
              "      <td>...</td>\n",
              "      <td>...</td>\n",
              "    </tr>\n",
              "    <tr>\n",
              "      <th>12295</th>\n",
              "      <td>2007-01-05 07:00:00.000 +0100</td>\n",
              "      <td>2.466667</td>\n",
              "    </tr>\n",
              "    <tr>\n",
              "      <th>12296</th>\n",
              "      <td>2007-01-05 08:00:00.000 +0100</td>\n",
              "      <td>2.316667</td>\n",
              "    </tr>\n",
              "    <tr>\n",
              "      <th>12297</th>\n",
              "      <td>2007-01-05 09:00:00.000 +0100</td>\n",
              "      <td>2.966667</td>\n",
              "    </tr>\n",
              "    <tr>\n",
              "      <th>12298</th>\n",
              "      <td>2007-01-05 10:00:00.000 +0100</td>\n",
              "      <td>5.927778</td>\n",
              "    </tr>\n",
              "    <tr>\n",
              "      <th>12299</th>\n",
              "      <td>2007-01-05 11:00:00.000 +0100</td>\n",
              "      <td>8.772222</td>\n",
              "    </tr>\n",
              "  </tbody>\n",
              "</table>\n",
              "<p>2460 rows × 2 columns</p>\n",
              "</div>"
            ],
            "text/plain": [
              "                      Formatted Date  Temperature (C)\n",
              "9840   2007-08-22 00:00:00.000 +0200        21.483333\n",
              "9841   2007-08-22 01:00:00.000 +0200        19.933333\n",
              "9842   2007-08-22 02:00:00.000 +0200        21.833333\n",
              "9843   2007-08-22 03:00:00.000 +0200        18.866667\n",
              "9844   2007-08-22 04:00:00.000 +0200        18.266667\n",
              "...                              ...              ...\n",
              "12295  2007-01-05 07:00:00.000 +0100         2.466667\n",
              "12296  2007-01-05 08:00:00.000 +0100         2.316667\n",
              "12297  2007-01-05 09:00:00.000 +0100         2.966667\n",
              "12298  2007-01-05 10:00:00.000 +0100         5.927778\n",
              "12299  2007-01-05 11:00:00.000 +0100         8.772222\n",
              "\n",
              "[2460 rows x 2 columns]"
            ]
          },
          "metadata": {},
          "execution_count": 13
        }
      ]
    },
    {
      "cell_type": "code",
      "metadata": {
        "colab": {
          "base_uri": "https://localhost:8080/"
        },
        "id": "xRWdier5TB5I",
        "outputId": "13070a46-fb94-44c1-e543-9e7d9990a7b0"
      },
      "source": [
        "df_val.isnull().sum()"
      ],
      "execution_count": 14,
      "outputs": [
        {
          "output_type": "execute_result",
          "data": {
            "text/plain": [
              "Formatted Date     0\n",
              "Temperature (C)    0\n",
              "dtype: int64"
            ]
          },
          "metadata": {},
          "execution_count": 14
        }
      ]
    },
    {
      "cell_type": "code",
      "metadata": {
        "colab": {
          "base_uri": "https://localhost:8080/"
        },
        "id": "d26UBLyU2Xhv",
        "outputId": "88bc202e-ec78-45f2-e084-985d9c3063ef"
      },
      "source": [
        "pip install sklearn"
      ],
      "execution_count": 15,
      "outputs": [
        {
          "output_type": "stream",
          "name": "stdout",
          "text": [
            "Requirement already satisfied: sklearn in /usr/local/lib/python3.7/dist-packages (0.0)\n",
            "Requirement already satisfied: scikit-learn in /usr/local/lib/python3.7/dist-packages (from sklearn) (0.22.2.post1)\n",
            "Requirement already satisfied: numpy>=1.11.0 in /usr/local/lib/python3.7/dist-packages (from scikit-learn->sklearn) (1.19.5)\n",
            "Requirement already satisfied: joblib>=0.11 in /usr/local/lib/python3.7/dist-packages (from scikit-learn->sklearn) (1.0.1)\n",
            "Requirement already satisfied: scipy>=0.17.0 in /usr/local/lib/python3.7/dist-packages (from scikit-learn->sklearn) (1.4.1)\n"
          ]
        }
      ]
    },
    {
      "cell_type": "code",
      "metadata": {
        "colab": {
          "base_uri": "https://localhost:8080/"
        },
        "id": "EWodJyhklB8o",
        "outputId": "debf8e8d-c70d-4149-8282-5604fd90ca26"
      },
      "source": [
        "# Normalize\n",
        "min_max_scaler = MinMaxScaler(feature_range = (0,1))\n",
        "temp_scale_train = min_max_scaler.fit_transform(df_train[['Temperature (C)']])\n",
        "df_train[['Temperature (C)']]=temp_scale_train\n",
        "temp_scale_train"
      ],
      "execution_count": 16,
      "outputs": [
        {
          "output_type": "execute_result",
          "data": {
            "text/plain": [
              "array([[0.48775158],\n",
              "       [0.4853364 ],\n",
              "       [0.48579643],\n",
              "       ...,\n",
              "       [0.78332375],\n",
              "       [0.7492812 ],\n",
              "       [0.75882691]])"
            ]
          },
          "metadata": {},
          "execution_count": 16
        }
      ]
    },
    {
      "cell_type": "code",
      "metadata": {
        "id": "8keOzxpK1yQE"
      },
      "source": [
        "#menerima sebuah series/atribut kita yang telah dikonversi menjadi tipe numpy, lalu mengembalikan label dan atribut dari dataset dalam bentuk batch\n",
        "def windowed_dataset(series, window_size, batch_size, shuffle_buffer):\n",
        "    series = tf.expand_dims(series, axis=-1)\n",
        "    ds = tf.data.Dataset.from_tensor_slices(series)\n",
        "    ds = ds.window(window_size + 1, shift=1, drop_remainder=True)\n",
        "    ds = ds.flat_map(lambda w: w.batch(window_size + 1))\n",
        "    ds = ds.shuffle(shuffle_buffer)\n",
        "    ds = ds.map(lambda w: (w[:-1], w[-1:]))\n",
        "    return ds.batch(batch_size).prefetch(1)"
      ],
      "execution_count": 17,
      "outputs": []
    },
    {
      "cell_type": "code",
      "metadata": {
        "id": "mPydqJaz10ty"
      },
      "source": [
        "train_set = windowed_dataset(temp_train, window_size=60, batch_size=100, shuffle_buffer=1000)\n",
        "test_set = windowed_dataset(temp_val, window_size=60, batch_size=100, shuffle_buffer=1000)\n",
        "model = tf.keras.models.Sequential([\n",
        "  tf.keras.layers.LSTM(64, return_sequences=True),\n",
        "  tf.keras.layers.LSTM(64),\n",
        "  tf.keras.layers.Dense(30, activation='relu'),\n",
        "  tf.keras.layers.Dropout(0.2),\n",
        "  tf.keras.layers.Dense(1)\n",
        "])"
      ],
      "execution_count": 29,
      "outputs": []
    },
    {
      "cell_type": "code",
      "metadata": {
        "id": "YBByKrpw12Vc"
      },
      "source": [
        "class myCallback(tf.keras.callbacks.Callback):\n",
        "  def on_epoch_end(self, epoch, logs={}):\n",
        "    if(logs.get('mae')<0.09):\n",
        "      print(\"MAE model telah mencapai < 10%! \")\n",
        "      self.model.stop_training = True\n",
        "callbacks = myCallback()"
      ],
      "execution_count": 30,
      "outputs": []
    },
    {
      "cell_type": "code",
      "metadata": {
        "colab": {
          "base_uri": "https://localhost:8080/"
        },
        "id": "hcRpCq8k18-x",
        "outputId": "aaabc810-6ea3-4285-df14-3321307ce212"
      },
      "source": [
        "#pada optimizer, kita akan menggunakan parameter learning rate dan momentum\n",
        "#Loss function Huber\n",
        "#metrik evaluasi model MAE\n",
        "optimizer = tf.keras.optimizers.SGD(learning_rate=1.0000e-04, momentum=0.9)\n",
        "model.compile(loss=tf.keras.losses.Huber(),\n",
        "              optimizer=optimizer,\n",
        "              metrics=[\"mae\"])\n",
        "history = model.fit(train_set,epochs=600, callbacks=[callbacks], validation_data=test_set)"
      ],
      "execution_count": 34,
      "outputs": [
        {
          "output_type": "stream",
          "name": "stdout",
          "text": [
            "Epoch 1/600\n",
            "98/98 [==============================] - 17s 132ms/step - loss: 0.0093 - mae: 0.1091 - val_loss: 6.2412 - val_mae: 6.7210\n",
            "Epoch 2/600\n",
            "98/98 [==============================] - 12s 122ms/step - loss: 0.0093 - mae: 0.1098 - val_loss: 6.2373 - val_mae: 6.7171\n",
            "Epoch 3/600\n",
            "98/98 [==============================] - 12s 122ms/step - loss: 0.0093 - mae: 0.1093 - val_loss: 6.2338 - val_mae: 6.7136\n",
            "Epoch 4/600\n",
            "98/98 [==============================] - 12s 122ms/step - loss: 0.0091 - mae: 0.1087 - val_loss: 6.2304 - val_mae: 6.7102\n",
            "Epoch 5/600\n",
            "98/98 [==============================] - 12s 123ms/step - loss: 0.0089 - mae: 0.1068 - val_loss: 6.2272 - val_mae: 6.7070\n",
            "Epoch 6/600\n",
            "98/98 [==============================] - 12s 123ms/step - loss: 0.0088 - mae: 0.1064 - val_loss: 6.2242 - val_mae: 6.7039\n",
            "Epoch 7/600\n",
            "98/98 [==============================] - 12s 123ms/step - loss: 0.0087 - mae: 0.1055 - val_loss: 6.2210 - val_mae: 6.7008\n",
            "Epoch 8/600\n",
            "98/98 [==============================] - 12s 123ms/step - loss: 0.0087 - mae: 0.1059 - val_loss: 6.2179 - val_mae: 6.6976\n",
            "Epoch 9/600\n",
            "98/98 [==============================] - 12s 122ms/step - loss: 0.0086 - mae: 0.1054 - val_loss: 6.2147 - val_mae: 6.6944\n",
            "Epoch 10/600\n",
            "98/98 [==============================] - 12s 124ms/step - loss: 0.0085 - mae: 0.1044 - val_loss: 6.2118 - val_mae: 6.6915\n",
            "Epoch 11/600\n",
            "98/98 [==============================] - 12s 122ms/step - loss: 0.0087 - mae: 0.1051 - val_loss: 6.2087 - val_mae: 6.6884\n",
            "Epoch 12/600\n",
            "98/98 [==============================] - 12s 123ms/step - loss: 0.0085 - mae: 0.1043 - val_loss: 6.2058 - val_mae: 6.6856\n",
            "Epoch 13/600\n",
            "98/98 [==============================] - 12s 122ms/step - loss: 0.0084 - mae: 0.1036 - val_loss: 6.2030 - val_mae: 6.6828\n",
            "Epoch 14/600\n",
            "98/98 [==============================] - 12s 123ms/step - loss: 0.0084 - mae: 0.1030 - val_loss: 6.2005 - val_mae: 6.6802\n",
            "Epoch 15/600\n",
            "98/98 [==============================] - 12s 121ms/step - loss: 0.0082 - mae: 0.1018 - val_loss: 6.1977 - val_mae: 6.6775\n",
            "Epoch 16/600\n",
            "98/98 [==============================] - 12s 123ms/step - loss: 0.0083 - mae: 0.1027 - val_loss: 6.1950 - val_mae: 6.6747\n",
            "Epoch 17/600\n",
            "98/98 [==============================] - 12s 122ms/step - loss: 0.0081 - mae: 0.1013 - val_loss: 6.1923 - val_mae: 6.6721\n",
            "Epoch 18/600\n",
            "98/98 [==============================] - 12s 122ms/step - loss: 0.0082 - mae: 0.1020 - val_loss: 6.1899 - val_mae: 6.6697\n",
            "Epoch 19/600\n",
            "98/98 [==============================] - 12s 122ms/step - loss: 0.0080 - mae: 0.1010 - val_loss: 6.1869 - val_mae: 6.6667\n",
            "Epoch 20/600\n",
            "98/98 [==============================] - 12s 122ms/step - loss: 0.0079 - mae: 0.1000 - val_loss: 6.1845 - val_mae: 6.6643\n",
            "Epoch 21/600\n",
            "98/98 [==============================] - 12s 122ms/step - loss: 0.0078 - mae: 0.0995 - val_loss: 6.1820 - val_mae: 6.6619\n",
            "Epoch 22/600\n",
            "98/98 [==============================] - 12s 122ms/step - loss: 0.0079 - mae: 0.0997 - val_loss: 6.1796 - val_mae: 6.6595\n",
            "Epoch 23/600\n",
            "98/98 [==============================] - 12s 121ms/step - loss: 0.0079 - mae: 0.0994 - val_loss: 6.1770 - val_mae: 6.6570\n",
            "Epoch 24/600\n",
            "98/98 [==============================] - 12s 123ms/step - loss: 0.0079 - mae: 0.0993 - val_loss: 6.1747 - val_mae: 6.6547\n",
            "Epoch 25/600\n",
            "98/98 [==============================] - 12s 123ms/step - loss: 0.0078 - mae: 0.0987 - val_loss: 6.1723 - val_mae: 6.6522\n",
            "Epoch 26/600\n",
            "98/98 [==============================] - 12s 121ms/step - loss: 0.0078 - mae: 0.0987 - val_loss: 6.1700 - val_mae: 6.6500\n",
            "Epoch 27/600\n",
            "98/98 [==============================] - 12s 122ms/step - loss: 0.0077 - mae: 0.0978 - val_loss: 6.1677 - val_mae: 6.6477\n",
            "Epoch 28/600\n",
            "98/98 [==============================] - 12s 121ms/step - loss: 0.0077 - mae: 0.0982 - val_loss: 6.1659 - val_mae: 6.6459\n",
            "Epoch 29/600\n",
            "98/98 [==============================] - 12s 122ms/step - loss: 0.0076 - mae: 0.0974 - val_loss: 6.1635 - val_mae: 6.6436\n",
            "Epoch 30/600\n",
            "98/98 [==============================] - 12s 123ms/step - loss: 0.0077 - mae: 0.0970 - val_loss: 6.1615 - val_mae: 6.6416\n",
            "Epoch 31/600\n",
            "98/98 [==============================] - 12s 121ms/step - loss: 0.0076 - mae: 0.0975 - val_loss: 6.1591 - val_mae: 6.6392\n",
            "Epoch 32/600\n",
            "98/98 [==============================] - 12s 122ms/step - loss: 0.0075 - mae: 0.0970 - val_loss: 6.1573 - val_mae: 6.6374\n",
            "Epoch 33/600\n",
            "98/98 [==============================] - 12s 122ms/step - loss: 0.0075 - mae: 0.0965 - val_loss: 6.1552 - val_mae: 6.6354\n",
            "Epoch 34/600\n",
            "98/98 [==============================] - 12s 124ms/step - loss: 0.0076 - mae: 0.0966 - val_loss: 6.1534 - val_mae: 6.6336\n",
            "Epoch 35/600\n",
            "98/98 [==============================] - 12s 124ms/step - loss: 0.0075 - mae: 0.0960 - val_loss: 6.1513 - val_mae: 6.6315\n",
            "Epoch 36/600\n",
            "98/98 [==============================] - 12s 123ms/step - loss: 0.0075 - mae: 0.0961 - val_loss: 6.1494 - val_mae: 6.6297\n",
            "Epoch 37/600\n",
            "98/98 [==============================] - 12s 123ms/step - loss: 0.0074 - mae: 0.0961 - val_loss: 6.1477 - val_mae: 6.6280\n",
            "Epoch 38/600\n",
            "98/98 [==============================] - 12s 123ms/step - loss: 0.0073 - mae: 0.0959 - val_loss: 6.1458 - val_mae: 6.6261\n",
            "Epoch 39/600\n",
            "98/98 [==============================] - 12s 123ms/step - loss: 0.0075 - mae: 0.0961 - val_loss: 6.1440 - val_mae: 6.6243\n",
            "Epoch 40/600\n",
            "98/98 [==============================] - 12s 123ms/step - loss: 0.0073 - mae: 0.0948 - val_loss: 6.1421 - val_mae: 6.6225\n",
            "Epoch 41/600\n",
            "98/98 [==============================] - 12s 123ms/step - loss: 0.0073 - mae: 0.0950 - val_loss: 6.1402 - val_mae: 6.6206\n",
            "Epoch 42/600\n",
            "98/98 [==============================] - 12s 124ms/step - loss: 0.0072 - mae: 0.0943 - val_loss: 6.1389 - val_mae: 6.6193\n",
            "Epoch 43/600\n",
            "98/98 [==============================] - 12s 121ms/step - loss: 0.0072 - mae: 0.0945 - val_loss: 6.1371 - val_mae: 6.6176\n",
            "Epoch 44/600\n",
            "98/98 [==============================] - 12s 124ms/step - loss: 0.0072 - mae: 0.0941 - val_loss: 6.1357 - val_mae: 6.6161\n",
            "Epoch 45/600\n",
            "98/98 [==============================] - 12s 122ms/step - loss: 0.0072 - mae: 0.0941 - val_loss: 6.1336 - val_mae: 6.6141\n",
            "Epoch 46/600\n",
            "98/98 [==============================] - 12s 122ms/step - loss: 0.0071 - mae: 0.0938 - val_loss: 6.1317 - val_mae: 6.6122\n",
            "Epoch 47/600\n",
            "98/98 [==============================] - 12s 124ms/step - loss: 0.0072 - mae: 0.0949 - val_loss: 6.1308 - val_mae: 6.6113\n",
            "Epoch 48/600\n",
            "98/98 [==============================] - 12s 122ms/step - loss: 0.0072 - mae: 0.0942 - val_loss: 6.1292 - val_mae: 6.6098\n",
            "Epoch 49/600\n",
            "98/98 [==============================] - 12s 122ms/step - loss: 0.0071 - mae: 0.0938 - val_loss: 6.1283 - val_mae: 6.6088\n",
            "Epoch 50/600\n",
            "98/98 [==============================] - 12s 122ms/step - loss: 0.0069 - mae: 0.0923 - val_loss: 6.1267 - val_mae: 6.6073\n",
            "Epoch 51/600\n",
            "98/98 [==============================] - 12s 122ms/step - loss: 0.0069 - mae: 0.0924 - val_loss: 6.1255 - val_mae: 6.6061\n",
            "Epoch 52/600\n",
            "98/98 [==============================] - 12s 123ms/step - loss: 0.0071 - mae: 0.0929 - val_loss: 6.1237 - val_mae: 6.6043\n",
            "Epoch 53/600\n",
            "98/98 [==============================] - 12s 122ms/step - loss: 0.0072 - mae: 0.0934 - val_loss: 6.1226 - val_mae: 6.6033\n",
            "Epoch 54/600\n",
            "98/98 [==============================] - 12s 124ms/step - loss: 0.0070 - mae: 0.0925 - val_loss: 6.1212 - val_mae: 6.6018\n",
            "Epoch 55/600\n",
            "98/98 [==============================] - 12s 121ms/step - loss: 0.0072 - mae: 0.0932 - val_loss: 6.1196 - val_mae: 6.6003\n",
            "Epoch 56/600\n",
            "98/98 [==============================] - 12s 121ms/step - loss: 0.0069 - mae: 0.0918 - val_loss: 6.1185 - val_mae: 6.5992\n",
            "Epoch 57/600\n",
            "98/98 [==============================] - 12s 123ms/step - loss: 0.0070 - mae: 0.0925 - val_loss: 6.1174 - val_mae: 6.5981\n",
            "Epoch 58/600\n",
            "98/98 [==============================] - 12s 124ms/step - loss: 0.0070 - mae: 0.0926 - val_loss: 6.1166 - val_mae: 6.5973\n",
            "Epoch 59/600\n",
            "98/98 [==============================] - 12s 124ms/step - loss: 0.0069 - mae: 0.0918 - val_loss: 6.1154 - val_mae: 6.5961\n",
            "Epoch 60/600\n",
            "98/98 [==============================] - 12s 123ms/step - loss: 0.0071 - mae: 0.0923 - val_loss: 6.1142 - val_mae: 6.5949\n",
            "Epoch 61/600\n",
            "98/98 [==============================] - 12s 122ms/step - loss: 0.0069 - mae: 0.0917 - val_loss: 6.1132 - val_mae: 6.5939\n",
            "Epoch 62/600\n",
            "98/98 [==============================] - 12s 122ms/step - loss: 0.0070 - mae: 0.0927 - val_loss: 6.1118 - val_mae: 6.5926\n",
            "Epoch 63/600\n",
            "98/98 [==============================] - 12s 122ms/step - loss: 0.0070 - mae: 0.0920 - val_loss: 6.1106 - val_mae: 6.5914\n",
            "Epoch 64/600\n",
            "98/98 [==============================] - 12s 122ms/step - loss: 0.0069 - mae: 0.0920 - val_loss: 6.1098 - val_mae: 6.5907\n",
            "Epoch 65/600\n",
            "98/98 [==============================] - 12s 122ms/step - loss: 0.0069 - mae: 0.0917 - val_loss: 6.1087 - val_mae: 6.5895\n",
            "Epoch 66/600\n",
            "98/98 [==============================] - 12s 125ms/step - loss: 0.0068 - mae: 0.0913 - val_loss: 6.1079 - val_mae: 6.5887\n",
            "Epoch 67/600\n",
            "98/98 [==============================] - 12s 123ms/step - loss: 0.0068 - mae: 0.0914 - val_loss: 6.1071 - val_mae: 6.5880\n",
            "Epoch 68/600\n",
            "98/98 [==============================] - 13s 126ms/step - loss: 0.0067 - mae: 0.0909 - val_loss: 6.1058 - val_mae: 6.5867\n",
            "Epoch 69/600\n",
            "98/98 [==============================] - 12s 124ms/step - loss: 0.0067 - mae: 0.0901 - val_loss: 6.1043 - val_mae: 6.5852\n",
            "Epoch 70/600\n",
            "98/98 [==============================] - 12s 121ms/step - loss: 0.0068 - mae: 0.0914 - val_loss: 6.1035 - val_mae: 6.5844\n",
            "Epoch 71/600\n",
            "98/98 [==============================] - 12s 123ms/step - loss: 0.0068 - mae: 0.0911 - val_loss: 6.1026 - val_mae: 6.5835\n",
            "Epoch 72/600\n",
            "98/98 [==============================] - 12s 122ms/step - loss: 0.0068 - mae: 0.0912 - val_loss: 6.1019 - val_mae: 6.5829\n",
            "Epoch 73/600\n",
            "98/98 [==============================] - 12s 122ms/step - loss: 0.0068 - mae: 0.0906 - val_loss: 6.1008 - val_mae: 6.5817\n",
            "Epoch 74/600\n",
            "98/98 [==============================] - 12s 122ms/step - loss: 0.0069 - mae: 0.0910 - val_loss: 6.0998 - val_mae: 6.5807\n",
            "Epoch 75/600\n",
            "98/98 [==============================] - 12s 122ms/step - loss: 0.0069 - mae: 0.0915 - val_loss: 6.0990 - val_mae: 6.5800\n",
            "Epoch 76/600\n",
            "98/98 [==============================] - 12s 123ms/step - loss: 0.0068 - mae: 0.0906 - val_loss: 6.0979 - val_mae: 6.5789\n",
            "Epoch 77/600\n",
            "98/98 [==============================] - 12s 123ms/step - loss: 0.0068 - mae: 0.0906 - val_loss: 6.0970 - val_mae: 6.5780\n",
            "Epoch 78/600\n",
            "98/98 [==============================] - 12s 124ms/step - loss: 0.0067 - mae: 0.0904 - val_loss: 6.0962 - val_mae: 6.5772\n",
            "Epoch 79/600\n",
            "98/98 [==============================] - 12s 124ms/step - loss: 0.0067 - mae: 0.0902 - val_loss: 6.0955 - val_mae: 6.5765\n",
            "Epoch 80/600\n",
            "98/98 [==============================] - 12s 121ms/step - loss: 0.0066 - mae: 0.0897 - val_loss: 6.0949 - val_mae: 6.5759\n",
            "\\MAE model telah mencapai < 10%! \n"
          ]
        }
      ]
    },
    {
      "cell_type": "code",
      "metadata": {
        "colab": {
          "base_uri": "https://localhost:8080/"
        },
        "id": "28UVRz29kNfx",
        "outputId": "ce496d34-3780-4a50-80f0-28662ee07419"
      },
      "source": [
        "skala_data = max(temp)-min(temp)\n",
        "minMae = skala_data * 10/100\n",
        "minMae"
      ],
      "execution_count": 33,
      "outputs": [
        {
          "output_type": "execute_result",
          "data": {
            "text/plain": [
              "6.172777777777777"
            ]
          },
          "metadata": {},
          "execution_count": 33
        }
      ]
    },
    {
      "cell_type": "code",
      "metadata": {
        "colab": {
          "base_uri": "https://localhost:8080/"
        },
        "id": "1N65V5NFCTUD",
        "outputId": "8dcbfcbe-1d0d-4605-da72-c2a0ebc6a453"
      },
      "source": [
        "model.evaluate(test_set)"
      ],
      "execution_count": 35,
      "outputs": [
        {
          "output_type": "stream",
          "name": "stdout",
          "text": [
            "24/24 [==============================] - 1s 41ms/step - loss: 6.0949 - mae: 6.5759\n"
          ]
        },
        {
          "output_type": "execute_result",
          "data": {
            "text/plain": [
              "[6.094877243041992, 6.575911998748779]"
            ]
          },
          "metadata": {},
          "execution_count": 35
        }
      ]
    },
    {
      "cell_type": "code",
      "metadata": {
        "colab": {
          "base_uri": "https://localhost:8080/",
          "height": 295
        },
        "id": "KosZmKS93QYS",
        "outputId": "1e8e6edd-0c12-483d-ec94-4582ff19aee7"
      },
      "source": [
        "plt.plot(history.history['loss'])\n",
        "plt.title('Model loss')\n",
        "plt.ylabel('loss')\n",
        "plt.xlabel('Epoch')\n",
        "plt.legend(['Train', 'Test'], loc='lower right')\n",
        "plt.show()"
      ],
      "execution_count": 24,
      "outputs": [
        {
          "output_type": "display_data",
          "data": {
            "image/png": "[encoded data removed]",
            "text/plain": [
              "<Figure size 432x288 with 1 Axes>"
            ]
          },
          "metadata": {
            "needs_background": "light"
          }
        }
      ]
    },
    {
      "cell_type": "code",
      "metadata": {
        "colab": {
          "base_uri": "https://localhost:8080/",
          "height": 295
        },
        "id": "v-HZ8QPg3hHx",
        "outputId": "4fb9ac87-50c1-4940-fd1c-079b1056e5d8"
      },
      "source": [
        "plt.plot(history.history['mae'])\n",
        "plt.title('Model mae')\n",
        "plt.ylabel('mae')\n",
        "plt.xlabel('Epoch')\n",
        "plt.legend(['Train', 'Test'], loc='lower right')\n",
        "plt.show()"
      ],
      "execution_count": 25,
      "outputs": [
        {
          "output_type": "display_data",
          "data": {
            "image/png": "[encoded data removed]",
            "text/plain": [
              "<Figure size 432x288 with 1 Axes>"
            ]
          },
          "metadata": {
            "needs_background": "light"
          }
        }
      ]
    }
  ]
}