{
  "nbformat": 4,
  "nbformat_minor": 0,
  "metadata": {
    "colab": {
      "name": "8 Tokenization.ipynb",
      "provenance": [],
      "authorship_tag": "ABX9TyO5CrQnw47uAUfbtlpflcUV",
      "include_colab_link": true
    },
    "kernelspec": {
      "name": "python3",
      "display_name": "Python 3"
    },
    "language_info": {
      "name": "python"
    }
  },
  "cells": [
    {
      "cell_type": "markdown",
      "metadata": {
        "id": "view-in-github",
        "colab_type": "text"
      },
      "source": [
        "<a href=\"https://colab.research.google.com/github/shintafiaa/Kampus-Merdeka-Pengembangan-ML/blob/main/8_Tokenization.ipynb\" target=\"_parent\"><img src=\"https://colab.research.google.com/assets/colab-badge.svg\" alt=\"Open In Colab\"/></a>"
      ]
    },
    {
      "cell_type": "code",
      "metadata": {
        "id": "UCGH65UU5cfm"
      },
      "source": [
        "#import tokenizer\n",
        "from tensorflow.keras.preprocessing.text import Tokenizer"
      ],
      "execution_count": 1,
      "outputs": []
    },
    {
      "cell_type": "code",
      "metadata": {
        "id": "WwXZKhSr5mHQ"
      },
      "source": [
        "#num_words banyaknya kata yang sering muncul yang akan ditokenisasi\n",
        "#oov_token mengganti kata-kata yang tidak ditokenisasi dengan karatker tertentu\n",
        "tokenizer = Tokenizer(num_words=15, oov_token='-') "
      ],
      "execution_count": 2,
      "outputs": []
    },
    {
      "cell_type": "code",
      "metadata": {
        "id": "Nevhxf8c6KqX"
      },
      "source": [
        "#inisiasi teks yang akan digunakan untuk training model\n",
        "teks = ['Saya suka programming',\n",
        "        'Programming sangat menyenangkan!',\n",
        "        'Machine Learning berbeda dengan pemrograman konvensional']"
      ],
      "execution_count": 3,
      "outputs": []
    },
    {
      "cell_type": "code",
      "metadata": {
        "id": "CHZ9hPXh6VPW"
      },
      "source": [
        "#tokenisasi\n",
        "tokenizer.fit_on_texts(teks)"
      ],
      "execution_count": 4,
      "outputs": []
    },
    {
      "cell_type": "code",
      "metadata": {
        "id": "A1lSaVFp6aYo"
      },
      "source": [
        "#sequencing\n",
        "sequences = tokenizer.texts_to_sequences(teks)"
      ],
      "execution_count": 5,
      "outputs": []
    },
    {
      "cell_type": "code",
      "metadata": {
        "colab": {
          "base_uri": "https://localhost:8080/"
        },
        "id": "xA36CjfC6mM5",
        "outputId": "a99a5d9d-46e9-436d-e088-d0ce9acbf934"
      },
      "source": [
        "#melihat hasil tokenisasi berupa key-dan-value atau kata-dan-token\n",
        "print(tokenizer.word_index) #tanda baca dan kapitalisasi tidak diproses. 'programming' dan 'Programming' dianggap sama"
      ],
      "execution_count": 7,
      "outputs": [
        {
          "output_type": "stream",
          "name": "stdout",
          "text": [
            "{'-': 1, 'programming': 2, 'saya': 3, 'suka': 4, 'sangat': 5, 'menyenangkan': 6, 'machine': 7, 'learning': 8, 'berbeda': 9, 'dengan': 10, 'pemrograman': 11, 'konvensional': 12}\n"
          ]
        }
      ]
    },
    {
      "cell_type": "code",
      "metadata": {
        "colab": {
          "base_uri": "https://localhost:8080/"
        },
        "id": "svbnYiWY6xhN",
        "outputId": "8d3cac60-a4ad-4d38-8177-a4c1c8bf10ad"
      },
      "source": [
        "print(tokenizer.texts_to_sequences(['Saya suka programming']))\n",
        "print(tokenizer.texts_to_sequences(['Saya suka belajar programming sejak SMP']))"
      ],
      "execution_count": 8,
      "outputs": [
        {
          "output_type": "stream",
          "name": "stdout",
          "text": [
            "[[3, 4, 2]]\n",
            "[[3, 4, 1, 2, 1, 1]]\n"
          ]
        }
      ]
    },
    {
      "cell_type": "code",
      "metadata": {
        "id": "VnpwjamS_uE-"
      },
      "source": [
        "#padding\n",
        "from tensorflow.keras.preprocessing.sequence import pad_sequences\n",
        "sequences_samapanjang = pad_sequences(sequences)"
      ],
      "execution_count": 11,
      "outputs": []
    },
    {
      "cell_type": "code",
      "metadata": {
        "colab": {
          "base_uri": "https://localhost:8080/"
        },
        "id": "LHcE_hhz_5my",
        "outputId": "b38e81c3-7a47-4b42-f425-ee2eb9d8df2c"
      },
      "source": [
        "print(sequences_samapanjang)"
      ],
      "execution_count": 10,
      "outputs": [
        {
          "output_type": "stream",
          "name": "stdout",
          "text": [
            "[[ 0  0  0  3  4  2]\n",
            " [ 0  0  0  2  5  6]\n",
            " [ 7  8  9 10 11 12]]\n"
          ]
        }
      ]
    },
    {
      "cell_type": "code",
      "metadata": {
        "id": "Cet8CovTAJ1z"
      },
      "source": [
        "#cara meletakkan 0 di bagian akhir sequence\n",
        "sequences_samapanjang = pad_sequences(sequences,\n",
        "                                      padding='post')"
      ],
      "execution_count": 12,
      "outputs": []
    },
    {
      "cell_type": "code",
      "metadata": {
        "colab": {
          "base_uri": "https://localhost:8080/"
        },
        "id": "spJAf608Bht-",
        "outputId": "89d121c7-b0f9-436d-9ce5-30011fa10376"
      },
      "source": [
        "print(sequences_samapanjang)"
      ],
      "execution_count": 13,
      "outputs": [
        {
          "output_type": "stream",
          "name": "stdout",
          "text": [
            "[[ 3  4  2  0  0  0]\n",
            " [ 2  5  6  0  0  0]\n",
            " [ 7  8  9 10 11 12]]\n"
          ]
        }
      ]
    },
    {
      "cell_type": "code",
      "metadata": {
        "id": "1YzKxguVBmeW"
      },
      "source": [
        "#cara mengatur panjang sequence dengan maxlen\n",
        "sequences_samapanjang = pad_sequences(sequences,\n",
        "                                      padding='post',\n",
        "                                      maxlen=5)"
      ],
      "execution_count": 18,
      "outputs": []
    },
    {
      "cell_type": "code",
      "metadata": {
        "colab": {
          "base_uri": "https://localhost:8080/"
        },
        "id": "HzT4DM1tB6k5",
        "outputId": "18c3b1fa-8565-440e-bff3-5e5cc243e916"
      },
      "source": [
        "print(sequences_samapanjang)"
      ],
      "execution_count": 15,
      "outputs": [
        {
          "output_type": "stream",
          "name": "stdout",
          "text": [
            "[[ 3  4  2  0  0]\n",
            " [ 2  5  6  0  0]\n",
            " [ 8  9 10 11 12]]\n"
          ]
        }
      ]
    },
    {
      "cell_type": "code",
      "metadata": {
        "id": "mUJzs1TJB-4l"
      },
      "source": [
        "#jika lebih dari 5 kata, untuk mengambil 5 kata pertama gunakan truncating='post'\n",
        "sequences_samapanjang = pad_sequences(sequences,\n",
        "                                      padding='post',\n",
        "                                      maxlen=5,\n",
        "                                      truncating='post')"
      ],
      "execution_count": 19,
      "outputs": []
    },
    {
      "cell_type": "code",
      "metadata": {
        "colab": {
          "base_uri": "https://localhost:8080/"
        },
        "id": "Z7yl8ceqCEk1",
        "outputId": "f22be3ea-25e3-4f96-a886-4b78b7e36fa9"
      },
      "source": [
        "print(sequences_samapanjang)"
      ],
      "execution_count": 17,
      "outputs": [
        {
          "output_type": "stream",
          "name": "stdout",
          "text": [
            "[[ 3  4  2  0  0]\n",
            " [ 2  5  6  0  0]\n",
            " [ 7  8  9 10 11]]\n"
          ]
        }
      ]
    }
  ]
}