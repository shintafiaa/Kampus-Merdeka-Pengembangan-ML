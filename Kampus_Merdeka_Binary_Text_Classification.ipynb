{
  "nbformat": 4,
  "nbformat_minor": 0,
  "metadata": {
    "colab": {
      "name": "Kampus Merdeka-Binary Text Classification.ipynb",
      "provenance": [],
      "authorship_tag": "ABX9TyPQ6yn7pnBLRJK3jZrKebj0",
      "include_colab_link": true
    },
    "kernelspec": {
      "name": "python3",
      "display_name": "Python 3"
    },
    "language_info": {
      "name": "python"
    }
  },
  "cells": [
    {
      "cell_type": "markdown",
      "metadata": {
        "id": "view-in-github",
        "colab_type": "text"
      },
      "source": [
        "<a href=\"https://colab.research.google.com/github/shintafiaa/Kampus-Merdeka-Pengembangan-ML/blob/main/Kampus_Merdeka_Binary_Text_Classification.ipynb\" target=\"_parent\"><img src=\"https://colab.research.google.com/assets/colab-badge.svg\" alt=\"Open In Colab\"/></a>"
      ]
    },
    {
      "cell_type": "code",
      "metadata": {
        "colab": {
          "base_uri": "https://localhost:8080/"
        },
        "id": "VOZmiwLofE_b",
        "outputId": "1ddbd095-0a97-42f6-d821-f76fb462da5c"
      },
      "source": [
        "import zipfile,os\n",
        "from google.colab import drive\n",
        "drive.mount('/content/drive')"
      ],
      "execution_count": 11,
      "outputs": [
        {
          "output_type": "stream",
          "name": "stdout",
          "text": [
            "Drive already mounted at /content/drive; to attempt to forcibly remount, call drive.mount(\"/content/drive\", force_remount=True).\n"
          ]
        }
      ]
    },
    {
      "cell_type": "code",
      "metadata": {
        "id": "Z3lhPbhGg0LN"
      },
      "source": [
        "path = 'drive/My Drive/MachineLearning'"
      ],
      "execution_count": 10,
      "outputs": []
    },
    {
      "cell_type": "code",
      "metadata": {
        "id": "Co5zrBH3hBiK"
      },
      "source": [
        "# melakukan ekstraksi pada file zip\n",
        "import zipfile,os,shutil\n",
        "local_zip = 'drive/My Drive/MachineLearning/BinaryTextClassification.zip'\n",
        "zip_ref = zipfile.ZipFile(local_zip, 'r')\n",
        "zip_ref.extractall('/BinaryTextClassification')\n",
        "zip_ref.close()"
      ],
      "execution_count": 12,
      "outputs": []
    },
    {
      "cell_type": "code",
      "metadata": {
        "colab": {
          "base_uri": "https://localhost:8080/"
        },
        "id": "L0cqLF3XqJbK",
        "outputId": "e6f96515-b5d1-4f05-cc6b-5f3fc7e69562"
      },
      "source": [
        "os.listdir('/BinaryTextClassification')"
      ],
      "execution_count": 18,
      "outputs": [
        {
          "output_type": "execute_result",
          "data": {
            "text/plain": [
              "['sentiment labelled sentences']"
            ]
          },
          "metadata": {},
          "execution_count": 18
        }
      ]
    },
    {
      "cell_type": "code",
      "metadata": {
        "id": "f81BMK8_kmTc"
      },
      "source": [
        "import pandas as pd\n",
        "df = pd.read_csv('/BinaryTextClassification/sentiment labelled sentences/yelp_labelled.txt', names=['sentence', 'label'], sep='\\t')"
      ],
      "execution_count": 21,
      "outputs": []
    },
    {
      "cell_type": "code",
      "metadata": {
        "colab": {
          "base_uri": "https://localhost:8080/",
          "height": 206
        },
        "id": "TgjPPHYpqhkg",
        "outputId": "a687b73f-68d0-40bf-93a0-aff84cf2e7e3"
      },
      "source": [
        "df.tail()"
      ],
      "execution_count": 22,
      "outputs": [
        {
          "output_type": "execute_result",
          "data": {
            "text/html": [
              "<div>\n",
              "<style scoped>\n",
              "    .dataframe tbody tr th:only-of-type {\n",
              "        vertical-align: middle;\n",
              "    }\n",
              "\n",
              "    .dataframe tbody tr th {\n",
              "        vertical-align: top;\n",
              "    }\n",
              "\n",
              "    .dataframe thead th {\n",
              "        text-align: right;\n",
              "    }\n",
              "</style>\n",
              "<table border=\"1\" class=\"dataframe\">\n",
              "  <thead>\n",
              "    <tr style=\"text-align: right;\">\n",
              "      <th></th>\n",
              "      <th>sentence</th>\n",
              "      <th>label</th>\n",
              "    </tr>\n",
              "  </thead>\n",
              "  <tbody>\n",
              "    <tr>\n",
              "      <th>995</th>\n",
              "      <td>I think food should have flavor and texture an...</td>\n",
              "      <td>0</td>\n",
              "    </tr>\n",
              "    <tr>\n",
              "      <th>996</th>\n",
              "      <td>Appetite instantly gone.</td>\n",
              "      <td>0</td>\n",
              "    </tr>\n",
              "    <tr>\n",
              "      <th>997</th>\n",
              "      <td>Overall I was not impressed and would not go b...</td>\n",
              "      <td>0</td>\n",
              "    </tr>\n",
              "    <tr>\n",
              "      <th>998</th>\n",
              "      <td>The whole experience was underwhelming, and I ...</td>\n",
              "      <td>0</td>\n",
              "    </tr>\n",
              "    <tr>\n",
              "      <th>999</th>\n",
              "      <td>Then, as if I hadn't wasted enough of my life ...</td>\n",
              "      <td>0</td>\n",
              "    </tr>\n",
              "  </tbody>\n",
              "</table>\n",
              "</div>"
            ],
            "text/plain": [
              "                                              sentence  label\n",
              "995  I think food should have flavor and texture an...      0\n",
              "996                           Appetite instantly gone.      0\n",
              "997  Overall I was not impressed and would not go b...      0\n",
              "998  The whole experience was underwhelming, and I ...      0\n",
              "999  Then, as if I hadn't wasted enough of my life ...      0"
            ]
          },
          "metadata": {},
          "execution_count": 22
        }
      ]
    },
    {
      "cell_type": "code",
      "metadata": {
        "id": "K6KM_XVSrI7n"
      },
      "source": [
        "from sklearn.model_selection import train_test_split\n",
        "kalimat = df['sentence'].values\n",
        "y = df['label'].values\n",
        "kalimat_latih, kalimat_test, y_latih, y_test = train_test_split(kalimat, y, test_size=0.2)"
      ],
      "execution_count": 23,
      "outputs": []
    },
    {
      "cell_type": "code",
      "metadata": {
        "id": "d2yt76BJrTow"
      },
      "source": [
        "from tensorflow.keras.preprocessing.text import Tokenizer\n",
        "from tensorflow.keras.preprocessing.sequence import pad_sequences\n",
        " \n",
        "tokenizer = Tokenizer(num_words=250, oov_token='x')\n",
        "tokenizer.fit_on_texts(kalimat_latih) \n",
        "tokenizer.fit_on_texts(kalimat_test)\n",
        " \n",
        "sekuens_latih = tokenizer.texts_to_sequences(kalimat_latih)\n",
        "sekuens_test = tokenizer.texts_to_sequences(kalimat_test)\n",
        " \n",
        "padded_latih = pad_sequences(sekuens_latih) \n",
        "padded_test = pad_sequences(sekuens_test)"
      ],
      "execution_count": 24,
      "outputs": []
    },
    {
      "cell_type": "code",
      "metadata": {
        "id": "NiLn_0tnruOk"
      },
      "source": [
        "#arsitektur layer embedding\n",
        "#argumen pertama jumlah kata pada tokenizer\n",
        "#argumen selanjutnya dimensi embedding dan input_length\n",
        "import tensorflow as tf\n",
        "model = tf.keras.Sequential([\n",
        "    tf.keras.layers.Embedding(250, 16, input_length=20),\n",
        "    tf.keras.layers.GlobalAveragePooling1D(),\n",
        "    tf.keras.layers.Dense(24, activation='relu'),\n",
        "    tf.keras.layers.Dense(1, activation='sigmoid')\n",
        "])\n",
        "model.compile(loss='binary_crossentropy',optimizer='adam',metrics=['accuracy'])"
      ],
      "execution_count": 25,
      "outputs": []
    },
    {
      "cell_type": "code",
      "metadata": {
        "colab": {
          "base_uri": "https://localhost:8080/"
        },
        "id": "7XHIek8ssFgu",
        "outputId": "f31287a3-cace-4c15-b2dc-944378986bf0"
      },
      "source": [
        "num_epochs = 30\n",
        "history = model.fit(padded_latih, y_latih, epochs=num_epochs, \n",
        "                    validation_data=(padded_test, y_test), verbose=2)"
      ],
      "execution_count": 26,
      "outputs": [
        {
          "output_type": "stream",
          "name": "stdout",
          "text": [
            "Epoch 1/30\n",
            "WARNING:tensorflow:Model was constructed with shape (None, 20) for input KerasTensor(type_spec=TensorSpec(shape=(None, 20), dtype=tf.float32, name='embedding_input'), name='embedding_input', description=\"created by layer 'embedding_input'\"), but it was called on an input with incompatible shape (32, 32).\n",
            "WARNING:tensorflow:Model was constructed with shape (None, 20) for input KerasTensor(type_spec=TensorSpec(shape=(None, 20), dtype=tf.float32, name='embedding_input'), name='embedding_input', description=\"created by layer 'embedding_input'\"), but it was called on an input with incompatible shape (32, 32).\n",
            "WARNING:tensorflow:Model was constructed with shape (None, 20) for input KerasTensor(type_spec=TensorSpec(shape=(None, 20), dtype=tf.float32, name='embedding_input'), name='embedding_input', description=\"created by layer 'embedding_input'\"), but it was called on an input with incompatible shape (None, 30).\n",
            "25/25 - 1s - loss: 0.6934 - accuracy: 0.4963 - val_loss: 0.6910 - val_accuracy: 0.5300\n",
            "Epoch 2/30\n",
            "25/25 - 0s - loss: 0.6911 - accuracy: 0.5400 - val_loss: 0.6893 - val_accuracy: 0.6050\n",
            "Epoch 3/30\n",
            "25/25 - 0s - loss: 0.6885 - accuracy: 0.6525 - val_loss: 0.6864 - val_accuracy: 0.6450\n",
            "Epoch 4/30\n",
            "25/25 - 0s - loss: 0.6845 - accuracy: 0.6662 - val_loss: 0.6812 - val_accuracy: 0.6300\n",
            "Epoch 5/30\n",
            "25/25 - 0s - loss: 0.6786 - accuracy: 0.6538 - val_loss: 0.6738 - val_accuracy: 0.6200\n",
            "Epoch 6/30\n",
            "25/25 - 0s - loss: 0.6695 - accuracy: 0.7050 - val_loss: 0.6635 - val_accuracy: 0.6650\n",
            "Epoch 7/30\n",
            "25/25 - 0s - loss: 0.6565 - accuracy: 0.7013 - val_loss: 0.6504 - val_accuracy: 0.6900\n",
            "Epoch 8/30\n",
            "25/25 - 0s - loss: 0.6404 - accuracy: 0.7325 - val_loss: 0.6321 - val_accuracy: 0.7100\n",
            "Epoch 9/30\n",
            "25/25 - 0s - loss: 0.6179 - accuracy: 0.7487 - val_loss: 0.6141 - val_accuracy: 0.7300\n",
            "Epoch 10/30\n",
            "25/25 - 0s - loss: 0.5938 - accuracy: 0.7613 - val_loss: 0.5892 - val_accuracy: 0.7100\n",
            "Epoch 11/30\n",
            "25/25 - 0s - loss: 0.5646 - accuracy: 0.7700 - val_loss: 0.5664 - val_accuracy: 0.7500\n",
            "Epoch 12/30\n",
            "25/25 - 0s - loss: 0.5349 - accuracy: 0.8012 - val_loss: 0.5436 - val_accuracy: 0.7850\n",
            "Epoch 13/30\n",
            "25/25 - 0s - loss: 0.5061 - accuracy: 0.8100 - val_loss: 0.5235 - val_accuracy: 0.7850\n",
            "Epoch 14/30\n",
            "25/25 - 0s - loss: 0.4762 - accuracy: 0.8200 - val_loss: 0.5080 - val_accuracy: 0.7950\n",
            "Epoch 15/30\n",
            "25/25 - 0s - loss: 0.4505 - accuracy: 0.8375 - val_loss: 0.5007 - val_accuracy: 0.7900\n",
            "Epoch 16/30\n",
            "25/25 - 0s - loss: 0.4335 - accuracy: 0.8175 - val_loss: 0.4815 - val_accuracy: 0.7900\n",
            "Epoch 17/30\n",
            "25/25 - 0s - loss: 0.4073 - accuracy: 0.8525 - val_loss: 0.4717 - val_accuracy: 0.8100\n",
            "Epoch 18/30\n",
            "25/25 - 0s - loss: 0.3912 - accuracy: 0.8400 - val_loss: 0.4645 - val_accuracy: 0.8100\n",
            "Epoch 19/30\n",
            "25/25 - 0s - loss: 0.3749 - accuracy: 0.8512 - val_loss: 0.4603 - val_accuracy: 0.8100\n",
            "Epoch 20/30\n",
            "25/25 - 0s - loss: 0.3599 - accuracy: 0.8562 - val_loss: 0.4565 - val_accuracy: 0.8050\n",
            "Epoch 21/30\n",
            "25/25 - 0s - loss: 0.3475 - accuracy: 0.8575 - val_loss: 0.4552 - val_accuracy: 0.8050\n",
            "Epoch 22/30\n",
            "25/25 - 0s - loss: 0.3361 - accuracy: 0.8575 - val_loss: 0.4553 - val_accuracy: 0.7950\n",
            "Epoch 23/30\n",
            "25/25 - 0s - loss: 0.3280 - accuracy: 0.8637 - val_loss: 0.4534 - val_accuracy: 0.8050\n",
            "Epoch 24/30\n",
            "25/25 - 0s - loss: 0.3174 - accuracy: 0.8725 - val_loss: 0.4606 - val_accuracy: 0.7950\n",
            "Epoch 25/30\n",
            "25/25 - 0s - loss: 0.3110 - accuracy: 0.8662 - val_loss: 0.4589 - val_accuracy: 0.8100\n",
            "Epoch 26/30\n",
            "25/25 - 0s - loss: 0.3051 - accuracy: 0.8788 - val_loss: 0.4574 - val_accuracy: 0.8050\n",
            "Epoch 27/30\n",
            "25/25 - 0s - loss: 0.2975 - accuracy: 0.8763 - val_loss: 0.4588 - val_accuracy: 0.8100\n",
            "Epoch 28/30\n",
            "25/25 - 0s - loss: 0.2911 - accuracy: 0.8775 - val_loss: 0.4626 - val_accuracy: 0.7900\n",
            "Epoch 29/30\n",
            "25/25 - 0s - loss: 0.2863 - accuracy: 0.8775 - val_loss: 0.4635 - val_accuracy: 0.7850\n",
            "Epoch 30/30\n",
            "25/25 - 0s - loss: 0.2825 - accuracy: 0.8775 - val_loss: 0.4651 - val_accuracy: 0.7950\n"
          ]
        }
      ]
    }
  ]
}