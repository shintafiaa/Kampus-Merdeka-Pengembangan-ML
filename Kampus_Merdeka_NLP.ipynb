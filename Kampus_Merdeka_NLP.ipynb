{
  "nbformat": 4,
  "nbformat_minor": 0,
  "metadata": {
    "colab": {
      "name": "Kampus Merdeka-NLP.ipynb",
      "provenance": [],
      "authorship_tag": "ABX9TyP+ldWnkQgvIbXVgoSRPCkn",
      "include_colab_link": true
    },
    "kernelspec": {
      "name": "python3",
      "display_name": "Python 3"
    },
    "language_info": {
      "name": "python"
    }
  },
  "cells": [
    {
      "cell_type": "markdown",
      "metadata": {
        "id": "view-in-github",
        "colab_type": "text"
      },
      "source": [
        "<a href=\"https://colab.research.google.com/github/shintafiaa/Kampus-Merdeka-Pengembangan-ML/blob/main/Kampus_Merdeka_NLP.ipynb\" target=\"_parent\"><img src=\"https://colab.research.google.com/assets/colab-badge.svg\" alt=\"Open In Colab\"/></a>"
      ]
    },
    {
      "cell_type": "code",
      "metadata": {
        "id": "tu8wKVXxQBz2"
      },
      "source": [
        "#impor library\n",
        "import tensorflow as tf\n",
        "from tensorflow.keras.preprocessing.text import Tokenizer\n",
        "from tensorflow.keras.layers import Dense, Flatten, Conv2D\n",
        "from tensorflow.keras import Model"
      ],
      "execution_count": 20,
      "outputs": []
    },
    {
      "cell_type": "code",
      "metadata": {
        "id": "FOI6tROiR0Lc"
      },
      "source": [
        "#memanggil fungsi tokenizer\n",
        "#num_words adalah jumlah kata yang akan dikonversi ke dalam token/bilangan numerik\n",
        "#oov_token adalah parameter yang berfungsi untuk mengganti kata-kata yang tidak ditokenisasi menjadi karakter tertentu\n",
        "tokenizer = Tokenizer(num_words= 15, oov_token='-')"
      ],
      "execution_count": 3,
      "outputs": []
    },
    {
      "cell_type": "code",
      "metadata": {
        "id": "cfuV7wTiSdhe"
      },
      "source": [
        "#teks untuk pelatihan model\n",
        "teks = ['Saya suka programming',\n",
        "        'Programming sangat menyenangkan!',\n",
        "        'Machine Learning berbeda dengan pemrograman konvensional']"
      ],
      "execution_count": 4,
      "outputs": []
    },
    {
      "cell_type": "code",
      "metadata": {
        "id": "ucfVV3epSv2c"
      },
      "source": [
        "#tokenisasi\n",
        "tokenizer.fit_on_texts(teks)"
      ],
      "execution_count": 5,
      "outputs": []
    },
    {
      "cell_type": "code",
      "metadata": {
        "id": "sQyDn-cyS9FL"
      },
      "source": [
        "#mengubah kalimat ke dalam nilai yang sesuai dengan fungsi texts_to_sequences\n",
        "sequences = tokenizer.texts_to_sequences(teks)"
      ],
      "execution_count": 6,
      "outputs": []
    },
    {
      "cell_type": "code",
      "metadata": {
        "colab": {
          "base_uri": "https://localhost:8080/"
        },
        "id": "RxTfOxZUTGff",
        "outputId": "4630ae2d-c5b9-4e94-fd39-b56a5009de7d"
      },
      "source": [
        "#melihat hasil tokenisasi, panggil atribut word_index dari objek tokenizer\n",
        "#huruf kapital tidak diproses oleh tokenizer\n",
        "#kata-kata yang out-of-vocabulary akan diberi token bernilai 1\n",
        "print(tokenizer.word_index)"
      ],
      "execution_count": 7,
      "outputs": [
        {
          "output_type": "stream",
          "name": "stdout",
          "text": [
            "{'-': 1, 'programming': 2, 'saya': 3, 'suka': 4, 'sangat': 5, 'menyenangkan': 6, 'machine': 7, 'learning': 8, 'berbeda': 9, 'dengan': 10, 'pemrograman': 11, 'konvensional': 12}\n"
          ]
        }
      ]
    },
    {
      "cell_type": "code",
      "metadata": {
        "colab": {
          "base_uri": "https://localhost:8080/"
        },
        "id": "fCUdxcwKUGx_",
        "outputId": "d0936593-a951-463c-8aac-2de4ec5edf6f"
      },
      "source": [
        "#Kata ‘belajar’, ‘sejak’, dan ‘SMP’ tidak ada memiliki token pada dictionary hasil tokenisasi\n",
        "#Dengan OOV setiap kata yang tidak memiliki token akan diberikan token yang seragam\n",
        "#Dengan OOV, informasi urutan setiap kata pada kalimat tidak hilang\n",
        "print(tokenizer.texts_to_sequences(['Saya suka programming']))\n",
        "print(tokenizer.texts_to_sequences(['Saya suka belajar programming sejak SMP']))"
      ],
      "execution_count": 11,
      "outputs": [
        {
          "output_type": "stream",
          "name": "stdout",
          "text": [
            "[[3, 4, 2]]\n",
            "[[3, 4, 1, 2, 1, 1]]\n"
          ]
        }
      ]
    },
    {
      "cell_type": "code",
      "metadata": {
        "id": "iBerGqPFUcl9"
      },
      "source": [
        "#padding adalah proses untuk membuat setiap kalimat pada teks memiliki panjang yang seragam\n",
        "#impor library pad_sequence, panggil fungsi pad_sequence(), masukkan sequence hasil tokenisasi sebagai parameternya\n",
        "from tensorflow.keras.preprocessing.sequence import pad_sequences\n",
        "sequences_samapanjang = pad_sequences(sequences)"
      ],
      "execution_count": 9,
      "outputs": []
    },
    {
      "cell_type": "code",
      "metadata": {
        "colab": {
          "base_uri": "https://localhost:8080/"
        },
        "id": "6k0132drU6NA",
        "outputId": "205aeda7-c771-4217-ed25-20c99c1c34ff"
      },
      "source": [
        "print(sequences_samapanjang)"
      ],
      "execution_count": 10,
      "outputs": [
        {
          "output_type": "stream",
          "name": "stdout",
          "text": [
            "[[ 0  0  0  3  4  2]\n",
            " [ 0  0  0  2  5  6]\n",
            " [ 7  8  9 10 11 12]]\n"
          ]
        }
      ]
    },
    {
      "cell_type": "code",
      "metadata": {
        "id": "wyAMbLCfVXeI"
      },
      "source": [
        "#0 ditambahkan di akhir sequence, gunakan parameter padding dengan nilai ‘post’\n",
        "#maksimum panjang setiap sequence dengan parameter maxlen\n",
        "sequences_samapanjang = pad_sequences(sequences, \n",
        "                                      padding='post',\n",
        "                                      maxlen=5)"
      ],
      "execution_count": 12,
      "outputs": []
    },
    {
      "cell_type": "code",
      "metadata": {
        "colab": {
          "base_uri": "https://localhost:8080/"
        },
        "id": "CxeXv3jkVpNO",
        "outputId": "0abd89dc-f2ce-49a3-f9e9-8c8fd1e866bf"
      },
      "source": [
        "#Jika teks memiliki panjang > parameter maxlen misalnya 5, maka secara default nilai dari sequence akan diambil 5 nilai terakhir atau 5 kata terakhir saja dari setiap kalimat\n",
        "#Untuk mengubah pengaturan ini, gunakan parameter truncating dan mengisi nilai ‘post’\n",
        "print(sequences_samapanjang)"
      ],
      "execution_count": 16,
      "outputs": [
        {
          "output_type": "stream",
          "name": "stdout",
          "text": [
            "[[ 3  4  2  0  0]\n",
            " [ 2  5  6  0  0]\n",
            " [ 8  9 10 11 12]]\n"
          ]
        }
      ]
    },
    {
      "cell_type": "code",
      "metadata": {
        "id": "z--hkO73WO2w"
      },
      "source": [
        "sequences_samapanjang = pad_sequences(sequences, \n",
        "                                      padding='post',\n",
        "                                      maxlen=5,\n",
        "                                      truncating='post')"
      ],
      "execution_count": 17,
      "outputs": []
    },
    {
      "cell_type": "code",
      "metadata": {
        "colab": {
          "base_uri": "https://localhost:8080/"
        },
        "id": "rdLBpwdRWSQK",
        "outputId": "cdaf50b2-6f07-47ae-fa87-e158409f50ae"
      },
      "source": [
        "print(sequences_samapanjang)"
      ],
      "execution_count": 18,
      "outputs": [
        {
          "output_type": "stream",
          "name": "stdout",
          "text": [
            "[[ 3  4  2  0  0]\n",
            " [ 2  5  6  0  0]\n",
            " [ 7  8  9 10 11]]\n"
          ]
        }
      ]
    }
  ]
}